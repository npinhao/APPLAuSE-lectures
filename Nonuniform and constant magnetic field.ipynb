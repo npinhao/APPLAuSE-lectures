{
 "cells": [
  {
   "cell_type": "markdown",
   "metadata": {},
   "source": [
    "# Introduction"
   ]
  },
  {
   "cell_type": "markdown",
   "metadata": {},
   "source": [
    "In this notebook we will need two of the Maxwell equations in vacuum (in SI units):\n",
    "\\begin{align}\n",
    "\\nabla\\times\\vec{B}-\\frac{1}{c^2}\\frac{\\partial\\vec{E}}{\\partial t} &= \\mu_0\\vec{j} \\tag{Ampere's law}\\\\\n",
    "\\nabla\\cdot\\vec{B} &= 0  \\tag{Gauss's law for magnetism}\n",
    "\\end{align}\n",
    "and, off course, the force equation,\n",
    "$$ \\vec{F} = q\\left(\\vec{E}+\\vec{v}\\times\\vec{B}\\right) \\tag{Lorentz force}$$\n",
    "\n",
    "it is also convenient to recall how the divergence of a vector is written in cylindrical coordinates:\n",
    "$$ \\nabla\\cdot\\vec{A} = \\frac{1}{r}\\frac{\\partial}{\\partial r}(rA_r)+\\frac{\\partial A_\\theta}{r\\partial\\theta}+\\frac{\\partial A_z}{\\partial z} $$\n",
    "We will use also the Gauss theorem,\n",
    "$$ \\int_V \\nabla\\cdot\\vec{A}\\;dV = \\oint_S \\vec{A}\\cdot\\vec{n}\\;dS, $$\n",
    "and also the concept of magnetic moment, $\\mu$, which, for a closed loop of area $A$ and current $I$, has the value $\\mu = IA$.\n",
    "\n",
    "The subject of this notebook is covered in the bibliography in the following chapters:\n",
    "\n",
    "* Chen<cite data-cite=\"chen1974\"></cite>: chapter Two, section 2.3\n",
    "* Nicholson<cite data-cite=\"nicholson1983\"></cite>: chapter 2, section 2.3, 2.4 and 2.6\n",
    "* Bittencourt<cite data-cite=\"Bittencourt2004\"></cite>: chapter 3\n",
    "* Goldston<cite data-cite=\"Goldston1995\"></cite>: chapter 3\n",
    "\n",
    "The examples are prepared with the help of two scientific software packages, *Scipy*<cite data-cite=\"jones2001\"></cite> and *IPython*<cite data-cite=\"PER-GRA:2007\"></cite>."
   ]
  },
  {
   "cell_type": "markdown",
   "metadata": {},
   "source": [
    "# Type of nonuniformities"
   ]
  },
  {
   "cell_type": "markdown",
   "metadata": {},
   "source": [
    "We start by studying four types of space changes in $\\vec{B}$:\n",
    "<table style=\"width:90%\">\n",
    "<caption>Types of nonuniform magnetic field</caption>\n",
    "  <tr>\n",
    "    <td><img src=\"images/gradB.png\" style=\"width:200px;height:162px\"/>Grad B</td>\n",
    "    <td><img src=\"images/curvB.png\" style=\"width:200px;height:162px\"/>Curvature</td>\n",
    "    <td><img src=\"images/curvgradB.png\" style=\"width:200px;height:162px\"/>Grad B and curvature</td>\n",
    "    <td><img src=\"images/divB.png\" style=\"width:200px;height:162px\"/>Divergence B</td>\n",
    "  </tr>\n",
    "  <tr>\n",
    "  <td>1) $\\partial B_z/\\partial x,\\,\\partial B_z/\\partial y$</td>\n",
    "  <td>2) $\\partial B_x/\\partial z,\\,\\partial B_y/\\partial z$</td>\n",
    "  <td>1)+2)</td>\n",
    "  <td>3) $\\partial B_x/\\partial x,\\,\\partial B_y/\\partial y,\\,\\partial B_z/\\partial z$</td>\n",
    "  </tr>\n",
    "</table>"
   ]
  },
  {
   "cell_type": "markdown",
   "metadata": {},
   "source": [
    "# $\\nabla{B} \\perp \\vec{B}$: Grad B drift"
   ]
  },
  {
   "cell_type": "markdown",
   "metadata": {},
   "source": [
    "**Important**: $\\color{blue}{Assumption:} r_L \\ll B/|\\nabla B|$\n",
    "\n",
    "The magnetic field lines are straight but their density changes in the plane $\\perp$ to $\\vec{B}$.\n",
    "$$ \\vec{B} = \\vec{B}_0 + (\\vec{r}\\cdot\\nabla)\\vec{B} + \\cdots $$\n",
    "\n",
    "To simplify, we consider that $\\vec{B}$ varies only with *y*:\n",
    "$$ \\vec{B} = B_{gc,0}\\vec{u}_z + (y-y_{gc})\\frac{d B}{d y}\\vec{u}_z $$\n",
    "*Note*: according to Maxwell equations, as $\\nabla\\times\\vec{B} \\ne \\vec{0}$, to have this field we need distributed volume currents..."
   ]
  },
  {
   "cell_type": "markdown",
   "metadata": {},
   "source": [
    "## What happens? How is the movement?"
   ]
  },
  {
   "cell_type": "markdown",
   "metadata": {},
   "source": [
    "$\\color{red}{Discussion...}$"
   ]
  },
  {
   "cell_type": "markdown",
   "metadata": {},
   "source": [
    "We start from the Lorentz equation without electric field, $\\vec{F}=q\\vec{v}\\times\\vec{B}$. \n",
    "\n",
    "If we average on the gyroperiods, the $x$ average component is zero, $\\overline{F_x}=0$. For the y component, we have $F_y= - q v_x B_z(y)$. using the results of the previous notebook for $v_x$ and $y-y_0$:\n",
    "$$ F_y = -q v_\\perp \\cos(\\omega_c t)\\left[B_{gc,0}\\pm r_L\\cos(\\omega_c t)\\frac{\\partial B}{\\partial y}\\right] $$\n",
    "Averaging in a gyroperiod we obtain\n",
    "$$ \\overline{F_y} = \\mp\\frac{1}{2}qv_\\perp r_L\\frac{\\partial B}{\\partial y} $$\n",
    "(*Note*: $\\overline{\\cos^2(\\omega_ct)} = 1/2$).\n",
    "\n",
    "This force is responsible for a drift of the guiding center. Using the result from the previous notebook for the value of this drift we write\n",
    "$$ \\vec{v}_{grad} = \\mp \\frac{1}{2}\\frac{v_\\perp r_L}{B}\\frac{\\partial B}{\\partial y}\\vec{u}_x $$\n",
    "Finally, generalizing for a gradient $\\nabla{B} \\perp \\vec{B}$, we reach at the result\n",
    "$$ v_{\\nabla B} = \\pm \\frac{1}{2}v_\\perp r_L\\frac{\\vec{B}\\times\\nabla{B}}{B^2} $$\n",
    "\n",
    "---"
   ]
  },
  {
   "cell_type": "markdown",
   "metadata": {},
   "source": [
    "## Practice:"
   ]
  },
  {
   "cell_type": "markdown",
   "metadata": {},
   "source": [
    "Let's see how important is the assumption $r_L \\ll B/|\\nabla B|$. We can compute the trajectories for an arbitrary value of ${\\partial B}/{\\partial y}$ and see what happens... We start by importing some libraries:"
   ]
  },
  {
   "cell_type": "code",
   "execution_count": null,
   "metadata": {
    "collapsed": false
   },
   "outputs": [],
   "source": [
    "%matplotlib \n",
    "#inline\n",
    "import numpy as np\n",
    "from ipywidgets import interact\n",
    "from scripts.trajectories import *\n",
    "plt.style.use('ggplot')"
   ]
  },
  {
   "cell_type": "markdown",
   "metadata": {},
   "source": [
    "And we can compute the trajectory for a field with a perpendicular gradient:"
   ]
  },
  {
   "cell_type": "code",
   "execution_count": null,
   "metadata": {
    "collapsed": false
   },
   "outputs": [],
   "source": [
    "def gradB(Q, t, qbym, E0, B0, keywords):\n",
    "    \"\"\"Equations of movement for a grad-B magnetic field.\n",
    "    \n",
    "    Positional arguments:\n",
    "    Q -- 6-dimension array with (x,y,z) values of position and velocity on t-dt\n",
    "    t -- next time (not used here but passed by odeint)\n",
    "    qbym -- q/m\n",
    "    E0, B0 -- arrays with electric and magnetic field values\n",
    "    Keyword arguments:\n",
    "    dBdx, dBdy -- The gradient values in x and y, respectively.\n",
    "    \n",
    "    Return value:\n",
    "    Array with dr/dt and dv/dt values.\n",
    "    \n",
    "    Note: The condition rL/(grad(B)/B) == coeficients of Q[:1] << 1 should be obeyed.\n",
    "    \"\"\"\n",
    "\n",
    "    gradx, grady = \"grad\" in keywords.keys() and keywords[\"grad\"] or [0, 0]\n",
    "    x, y = Q[:2]\n",
    "    B = B0*np.array([1,1,1+x*gradx+y*grady])\n",
    "    \n",
    "    v = Q[3:]                                 # Velocity\n",
    "    dvdt = qbym*np.cross(v,B)                 # Acceleration\n",
    "    return np.concatenate((v,dvdt))\n",
    "\n",
    "def gradBdrift(gradx=0.2, grady=0.7):\n",
    "    \"\"\"Movement under a grad B perpendicular to B\"\"\"\n",
    "    re, rp = computeTrajectories(gradB, grad=[gradx/10,grady/10]) # NOTE the /10 !\n",
    "    plotGradB(re,rp,gradx,grady)\n",
    "\n",
    "dummy = interact(gradBdrift, gradx=(-2.5,2.5), grady=(-2.5,2.5))"
   ]
  },
  {
   "cell_type": "markdown",
   "metadata": {},
   "source": [
    "* Electrons and positive ions drift in oposite directions $\\Rightarrow$ **net current**!"
   ]
  },
  {
   "cell_type": "markdown",
   "metadata": {},
   "source": [
    "# Curvature drift"
   ]
  },
  {
   "cell_type": "markdown",
   "metadata": {},
   "source": [
    "$\\color{blue}{Assumption:}$ B field lines locally curved (but constant) with radius of curvature $\\vec{R}_c$.\n",
    "\n",
    "Achieved also with volume currents.\n",
    "\n",
    "Centrifugal force in the radial direction:\n",
    "$$ \\vec{F}_{cf} = \\frac{mv_\\parallel^2}{R_c}\\vec{u}_r = mv_\\parallel^2\\frac{\\vec{R}_c}{R_c^2} $$\n",
    "and using the equation above for a generic force:\n",
    "$$ \\vec{v}_{curv} = \\frac{mv_\\parallel^2}{q B^2}\\frac{\\vec{R}_c\\times\\vec{B}}{R_c^2}$$\n",
    "In 'vacuum fields' (without volume currents) B must fall in the perpendicular direction as $|B|\\propto 1/R_c$ and $\\nabla|B|/B= -\\vec{R}_c/R_c^2$. Thus,\n",
    "\n",
    "$$ \\vec{v}_{curv} = \\pm \\frac{v_\\parallel^2}{\\omega_c}\\frac{\\vec{B}\\times\\nabla B}{B^2} $$"
   ]
  },
  {
   "cell_type": "markdown",
   "metadata": {},
   "source": [
    "# Total drift"
   ]
  },
  {
   "cell_type": "markdown",
   "metadata": {},
   "source": [
    "* The curvature and grad drift add;\n",
    "* In opposite directions for charges of opposite signs;\n",
    "* Proportional to the particle energy.\n",
    "$$ \\vec{v}_d = \\left( \\frac{1}{2}mv_\\perp^2 + mv_\\parallel^2 \\right)\\frac{1}{qB^2}\\frac{\\vec{R}_c\\times\\vec{B}}{R_c^2}$$\n",
    "* For a Maxwellian isotropic distribution both terms give the same contribution."
   ]
  },
  {
   "cell_type": "markdown",
   "metadata": {},
   "source": [
    "# Gradient along $B$"
   ]
  },
  {
   "cell_type": "markdown",
   "metadata": {},
   "source": [
    "Let us analyse the case where the magnetic field increases along his direction, i.e. for $\\vec{B}=B_z\\vec{u}_z$, we have $\\partial B_z / \\partial z > 0$.\n",
    "\n",
    "As we must have $\\nabla\\cdot\\vec{B}=0$, (assuming, to simplify, that $B_\\theta = 0$) then $\\frac{1}{r}\\frac{\\partial}{\\partial r}(rB_r)< 0$.\n",
    "\n",
    "Assuming again that $r_L \\ll B/|\\nabla B|$, we can compute an *average* value for $\\overline{B_r}$. Taking a small cylindrical volume centered along a magnetic field line, integrating and using the Gauss theorem, we can write $\\pi(\\delta r)^2\\delta l(d B/d z)+2\\pi\\delta r\\delta l\\overline{B_r}=0$ and\n",
    "\n",
    "$$ \\overline{B_r} = - \\frac{\\delta r}{2}\\frac{d B}{d z}. $$\n",
    "\n",
    "Now, if $\\delta r$ is the Larmor radius, it is this field that intervenes in the Lorentz force. Taking the time average over the gyro-period, we obtain\n",
    "$$ \\overline{F_\\parallel} = - \\frac{|q|v_\\perp^2}{2\\omega_c}\\frac{d B}{d z} = -\\frac{W_\\perp}{B}\\frac{d B}{d z}. $$\n",
    "\n",
    "* Force in the direction opposite to the field gradient for **both** positive and negative charges."
   ]
  },
  {
   "cell_type": "markdown",
   "metadata": {},
   "source": [
    "## Magnetic moment"
   ]
  },
  {
   "cell_type": "markdown",
   "metadata": {},
   "source": [
    "In the previous notebook we have introduced the magnetic moment for the gyrating particle: \n",
    "$$ \\mu = \\frac{|q|v_\\perp^2}{2\\omega_c} = \\frac{m v_\\perp^2}{2 B} = \\frac{W_\\perp}{B}. $$\n",
    "\n",
    "Now, it is time to see the importance of $\\mu$. Let's look at the conservation laws for this case:\n",
    "\n",
    "* Angular momentum: As the force $\\overline{F_\\parallel}$ is constant, the angular momemtum, $\\vec{L} = m\\vec{r}_L\\times\\vec{v}$ is constant. Note that $\\vec{L} = m r_L v_\\perp\\vec{u}_\\parallel$;\n",
    "* Kinetic energy: In the presence of a static magnetic field, the total kinetic energy must be conserved.\n",
    "\n",
    "Both laws imply that the $\\mu$ is a constant of motion as we will show:\n",
    "\n",
    "* Conservation of the angular momentum: $\\vec{L} = m r_L v_\\perp\\vec{u}_\\parallel \\equiv (2m/|q|)\\vec{\\mu}\\,$ as $\\,d\\vec{L}/dt = 0 \\Rightarrow \\vec{\\mu}$ is constant;\n",
    "* Conservation of the kinetic energy: We start by using the above result we write\n",
    "$$ m\\frac{dv_\\parallel}{dt} = -\\mu\\frac{dB}{ds},$$\n",
    "where we have parameterized the distance along the field line, $s$. Multiplying both sides of this equation by $v_\\parallel=ds/dt$ we obtain\n",
    "$$ \\frac{d}{dt}\\left(\\frac{m v_\\parallel^2}{2}\\right) = -\\mu\\frac{dB}{dt}.$$\n",
    "\n",
    "For the total kinetic energy, we write\n",
    "$$ \\frac{d}{dt}\\left(\\frac{mv_\\parallel^2}{2}+\\frac{mv_\\perp^2}{2}\\right) = \\frac{d}{dt}\\left(\\frac{mv_\\parallel^2}{2}+\\mu B\\right) = 0 $$\n",
    "Using the above result we have\n",
    "$$ -\\mu\\frac{dB}{dt}+\\frac{d}{dt}(\\mu B) = 0 \\Rightarrow \\frac{d\\mu}{dt} = 0. $$\n",
    "\n",
    "* $\\mu$ is an invariant!\n",
    "* $v_\\perp$ has to increase when the particle moves to higher $B$ regions;\n",
    "* $v_\\parallel$ decreases as $v_\\perp$ increases."
   ]
  },
  {
   "cell_type": "markdown",
   "metadata": {},
   "source": [
    "## Magnetic mirrors"
   ]
  },
  {
   "cell_type": "markdown",
   "metadata": {},
   "source": [
    "This effect is used to confine plasmas. Let's supose that we have the a magnetic field with the following configuration of field lines:\n",
    "<img src=\"images/MagnMirror.png\" style=\"width:500px;height:456px\"/>\n",
    "The parallel velocity of a particle with energy $W$ and magnetic moment $\\mu$ has to obey the equation\n",
    "$$ \\frac{mv_\\parallel^2}{2} = W - \\mu B(z) $$\n",
    "and will have a reflection point at $z_{max}:\\,B(z_{max}) = W/\\mu$.\n",
    "\n",
    "**Are all particles trapped?**\n",
    "\n",
    "Let as consider a particle moving around a field line with and minimum value, $B_{min}$, in the midplane, $m$, and $B_{max}$ at the mirror throat. The limiting conditions to trap particles are (using the result above):\n",
    "\\begin{align}\n",
    "\\left.W_\\perp\\right|_m &= \\mu B_{min} = W B_{min}/B_{max} \\\\\n",
    "\\left.W_\\parallel\\right|_m &= W(1 - B_{min}/B_{max})\n",
    "\\end{align}\n",
    "Particles with higher value of $\\left.W_\\parallel\\right|_m/W$ can escape the trap! This condition defines a 'loss cone'.\n",
    "\n",
    "* Exercise: Show that the equation for the 'loss cone' is \n",
    "$$\\frac{|v_\\parallel|}{|v_\\perp|} = \\left(\\frac{B_{max}}{B_{min}}-1\\right)^{1/2} $$\n",
    "and this defines a critical angle.\n",
    "\n",
    "---"
   ]
  },
  {
   "cell_type": "markdown",
   "metadata": {},
   "source": [
    "## Practice:"
   ]
  },
  {
   "cell_type": "markdown",
   "metadata": {},
   "source": [
    "**Note:** The following code is still under development!"
   ]
  },
  {
   "cell_type": "code",
   "execution_count": 12,
   "metadata": {
    "collapsed": false
   },
   "outputs": [
    {
     "name": "stdout",
     "output_type": "stream",
     "text": [
      "Magnetic moment   Kinetic energy  rB_conf  rB_max  zM_conf\n",
      "   mu = 1.389       W = 1.889      1.200    1.360  44.721\n"
     ]
    }
   ],
   "source": [
    "%matplotlib qt4\n",
    "\n",
    "from mpl_toolkits.mplot3d import Axes3D\n",
    "\n",
    "def Motion(Q,t,qbym,gamma):\n",
    "    \"\"\"Equations of movement\"\"\"\n",
    "    global B0, mu, zMax\n",
    "    \n",
    "    r = Q[:3]; v = Q[3:]\n",
    "    drdt = v                                   # Velocity\n",
    "    vperp = np.sqrt(v[0]**2+v[1]**2)           # Perpendicular|B velocity\n",
    "    if np.abs(r[2]) <= zMax:\n",
    "        Bz = B0*(1+gamma*r[2]**2)\n",
    "        omega_c = np.abs(qbym)*Bz              # Cyclotron frequency\n",
    "        rLe = vperp/omega_c #; rLp = Mp/me*rLe # Larmor radius\n",
    "        Br = -rLe*B0*gamma*np.abs(r[2])\n",
    "        theta = omega_c*t\n",
    "        B = np.array([Br*np.cos(theta),Br*np.sin(theta),Bz])\n",
    "        dvdt = qbym*np.cross(v,B)              # Acceleration\n",
    "        dvdt[2] = - mu*2*B0*gamma*r[2]\n",
    "    else:\n",
    "        dvdt = np.zeros(3)\n",
    "    return np.concatenate((drdt,dvdt))\n",
    "\n",
    "def mirrorB(Bratio=1.2, vratio=0.6, gamma=1e-4):\n",
    "    \"\"\"Movement with a grad B parallel to B\"\"\"\n",
    "    global B0, mu, zMax\n",
    "    q = 1; me = 1; Mp = 10*me; B0 = 1; vpar0 = 1\n",
    "    # Initial values\n",
    "    vperp0 = vpar0/vratio\n",
    "    rL0 = vperp0/(q/me*B0)                     # Larmor radius\n",
    "    x0 = rL0; y0 = 0; vx0 = 0; vy0 = vperp0\n",
    "    r0 = np.array([x0,y0,0]); v0 = np.array([vx0,vy0,vpar0])  # Position and velocity\n",
    "    Wperp0 = me*vperp0**2/2                    # Perp. kinetic energy\n",
    "    mu = Wperp0/B0                             # Magnetic moment\n",
    "    W = Wperp0 + me*vpar0**2/2                 # Kinetic energy\n",
    "    BMax = Bratio*B0\n",
    "    BMax1 = W/mu\n",
    "    zMax = np.sqrt((BMax/B0-1)/gamma)\n",
    "    \n",
    "    tmax = 300; t = np.linspace(0,tmax,10*tmax)\n",
    "  \n",
    "    # Integrates the equations of movement\n",
    "    Q0 = np.concatenate((r0,v0))\n",
    "    Qe = odeint(Motion, Q0, t, args=(-q/me,gamma))  # electrons\n",
    "\n",
    "    # Plot the trajectories and Larmor radius\n",
    "    fig = plt.figure(figsize=(8,6))\n",
    "    fig.clf()\n",
    "    ax = fig.gca(projection='3d')\n",
    "    ax.scatter(r0[0],r0[1],r0[2],c='red')      # Starting point\n",
    "    # Legibility\n",
    "    ax.set_title(\"Trajectories\",fontsize=18)\n",
    "    ax.set_xlabel(\"X Axis\",fontsize=16); ax.set_ylabel(\"Y Axis\",fontsize=16)\n",
    "    ax.set_zlabel(\"Z Axis\",fontsize=16)\n",
    "    ax.text(17,15,200, \"$\\\\uparrow\\\\, \\\\vec{B}$\", color=\"red\",fontsize=20)\n",
    "    Q = Qe[np.where(Qe[:,2]<1.02*zMax)]\n",
    "    ax.plot(Q[:,0],Q[:,1],Q[:,2])              # Electron trajectory\n",
    "    # Final points\n",
    "    ax.scatter(Q[-1,0],Q[-1,1],Q[-1,2],c='green', marker='>')\n",
    "\n",
    "    print('Magnetic moment   Kinetic energy  rB_conf  rB_max  \\\n",
    "zM_conf\\n   mu = {:.3f}       W = {:.3f}      {:.3f}    {:.3f} \\\n",
    " {:.3f}'.format(mu,W,BMax,BMax1,zMax))\n",
    "    \n",
    "mirrorB()"
   ]
  },
  {
   "cell_type": "markdown",
   "metadata": {},
   "source": [
    "## Applications"
   ]
  },
  {
   "cell_type": "markdown",
   "metadata": {},
   "source": [
    "### In plasma machines"
   ]
  },
  {
   "cell_type": "markdown",
   "metadata": {},
   "source": [
    "<table>\n",
    "<tr>\n",
    "<td><img src=\"images/MagMirMach1.png\" style=\"width:250px;height:228px\"/></td>\n",
    "<td><img src=\"images/MagMirMach2.png\" style=\"width:250px;height:228px\"/></td>\n",
    "</tr>\n",
    "</table>"
   ]
  },
  {
   "cell_type": "markdown",
   "metadata": {},
   "source": [
    "### In Nature"
   ]
  },
  {
   "cell_type": "markdown",
   "metadata": {},
   "source": [
    "<img src=\"images/MagMirNature4.png\" style=\"width:450px;height:256px\"/>\n",
    "1 - Cyclotronic motion; 2 - Mirror effect; 3 - Curvature drift.\n",
    "\n",
    "<table>\n",
    "<tr>\n",
    "<td><img src=\"images/MagMirNature1.png\" style=\"width:250px;height:228px\"/></td>\n",
    "<td><img src=\"images/MagMirNature2.png\" style=\"width:250px;height:228px\"/></td>\n",
    "</tr>\n",
    "</table>\n",
    "\n",
    "New effect discovered in September 2012! - the Van Allen belts:\n",
    "\n",
    "<img src=\"images/MagMirNature3.png\" style=\"width:500px;height:300px\"/>"
   ]
  },
  {
   "cell_type": "markdown",
   "metadata": {},
   "source": [
    "# Nonuniform $\\vec{E}$ field"
   ]
  },
  {
   "cell_type": "markdown",
   "metadata": {},
   "source": [
    "To finish this notebook we still have to look at the case of a nonuniform electric field. So simplify let us assume a sinusoidal variation in the $x$ direction:\n",
    "$$ \\vec{E} = E_0 \\cos(kx)\\vec{u}_x, $$\n",
    "and we take $k$ such that the wavelength $\\lambda=2\\pi/k$ is large comparing with $r_L$.\n",
    "\n",
    "From the Lorentz force equation we have\n",
    "\\begin{align}\n",
    "\\dot{v}_x &= \\frac{q B}{m}v_y + \\frac{q}{m}E_x(x)  \\\\\n",
    "\\dot{v}_y &= -\\frac{q B}{m}v_x \\\\\n",
    "\\end{align}\n",
    "and, we focus our attention in the equation for $\\ddot{v}_y$:\n",
    "$$ \\ddot{v}_y = -\\omega_c^2 v_y - \\omega_c^2 \\frac{E_x(x)}{B}. $$\n",
    "To solve this we need to know the field at $x$ but this depends on the orbit equation that we are trying to obtain... That's when our approximation is needed: We use the *undisturbed orbit*, $x = x_0 + r_L\\sin \\omega_c t$.\n",
    "\n",
    "As before, we expect to have a drift, $v_E$, superimposed to a gyration movement. As we have done before, to find $v_E$ we average on the gyroperiods to obtain $\\overline{\\ddot{v}}_{x,y} = 0$. As this implies $\\overline{v}_x = 0$ (*Question*: why?) we only have a drift along $y$. \n",
    "\n",
    "To reach to a value for $v_E$ we need to average the $\\overline{\\cos(x_0 + r_L\\sin \\omega_c t)}$ term. After expanding the cosine, we need again our assumption, $k r_L \\ll 1$ to use a Taylor expansion. After some mathematics we obtain\n",
    "$$ \\overline{v}_y = - \\frac{E_x(x_0)}{B}\\left(1-\\frac{1}{4}k^2r_L^2\\right), $$\n",
    "where we have put $E_0\\cos(kx_0)=E_x(x_0)$.\n",
    "\n",
    "Or, in vector form,\n",
    "$$ \\vec{v}_E = \\frac{\\vec{E}\\times\\vec{B}}{B^2}\\left(1-\\frac{1}{4}k^2r_L^2\\right). $$\n",
    "This result introduces a correction frm the inhomogeneity on our previous result for the $\\vec{E}\\times\\vec{B}$ drift. \n",
    "\n",
    "For an arbitrary variation of $\\vec{E}$, this term has the value\n",
    "$$ \\vec{v}_E = \\left(1+\\frac{1}{4}r_L^2\\nabla^2\\right)\\frac{\\vec{E}\\times\\vec{B}}{B^2}. $$\n"
   ]
  },
  {
   "cell_type": "markdown",
   "metadata": {},
   "source": [
    "**Electrons and ions have different Larmor radius** $\\Rightarrow$ charge separation $\\Rightarrow$ possibility of plasma instabilities (*drift instability*)."
   ]
  }
 ],
 "metadata": {
  "kernelspec": {
   "display_name": "Python 3",
   "language": "python",
   "name": "python3"
  },
  "language_info": {
   "codemirror_mode": {
    "name": "ipython",
    "version": 3
   },
   "file_extension": ".py",
   "mimetype": "text/x-python",
   "name": "python",
   "nbconvert_exporter": "python",
   "pygments_lexer": "ipython3",
   "version": "3.4.3"
  }
 },
 "nbformat": 4,
 "nbformat_minor": 0
}
