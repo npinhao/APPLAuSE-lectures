{
 "metadata": {
  "name": "",
  "signature": "sha256:9a30c4eda49c299a1d46413a48feffda77771876c2691bc299e1a555b1cb70d0"
 },
 "nbformat": 3,
 "nbformat_minor": 0,
 "worksheets": [
  {
   "cells": [
    {
     "cell_type": "heading",
     "level": 1,
     "metadata": {},
     "source": [
      "Introduction"
     ]
    },
    {
     "cell_type": "markdown",
     "metadata": {},
     "source": [
      "We have left to the end the study of time-dependent fields. We start by analysing the case of $\\vec{E}$ and $\\vec{B}$ fields uniform in space but varying in time."
     ]
    },
    {
     "cell_type": "markdown",
     "metadata": {
      "slideshow": {
       "slide_type": "slide"
      }
     },
     "source": [
      "In this notebook we will need two of the Maxwell equations in vacuum (in SI units)<a id=\"Ampere\"></a>:\n",
      "\\begin{align}\n",
      "\\nabla\\times\\vec{B}-\\frac{1}{c^2}\\frac{\\partial\\vec{E}}{\\partial t} &= \\mu_0\\vec{j} \\tag{Ampere's law}\\\\\n",
      "\\nabla\\times\\vec{E}+\\frac{\\partial\\vec{B}}{\\partial t} &= 0 \\tag{Faraday law}\n",
      "\\end{align}\n",
      "and<a href=\"#rA\">,</a> off course, we the force equation<a href=\"#rF\">,</a>\n",
      "$$ \\vec{F} = q\\left(\\vec{E}+\\vec{v}\\times\\vec{B}\\right) \\tag{Lorentz force}$$\n",
      "\n",
      "We will use also the Gauss theorem,\n",
      "$$ \\int_S \\nabla\\times\\vec{A}\\cdot d\\vec{S} = \\oint_L \\vec{A}\\cdot d\\vec{l}, $$\n",
      "and also the concept of magnetic moment, $\\mu$, which, for a closed loop of area $A$ and current $I$, has the value $\\mu = IA$.\n",
      "\n",
      "The subject of this notebook is covered in the bibliography in the following chapters:\n",
      "\n",
      "* Chen<cite data-cite=\"chen1974\"></cite>: chapter Two, section 2.5 and 2.6\n",
      "* Nicholson<cite data-cite=\"nicholson1983\"></cite>: chapter 2, section 2.5\n",
      "* Bittencourt<cite data-cite=\"Bittencourt2004\"></cite>: chapter 4\n",
      "* Goldston<cite data-cite=\"Goldston1995\"></cite>: chapter 4\n",
      "\n",
      "The examples are prepared with the help of two scientific software packages, *Scipy*<cite data-cite=\"jones2001\"></cite> and *IPython*<cite data-cite=\"PER-GRA:2007\"></cite>."
     ]
    },
    {
     "cell_type": "heading",
     "level": 1,
     "metadata": {},
     "source": [
      "Time-dependent electric field, $\\vec{E}(t)$"
     ]
    },
    {
     "cell_type": "markdown",
     "metadata": {},
     "source": [
      "We start by considering the case in which only $\\vec{E}$ varies in time. **What do we expect to happen?**\n",
      "\n",
      "* We should still have a $\\vec{E}\\times\\vec{B}$ drift only that in this case $v_d$ changes with $\\vec{E}(t)$. I.e. there is a force in $v_d$ direction. Together with the magnetic field, this force induces also a drift but in the direction perpendicular to the $\\vec{E}\\times\\vec{B}$ drift and in the direction of $\\vec{E}$ ! Contrarily to this drift where the direction does not depends on $q$, this new component of the drift depends on $q$ and the drift of positive and negative charges creates a current. We will call it *polarization drift*.\n",
      "\n",
      "Let's try to find out the expression for this drift. To simplify we considere that $\\vec{E}(t)$ varies in time with a sinusoidal function. Let's take $\\vec{E}$ along the $x$ axis:\n",
      "$$ \\vec{E} = E_0 \\exp(i\\omega t)\\vec{u}_x. $$\n",
      "\n",
      "From the Lorentz force equation we have\n",
      "\\begin{align}\n",
      "\\ddot{v}_x &= -\\omega_c^2 v_x \\pm \\omega_c \\frac{\\dot{E_x}(t)}{B} \\\\\n",
      "\\ddot{v}_y &= -\\omega_c^2 v_y - \\omega_c^2 \\frac{E_x(t)}{B}\n",
      "\\end{align}\n",
      "with $\\dot{E_x} = i\\omega E_x$ and defining\n",
      "\\begin{align}\n",
      "v_p &= \\pm \\frac{i\\omega}{\\omega_c}\\frac{E_x}{B} \\tag{+}\\\\\n",
      "v_E &= - \\frac{E_x}{B},\n",
      "\\end{align}\n",
      "the above equations become\n",
      "\\begin{align}\n",
      "\\ddot{v}_x &= -\\omega_c^2 (v_x - v_p) \\\\\n",
      "\\ddot{v}_y &= -\\omega_c^2 (v_y - v_E)\n",
      "\\end{align}\n",
      "\n",
      "We can guess that the solution is a sum of a gyratory and a drift. As such we can try the following system:\n",
      "\\begin{align}\n",
      "v_x &= v_\\perp e^{i\\omega_c t} + v_p \\\\\n",
      "v_y &= \\pm i v_\\perp e^{i\\omega_c t} + v_E\n",
      "\\end{align}\n",
      "If we differenciate that system of functions, what we get is\n",
      "\\begin{align}\n",
      "\\ddot{v}_x &= -\\omega_c^2 v_x + (\\omega_c^2 - \\omega^2)v_p \\\\\n",
      "\\ddot{v}_y &= -\\omega_c^2 v_y + (\\omega_c^2 - \\omega^2)v_E,\n",
      "\\end{align}\n",
      "which is not the correct solution **unless** $\\omega \\ll \\omega_c$, i.e. the field $\\vec{E}$ varies slowly in comparison with the cyclotronic movement.\n",
      "\n",
      "We can generalize the equation (+) for an arbitrary variation of $\\vec{E}$ and write\n",
      "$$ \\vec{v}_p = \\pm \\frac{1}{\\omega_c B}\\frac{d\\vec{E}}{dt} $$\n",
      "\n",
      "**Note**: The $\\vec{E}\\times\\vec{B}$ drift oscillates with a frequency $\\omega$."
     ]
    },
    {
     "cell_type": "heading",
     "level": 2,
     "metadata": {},
     "source": [
      "Plasma dielectric constant"
     ]
    },
    {
     "cell_type": "markdown",
     "metadata": {},
     "source": [
      "This drift produces a **polarization current density**:\n",
      "$$ \\vec{j} = n_0 q(\\vec{v}_i-\\vec{v}_e) = \\frac{n}{B^2}(m_i+m_e)\\frac{\\vec{E}_\\perp}{dt} = \\frac{\\rho_m}{B^2}\\frac{d\\vec{E}_\\perp}{dt},$$\n",
      "with $\\rho_m$ the plasma mass density.\n",
      "\n",
      "This polarization current can be taken into account through a *dielectric constant* of the plasma. We can include this polarization current in <a href=\"#Ampere\">Ampere's law</a><a id=\"rA\"></a>. Combining with the E-field term,\n",
      "$$ \\frac{1}{c^2}\\frac{\\partial\\vec{E}_\\perp}{\\partial t}+\\mu_0\\frac{\\rho_m}{B^2}\\frac{\\partial \\vec{E}_\\perp}{\\partial t} = \n",
      "\\frac{1}{c^2}\\left(1+\\frac{\\rho_m}{\\epsilon_0 B^2}\\right)\\frac{\\partial\\vec{E}_\\perp}{\\partial t}$$\n",
      "and we define a *effective electric permittivity* perpendicular to the magnetic field as\n",
      "$$ \\epsilon = \\epsilon_0\\epsilon_r = \\epsilon_0\\left(1+\\frac{\\rho_m}{\\epsilon_0 B^2}\\right). $$"
     ]
    },
    {
     "cell_type": "heading",
     "level": 2,
     "metadata": {},
     "source": [
      "Practice:"
     ]
    },
    {
     "cell_type": "markdown",
     "metadata": {},
     "source": [
      "Let's see the actual movement. The base program is the same as we have been using and only the description of fields changes. In this case we use a field linearly dependent on t, $\\vec{E}(t) = E_0 t/\\alpha$."
     ]
    },
    {
     "cell_type": "code",
     "collapsed": false,
     "input": [
      "%matplotlib inline\n",
      "\n",
      "import numpy as np\n",
      "from scipy.integrate import odeint\n",
      "import matplotlib.pyplot as plt\n",
      "from IPython.html.widgets import interact\n",
      "\n",
      "def Motion(Q,t,qbym,alpha):\n",
      "    \"\"\"Equations of movement\"\"\"\n",
      "    global E0, B0    \n",
      "    v = Q[3:]\n",
      "    drdt = v                                   # Velocity\n",
      "    dvdt = qbym*(E0*t/alpha + np.cross(v,B0))  # Acceleration\n",
      "    return np.concatenate((drdt,dvdt))\n",
      "\n",
      "def polariz(alpha=500):\n",
      "    \"\"\"Movement with a time dependent E field perpendicular to B\"\"\"\n",
      "    global E0, B0    \n",
      "    q = 1; me = 1; Mp = 10*me; Bz = 1\n",
      "\n",
      "    r0 = np.zeros(3); v0 = np.array([1,0,0])  # Initial position and velocity\n",
      "    B0 = np.array([0,0,Bz])                   # Guiding center magnetic field\n",
      "    E0 = np.array([2,0,0])                    # The E field is E0*cos(w*t)\\vec{u}_x\n",
      "    \n",
      "    we = q*B0[2]/me; wp = q*B0[2]/Mp          # Cyclotron frequencies    \n",
      "\n",
      "    tmax = 500; t = np.linspace(0,tmax,10*tmax)\n",
      "  \n",
      "    # Integrates the equations of movement\n",
      "    Q0 = np.concatenate((r0,v0))\n",
      "    Qe = odeint(Motion, Q0, t, args=(-q/me,alpha))  # electrons\n",
      "    Qp = odeint(Motion, Q0, t, args=(q/Mp,alpha))   # ions\n",
      "\n",
      "    plotPolariz(Qe,Qp)\n",
      "\n",
      "def plotPolariz(Qe,Qp):\n",
      "    r0 = np.zeros(3)\n",
      "    fig = plt.figure(figsize=(8,6))\n",
      "    plt.plot(r0[0],r0[1],'ro')\n",
      "    plt.plot(Qe[:,0],Qe[:,1], Qe[-1,0],Qe[-1,1],'>')\n",
      "    plt.plot(Qp[:,0],Qp[:,1], Qp[-1,0],Qp[-1,1],'<')\n",
      "    plt.title(\"Trajectories for a polarization E field\",fontsize=\"x-large\")\n",
      "    plt.xlabel(\"x\",fontsize=\"large\"); plt.ylabel(\"y-y$_{gc}$\",fontsize=\"large\")\n",
      "    plt.grid()\n",
      "    dummy = plt.legend([\"e\",\"p\"])\n",
      "\n",
      "polariz()"
     ],
     "language": "python",
     "metadata": {},
     "outputs": [
      {
       "metadata": {},
       "output_type": "display_data",
       "png": "[encoded data removed]",
       "text": [
        "<matplotlib.figure.Figure at 0x7f61bb5b2080>"
       ]
      }
     ],
     "prompt_number": 58
    },
    {
     "cell_type": "heading",
     "level": 1,
     "metadata": {},
     "source": [
      "Time-dependent magnetic field, $\\vec{B}(t)$"
     ]
    },
    {
     "cell_type": "markdown",
     "metadata": {},
     "source": [
      "From the <a href=\"#Ampere\">Faraday law</a><a id=\"rF\"></a> we see that a time-varying magnetic field is accompanied by a space-varying electric field.\n",
      "\n",
      "We need to assume again small changes, i.e. that the fractional change in $\\vec{B}(t)$ is small in a time interval on the order of cyclotron period. We take the magnetic field along $z$, spatially uniform and increasing. As a result of the accompanying electric field the orbit is no longer circular. It will, however, be \"quasi\"-circular, the azimuthal component of $\\vec{E}$ small. In cylindrical coordinates and in this case, Faraday equation is\n",
      "$$ \\frac{1}{r}\\frac{\\partial}{\\partial r}(r E_\\theta) = -\\frac{\\partial B}{\\partial t} $$\n",
      "Integrating in $r$ (assuming B a slow function), we obtain\n",
      "$$ E_\\theta = -\\frac{1}{2}r\\frac{\\partial B}{\\partial t} $$\n",
      "which can be written as\n",
      "$$ \\vec{E}_\\theta = \\frac{1}{2}\\vec{r}\\times\\frac{\\partial\\vec{B}}{\\partial t} $$\n",
      "We could use these results in the Lorentz force to obtain the equations of movemente but we will use an alternative path:\n",
      "\n",
      "Taking the scalar product of the Lorentz force equation with $v_\\perp$, and integrating in one gyration period, we have the change in the kinetic energy in the period,\n",
      "$$ \\delta(\\frac{1}{2}mv_\\perp^2) = q\\oint \\vec{E}_\\theta\\cdot d\\vec{r} $$\n",
      "Considering the orbit (almost) close, using Stokes's theorem, we can replace the line integral by a surface integral,\n",
      "$$ \\delta(\\frac{1}{2}mv_\\perp^2) = q\\int_S (\\nabla\\times\\vec{E}_\\theta)\\cdot d\\vec{S} = -q\\int_S\\frac{\\partial\\vec{B}}{\\partial t} \\cdot d\\vec{S}$$\n",
      "Taking account of the opposing direction of $\\vec{S}$ for negative and positive charges, we have\n",
      "$$ \\delta(\\frac{1}{2}mv_\\perp^2) = |q|\\frac{\\partial\\vec{B}}{\\partial t}\\pi r_L^2 $$\n",
      "Using $\\delta B = (\\partial\\vec{B})/(\\partial t)(2\\pi)/\\omega_c$ and the definitions of $r_L$, $\\omega_c$ and $\\mu$ we get to the result\n",
      "$$ \\delta(\\frac{1}{2}mv_\\perp^2) = \\mu\\delta B $$\n",
      "and, as \\delta(\\frac{1}{2}mv_\\perp^2) = \\delta(\\mu B), the previous result implies that $\\delta\\mu = 0$ !\n",
      "I.e. in slowly varying magnetic fields, **the magnetic moment is invariant**.\n",
      "This also implies that for the *magnetic flux*, $ B\\pi r_L^2 = cte $: \n",
      "\n",
      "* the Larmor radius decreases as B increases.\n",
      "* the magnetic flux is also an adiabatic invariant.\n",
      "\n",
      "The conservation of $\\mu$ also implies that\n",
      "\n",
      "* the transverse kinetic energy, $W_\\perp$ increases linearly com $B$."
     ]
    }
   ],
   "metadata": {}
  }
 ]
}