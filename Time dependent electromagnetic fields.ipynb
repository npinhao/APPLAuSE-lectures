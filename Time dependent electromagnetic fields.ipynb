{
<<<<<<< HEAD
 "cells": [
  {
   "cell_type": "markdown",
   "metadata": {},
   "source": [
    "# Introduction"
   ]
  },
  {
   "cell_type": "markdown",
   "metadata": {},
   "source": [
    "We have left to the end the study of time-dependent fields. We start by analysing the case of $\\vec{E}$ and $\\vec{B}$ fields uniform in space but varying in time."
   ]
  },
  {
   "cell_type": "markdown",
   "metadata": {
    "slideshow": {
     "slide_type": "slide"
    }
   },
   "source": [
    "In this notebook we will need two of the Maxwell equations in vacuum (in SI units)<a id=\"Ampere\"></a>:\n",
    "\\begin{align}\n",
    "\\nabla\\times\\vec{B}-\\frac{1}{c^2}\\frac{\\partial\\vec{E}}{\\partial t} &= \\mu_0\\vec{j} \\tag{Ampere's law}\\\\\n",
    "\\nabla\\times\\vec{E}+\\frac{\\partial\\vec{B}}{\\partial t} &= 0 \\tag{Faraday law}\n",
    "\\end{align}\n",
    "and<a href=\"#rA\">,</a> off course, we the force equation<a href=\"#rF\">,</a>\n",
    "$$ \\vec{F} = q\\left(\\vec{E}+\\vec{v}\\times\\vec{B}\\right) \\tag{Lorentz force}$$\n",
    "\n",
    "We will use also the Gauss theorem,\n",
    "$$ \\int_S \\nabla\\times\\vec{A}\\cdot d\\vec{S} = \\oint_L \\vec{A}\\cdot d\\vec{l}, $$\n",
    "and also the concept of magnetic moment, $\\mu$, which, for a closed loop of area $A$ and current $I$, has the value $\\mu = IA$.\n",
    "\n",
    "The subject of this notebook is covered in the bibliography in the following chapters:\n",
    "\n",
    "* Chen<cite data-cite=\"chen1974\"></cite>: chapter Two, section 2.5 and 2.6\n",
    "* Nicholson<cite data-cite=\"nicholson1983\"></cite>: chapter 2, section 2.5\n",
    "* Bittencourt<cite data-cite=\"Bittencourt2004\"></cite>: chapter 4\n",
    "* Goldston<cite data-cite=\"Goldston1995\"></cite>: chapter 4\n",
    "\n",
    "The examples are prepared with the help of two scientific software packages, *Scipy*<cite data-cite=\"jones2001\"></cite> and *IPython*<cite data-cite=\"PER-GRA:2007\"></cite>."
   ]
  },
  {
   "cell_type": "markdown",
   "metadata": {},
   "source": [
    "# Time-dependent electric field, $\\vec{E}(t)$"
   ]
  },
  {
   "cell_type": "markdown",
   "metadata": {},
   "source": [
    "We start by considering the case in which only $\\vec{E}$ varies in time. **What do we expect to happen?**"
   ]
  },
  {
   "cell_type": "markdown",
   "metadata": {},
   "source": [
    "$\\color{red}{Class\\,discussion...}$\n",
    "\n",
    "$\\color{red}{...}$"
   ]
  },
  {
   "cell_type": "markdown",
   "metadata": {},
   "source": [
    "* We should still have a $\\vec{E}\\times\\vec{B}$ drift only that in this case $v_d$ changes with $\\vec{E}(t)$. I.e. there is a force in $v_d$ direction. Together with the magnetic field, this force induces also a drift but in the direction perpendicular to the $\\vec{E}\\times\\vec{B}$ drift and in the direction of $\\vec{E}$ ! Contrarily to this drift where the direction does not depends on $q$, this new component of the drift depends on $q$ and the drift of positive and negative charges creates a current. We will call it *polarization drift*.\n",
    "\n",
    "Let's try to find out the expression for this drift. To simplify we considere that $\\vec{E}(t)$ varies in time with a sinusoidal function. Let's take $\\vec{E}$ along the $x$ axis:\n",
    "$$ \\vec{E} = E_0 \\exp(i\\omega t)\\vec{u}_x. $$\n",
    "\n",
    "From the Lorentz force equation we have\n",
    "\\begin{align}\n",
    "\\ddot{v}_x &= -\\omega_c^2 v_x \\pm \\omega_c \\frac{\\dot{E_x}(t)}{B} \\\\\n",
    "\\ddot{v}_y &= -\\omega_c^2 v_y - \\omega_c^2 \\frac{E_x(t)}{B}\n",
    "\\end{align}\n",
    "with $\\dot{E_x} = i\\omega E_x$.\n",
    "\n",
    "Similarly to what we have done with the solution for an uniform electric field, we try to find the components of a \"drift velocity\" for this case, defining\n",
    "\n",
    "\\begin{align}\n",
    "v_p &= \\pm \\frac{i\\omega}{\\omega_c}\\frac{E_x}{B} \\tag{+}\\\\\n",
    "v_E &= - \\frac{E_x}{B},\n",
    "\\end{align}\n",
    "in order to write above equations as\n",
    "\n",
    "\\begin{align}\n",
    "\\ddot{v}_x &= -\\omega_c^2 (v_x - v_p) \\\\\n",
    "\\ddot{v}_y &= -\\omega_c^2 (v_y - v_E)\n",
    "\\end{align}\n",
    "\n",
    "We can guess that the solution is a sum of a gyratory and a drift. As such we can try the following system:\n",
    "\n",
    "\\begin{align}\n",
    "v_x &= v_\\perp e^{i\\omega_c t} + v_p \\\\\n",
    "v_y &= \\pm i v_\\perp e^{i\\omega_c t} + v_E\n",
    "\\end{align}\n",
    "\n",
    "If we differenciate that system of functions, what we get is\n",
    "\\begin{align}\n",
    "\\ddot{v}_x &= -\\omega_c^2 v_x + (\\omega_c^2 - \\omega^2)v_p \\\\\n",
    "\\ddot{v}_y &= -\\omega_c^2 v_y + (\\omega_c^2 - \\omega^2)v_E,\n",
    "\\end{align}\n",
    "\n",
    "which is not the correct solution **unless** $\\omega \\ll \\omega_c$, i.e. the field $\\vec{E}$ varies slowly in comparison with the cyclotronic movement.\n",
    "\n",
    "We can generalize the equation (+) for an arbitrary variation of $\\vec{E}$ and write\n",
    "$$ \\vec{v}_p = \\pm \\frac{1}{\\omega_c B}\\frac{d\\vec{E}}{dt} $$\n",
    "\n",
    "**Note 1**: The $v_E$ component is the usual $\\vec{E}\\times\\vec{B}$ drift, with the difference that now (because of $E_x(t)$ it oscillates with a frequency $\\omega$.\n",
    "\n",
    "**Note 2**: The $x$ component is a new drift along the direction of the $E$ field and is the _polarization drift_."
   ]
  },
  {
   "cell_type": "markdown",
   "metadata": {},
   "source": [
    "## Plasma dielectric constant"
   ]
  },
  {
   "cell_type": "markdown",
   "metadata": {},
   "source": [
    "This drift produces a **polarization current density**:\n",
    "$$ \\vec{j} = n_0 q(\\vec{v}_i-\\vec{v}_e) = \\frac{n}{B^2}(m_i+m_e)\\frac{\\vec{E}_\\perp}{dt} = \\frac{\\rho_m}{B^2}\\frac{d\\vec{E}_\\perp}{dt},$$\n",
    "with $\\rho_m$ the plasma mass density.\n",
    "\n",
    "This polarization current can be taken into account through a *dielectric constant* of the plasma. We can include this polarization current in <a href=\"#Ampere\">Ampere's law</a><a id=\"rA\"></a>. Combining with the E-field term,\n",
    "$$ \\frac{1}{c^2}\\frac{\\partial\\vec{E}_\\perp}{\\partial t}+\\mu_0\\frac{\\rho_m}{B^2}\\frac{\\partial \\vec{E}_\\perp}{\\partial t} = \n",
    "\\frac{1}{c^2}\\left(1+\\frac{\\rho_m}{\\epsilon_0 B^2}\\right)\\frac{\\partial\\vec{E}_\\perp}{\\partial t}$$\n",
    "and we define a *effective electric permittivity* perpendicular to the magnetic field as\n",
    "$$ \\epsilon = \\epsilon_0\\epsilon_r = \\epsilon_0\\left(1+\\frac{\\rho_m}{\\epsilon_0 B^2}\\right). $$"
   ]
  },
  {
   "cell_type": "markdown",
   "metadata": {},
   "source": [
    "## Practice:"
   ]
  },
  {
   "cell_type": "markdown",
   "metadata": {},
   "source": [
    "Let's see the actual movement. The base program is the same as we have been using and only the description of fields changes. In this case we use a field linearly dependent on t, $\\vec{E}(t) = E_0 t/\\alpha\\,\\vec{u}_x$."
   ]
  },
  {
   "cell_type": "code",
   "execution_count": 1,
   "metadata": {
    "collapsed": false
   },
   "outputs": [
    {
     "data": {
      "image/png": "iVBORw0KGgoAAAANSUhEUgAAAgUAAAGNCAYAAACBlwIlAAAABHNCSVQICAgIfAhkiAAAAAlwSFlz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\nmZ4WLoaL8gUAAAAASUVORK5CYII=\n",
      "text/plain": [
       "<matplotlib.figure.Figure at 0x7fd0a9b99128>"
      ]
     },
     "metadata": {},
     "output_type": "display_data"
    }
   ],
   "source": [
    "%matplotlib inline\n",
    "\n",
    "import numpy as np\n",
    "from scipy.integrate import odeint\n",
    "import matplotlib.pyplot as plt\n",
    "from ipywidgets import interact\n",
    "\n",
    "def Motion(Q,t,qbym,alpha):\n",
    "    \"\"\"Equations of movement\"\"\"\n",
    "    global E0, B0    \n",
    "    v = Q[3:]\n",
    "    drdt = v                                   # Velocity\n",
    "    dvdt = qbym*(E0*t/alpha + np.cross(v,B0))  # Acceleration\n",
    "    return np.concatenate((drdt,dvdt))\n",
    "\n",
    "def polariz(alpha=500):\n",
    "    \"\"\"Movement with a time dependent E field perpendicular to B\"\"\"\n",
    "    global E0, B0    \n",
    "    q = 1; me = 1; Mp = 10*me; Bz = 1\n",
    "\n",
    "    r0 = np.zeros(3); v0 = np.array([1,0,0])  # Initial position and velocity\n",
    "    B0 = np.array([0,0,Bz])                   # Guiding center magnetic field\n",
    "    E0 = np.array([2,0,0])                    # The E field is E0*t/\\alpha\\vec{u}_x\n",
    "    \n",
    "    we = q*B0[2]/me; wp = q*B0[2]/Mp          # Cyclotron frequencies    \n",
    "\n",
    "    tmax = 500; t = np.linspace(0,tmax,10*tmax)\n",
    "  \n",
    "    # Integrates the equations of movement\n",
    "    Q0 = np.concatenate((r0,v0))\n",
    "    Qe = odeint(Motion, Q0, t, args=(-q/me,alpha))  # electrons\n",
    "    Qp = odeint(Motion, Q0, t, args=(q/Mp,alpha))   # ions\n",
    "\n",
    "    plotPolariz(Qe,Qp)\n",
    "\n",
    "def plotPolariz(Qe,Qp):\n",
    "    r0 = np.zeros(3)\n",
    "    fig = plt.figure(figsize=(8,6))\n",
    "    plt.plot(r0[0],r0[1],'ro')\n",
    "    plt.plot(Qe[:,0],Qe[:,1], Qe[-1,0],Qe[-1,1],'>')\n",
    "    plt.plot(Qp[:,0],Qp[:,1], Qp[-1,0],Qp[-1,1],'<')\n",
    "    plt.title(\"Trajectories for a polarization E field\",fontsize=\"x-large\")\n",
    "    plt.xlabel(\"x\",fontsize=\"large\"); plt.ylabel(\"y-y$_{gc}$\",fontsize=\"large\")\n",
    "    plt.grid()\n",
    "    dummy = plt.legend([\"p\",\"e\"])\n",
    "\n",
    "polariz()"
   ]
  },
  {
   "cell_type": "markdown",
   "metadata": {},
   "source": [
    "# Time-dependent magnetic field, $\\vec{B}(t)$"
   ]
  },
  {
   "cell_type": "markdown",
   "metadata": {},
   "source": [
    "From the <a href=\"#Ampere\">Faraday law</a><a id=\"rF\"></a> we see that a time-varying magnetic field is accompanied by a space-varying electric field.\n",
    "\n",
    "We need to assume again small changes, i.e. that the fractional change in $\\vec{B}(t)$ is small in a time interval on the order of cyclotron period. We take the magnetic field along $z$, spatially uniform and increasing. As a result of the accompanying electric field the orbit is no longer circular. It will, however, be \"quasi\"-circular, the azimuthal component of $\\vec{E}$ small. In cylindrical coordinates and in this case, Faraday equation is\n",
    "$$ \\frac{1}{r}\\frac{\\partial}{\\partial r}(r E_\\theta) = -\\frac{\\partial B}{\\partial t} $$\n",
    "Integrating in $r$ (assuming B a slow function), we obtain\n",
    "$$ E_\\theta = -\\frac{1}{2}r\\frac{\\partial B}{\\partial t} $$\n",
    "which can be written as\n",
    "$$ \\vec{E}_\\theta = \\frac{1}{2}\\vec{r}\\times\\frac{\\partial\\vec{B}}{\\partial t} $$\n",
    "We could use these results in the Lorentz force to obtain the equations of movemente but we will use an alternative path:\n",
    "\n",
    "Taking the scalar product of the Lorentz force equation with $v_\\perp$, and integrating in one gyration period, we have the change in the kinetic energy in the period,\n",
    "$$ \\delta(\\frac{1}{2}mv_\\perp^2) = q\\oint \\vec{E}_\\theta\\cdot d\\vec{r} $$\n",
    "Considering the orbit (almost) close, using Stokes's theorem, we can replace the line integral by a surface integral,\n",
    "$$ \\delta(\\frac{1}{2}mv_\\perp^2) = q\\int_S (\\nabla\\times\\vec{E}_\\theta)\\cdot d\\vec{S} = -q\\int_S\\frac{\\partial\\vec{B}}{\\partial t} \\cdot d\\vec{S}$$\n",
    "Taking account of the opposing direction of $\\vec{S}$ for negative and positive charges, we have\n",
    "$$ \\delta(\\frac{1}{2}mv_\\perp^2) = |q|\\frac{\\partial\\vec{B}}{\\partial t}\\pi r_L^2 $$\n",
    "Using $\\delta B = (\\partial\\vec{B})/(\\partial t)(2\\pi)/\\omega_c$ and the definitions of $r_L$, $\\omega_c$ and $\\mu$ we get to the result\n",
    "$$ \\delta(\\frac{1}{2}mv_\\perp^2) = \\mu\\delta B $$\n",
    "and, as $\\delta(\\frac{1}{2}mv_\\perp^2) = \\delta(\\mu B)$, the previous result implies that $\\delta\\mu = 0$ !\n",
    "I.e. in slowly varying magnetic fields, **the magnetic moment is invariant**.\n",
    "This also implies that for the *magnetic flux*, $ B\\pi r_L^2 = cte $: \n",
    "\n",
    "* the Larmor radius decreases as B increases.\n",
    "* the magnetic flux is also an adiabatic invariant.\n",
    "\n",
    "The conservation of $\\mu$ also implies that\n",
    "\n",
    "* the transverse kinetic energy, $W_\\perp$ increases linearly com $B$."
   ]
  }
 ],
 "metadata": {
  "kernelspec": {
   "display_name": "Python 3",
   "language": "python",
   "name": "python3"
  },
  "language_info": {
   "codemirror_mode": {
    "name": "ipython",
    "version": 3
   },
   "file_extension": ".py",
   "mimetype": "text/x-python",
   "name": "python",
   "nbconvert_exporter": "python",
   "pygments_lexer": "ipython3",
   "version": "3.5.0+"
  }
 },
 "nbformat": 4,
 "nbformat_minor": 0
}
=======
 "metadata": {
  "name": "",
  "signature": "sha256:9a30c4eda49c299a1d46413a48feffda77771876c2691bc299e1a555b1cb70d0"
 },
 "nbformat": 3,
 "nbformat_minor": 0,
 "worksheets": [
  {
   "cells": [
    {
     "cell_type": "heading",
     "level": 1,
     "metadata": {},
     "source": [
      "Introduction"
     ]
    },
    {
     "cell_type": "markdown",
     "metadata": {},
     "source": [
      "We have left to the end the study of time-dependent fields. We start by analysing the case of $\\vec{E}$ and $\\vec{B}$ fields uniform in space but varying in time."
     ]
    },
    {
     "cell_type": "markdown",
     "metadata": {
      "slideshow": {
       "slide_type": "slide"
      }
     },
     "source": [
      "In this notebook we will need two of the Maxwell equations in vacuum (in SI units)<a id=\"Ampere\"></a>:\n",
      "\\begin{align}\n",
      "\\nabla\\times\\vec{B}-\\frac{1}{c^2}\\frac{\\partial\\vec{E}}{\\partial t} &= \\mu_0\\vec{j} \\tag{Ampere's law}\\\\\n",
      "\\nabla\\times\\vec{E}+\\frac{\\partial\\vec{B}}{\\partial t} &= 0 \\tag{Faraday law}\n",
      "\\end{align}\n",
      "and<a href=\"#rA\">,</a> off course, we the force equation<a href=\"#rF\">,</a>\n",
      "$$ \\vec{F} = q\\left(\\vec{E}+\\vec{v}\\times\\vec{B}\\right) \\tag{Lorentz force}$$\n",
      "\n",
      "We will use also the Gauss theorem,\n",
      "$$ \\int_S \\nabla\\times\\vec{A}\\cdot d\\vec{S} = \\oint_L \\vec{A}\\cdot d\\vec{l}, $$\n",
      "and also the concept of magnetic moment, $\\mu$, which, for a closed loop of area $A$ and current $I$, has the value $\\mu = IA$.\n",
      "\n",
      "The subject of this notebook is covered in the bibliography in the following chapters:\n",
      "\n",
      "* Chen<cite data-cite=\"chen1974\"></cite>: chapter Two, section 2.5 and 2.6\n",
      "* Nicholson<cite data-cite=\"nicholson1983\"></cite>: chapter 2, section 2.5\n",
      "* Bittencourt<cite data-cite=\"Bittencourt2004\"></cite>: chapter 4\n",
      "* Goldston<cite data-cite=\"Goldston1995\"></cite>: chapter 4\n",
      "\n",
      "The examples are prepared with the help of two scientific software packages, *Scipy*<cite data-cite=\"jones2001\"></cite> and *IPython*<cite data-cite=\"PER-GRA:2007\"></cite>."
     ]
    },
    {
     "cell_type": "heading",
     "level": 1,
     "metadata": {},
     "source": [
      "Time-dependent electric field, $\\vec{E}(t)$"
     ]
    },
    {
     "cell_type": "markdown",
     "metadata": {},
     "source": [
      "We start by considering the case in which only $\\vec{E}$ varies in time. **What do we expect to happen?**\n",
      "\n",
      "* We should still have a $\\vec{E}\\times\\vec{B}$ drift only that in this case $v_d$ changes with $\\vec{E}(t)$. I.e. there is a force in $v_d$ direction. Together with the magnetic field, this force induces also a drift but in the direction perpendicular to the $\\vec{E}\\times\\vec{B}$ drift and in the direction of $\\vec{E}$ ! Contrarily to this drift where the direction does not depends on $q$, this new component of the drift depends on $q$ and the drift of positive and negative charges creates a current. We will call it *polarization drift*.\n",
      "\n",
      "Let's try to find out the expression for this drift. To simplify we considere that $\\vec{E}(t)$ varies in time with a sinusoidal function. Let's take $\\vec{E}$ along the $x$ axis:\n",
      "$$ \\vec{E} = E_0 \\exp(i\\omega t)\\vec{u}_x. $$\n",
      "\n",
      "From the Lorentz force equation we have\n",
      "\\begin{align}\n",
      "\\ddot{v}_x &= -\\omega_c^2 v_x \\pm \\omega_c \\frac{\\dot{E_x}(t)}{B} \\\\\n",
      "\\ddot{v}_y &= -\\omega_c^2 v_y - \\omega_c^2 \\frac{E_x(t)}{B}\n",
      "\\end{align}\n",
      "with $\\dot{E_x} = i\\omega E_x$ and defining\n",
      "\\begin{align}\n",
      "v_p &= \\pm \\frac{i\\omega}{\\omega_c}\\frac{E_x}{B} \\tag{+}\\\\\n",
      "v_E &= - \\frac{E_x}{B},\n",
      "\\end{align}\n",
      "the above equations become\n",
      "\\begin{align}\n",
      "\\ddot{v}_x &= -\\omega_c^2 (v_x - v_p) \\\\\n",
      "\\ddot{v}_y &= -\\omega_c^2 (v_y - v_E)\n",
      "\\end{align}\n",
      "\n",
      "We can guess that the solution is a sum of a gyratory and a drift. As such we can try the following system:\n",
      "\\begin{align}\n",
      "v_x &= v_\\perp e^{i\\omega_c t} + v_p \\\\\n",
      "v_y &= \\pm i v_\\perp e^{i\\omega_c t} + v_E\n",
      "\\end{align}\n",
      "If we differenciate that system of functions, what we get is\n",
      "\\begin{align}\n",
      "\\ddot{v}_x &= -\\omega_c^2 v_x + (\\omega_c^2 - \\omega^2)v_p \\\\\n",
      "\\ddot{v}_y &= -\\omega_c^2 v_y + (\\omega_c^2 - \\omega^2)v_E,\n",
      "\\end{align}\n",
      "which is not the correct solution **unless** $\\omega \\ll \\omega_c$, i.e. the field $\\vec{E}$ varies slowly in comparison with the cyclotronic movement.\n",
      "\n",
      "We can generalize the equation (+) for an arbitrary variation of $\\vec{E}$ and write\n",
      "$$ \\vec{v}_p = \\pm \\frac{1}{\\omega_c B}\\frac{d\\vec{E}}{dt} $$\n",
      "\n",
      "**Note**: The $\\vec{E}\\times\\vec{B}$ drift oscillates with a frequency $\\omega$."
     ]
    },
    {
     "cell_type": "heading",
     "level": 2,
     "metadata": {},
     "source": [
      "Plasma dielectric constant"
     ]
    },
    {
     "cell_type": "markdown",
     "metadata": {},
     "source": [
      "This drift produces a **polarization current density**:\n",
      "$$ \\vec{j} = n_0 q(\\vec{v}_i-\\vec{v}_e) = \\frac{n}{B^2}(m_i+m_e)\\frac{\\vec{E}_\\perp}{dt} = \\frac{\\rho_m}{B^2}\\frac{d\\vec{E}_\\perp}{dt},$$\n",
      "with $\\rho_m$ the plasma mass density.\n",
      "\n",
      "This polarization current can be taken into account through a *dielectric constant* of the plasma. We can include this polarization current in <a href=\"#Ampere\">Ampere's law</a><a id=\"rA\"></a>. Combining with the E-field term,\n",
      "$$ \\frac{1}{c^2}\\frac{\\partial\\vec{E}_\\perp}{\\partial t}+\\mu_0\\frac{\\rho_m}{B^2}\\frac{\\partial \\vec{E}_\\perp}{\\partial t} = \n",
      "\\frac{1}{c^2}\\left(1+\\frac{\\rho_m}{\\epsilon_0 B^2}\\right)\\frac{\\partial\\vec{E}_\\perp}{\\partial t}$$\n",
      "and we define a *effective electric permittivity* perpendicular to the magnetic field as\n",
      "$$ \\epsilon = \\epsilon_0\\epsilon_r = \\epsilon_0\\left(1+\\frac{\\rho_m}{\\epsilon_0 B^2}\\right). $$"
     ]
    },
    {
     "cell_type": "heading",
     "level": 2,
     "metadata": {},
     "source": [
      "Practice:"
     ]
    },
    {
     "cell_type": "markdown",
     "metadata": {},
     "source": [
      "Let's see the actual movement. The base program is the same as we have been using and only the description of fields changes. In this case we use a field linearly dependent on t, $\\vec{E}(t) = E_0 t/\\alpha$."
     ]
    },
    {
     "cell_type": "code",
     "collapsed": false,
     "input": [
      "%matplotlib inline\n",
      "\n",
      "import numpy as np\n",
      "from scipy.integrate import odeint\n",
      "import matplotlib.pyplot as plt\n",
      "from IPython.html.widgets import interact\n",
      "\n",
      "def Motion(Q,t,qbym,alpha):\n",
      "    \"\"\"Equations of movement\"\"\"\n",
      "    global E0, B0    \n",
      "    v = Q[3:]\n",
      "    drdt = v                                   # Velocity\n",
      "    dvdt = qbym*(E0*t/alpha + np.cross(v,B0))  # Acceleration\n",
      "    return np.concatenate((drdt,dvdt))\n",
      "\n",
      "def polariz(alpha=500):\n",
      "    \"\"\"Movement with a time dependent E field perpendicular to B\"\"\"\n",
      "    global E0, B0    \n",
      "    q = 1; me = 1; Mp = 10*me; Bz = 1\n",
      "\n",
      "    r0 = np.zeros(3); v0 = np.array([1,0,0])  # Initial position and velocity\n",
      "    B0 = np.array([0,0,Bz])                   # Guiding center magnetic field\n",
      "    E0 = np.array([2,0,0])                    # The E field is E0*cos(w*t)\\vec{u}_x\n",
      "    \n",
      "    we = q*B0[2]/me; wp = q*B0[2]/Mp          # Cyclotron frequencies    \n",
      "\n",
      "    tmax = 500; t = np.linspace(0,tmax,10*tmax)\n",
      "  \n",
      "    # Integrates the equations of movement\n",
      "    Q0 = np.concatenate((r0,v0))\n",
      "    Qe = odeint(Motion, Q0, t, args=(-q/me,alpha))  # electrons\n",
      "    Qp = odeint(Motion, Q0, t, args=(q/Mp,alpha))   # ions\n",
      "\n",
      "    plotPolariz(Qe,Qp)\n",
      "\n",
      "def plotPolariz(Qe,Qp):\n",
      "    r0 = np.zeros(3)\n",
      "    fig = plt.figure(figsize=(8,6))\n",
      "    plt.plot(r0[0],r0[1],'ro')\n",
      "    plt.plot(Qe[:,0],Qe[:,1], Qe[-1,0],Qe[-1,1],'>')\n",
      "    plt.plot(Qp[:,0],Qp[:,1], Qp[-1,0],Qp[-1,1],'<')\n",
      "    plt.title(\"Trajectories for a polarization E field\",fontsize=\"x-large\")\n",
      "    plt.xlabel(\"x\",fontsize=\"large\"); plt.ylabel(\"y-y$_{gc}$\",fontsize=\"large\")\n",
      "    plt.grid()\n",
      "    dummy = plt.legend([\"e\",\"p\"])\n",
      "\n",
      "polariz()"
     ],
     "language": "python",
     "metadata": {},
     "outputs": [
      {
       "metadata": {},
       "output_type": "display_data",
       "png": "iVBORw0KGgoAAAANSUhEUgAAAgUAAAGNCAYAAACBlwIlAAAABHNCSVQICAgIfAhkiAAAAAlwSFlz\nAAALEgAACxIB0t1+/AAAIABJREFUeJzsvXl8HFeVsP20JMuWZe2yLMubFNvxljhOguNAtk7ibIQs\nhBAI8AYTGGAYQmYGmAkBBviGEAZ4Z4DMxzJLSAIkEAjMAAmOA0knIYudzXbseLclW5JXSda+9fL+\ncfq6qlvVrZbUa+k8P5/frXurVF3X1V331DnnnguKoiiKoiiKoiiKoiiKoiiKoiiKoiiKoiiKoiiK\noiiKoiiKoiiKoiiKoiiK4mq8QBCoy/B1xKMeucZ3pPhzSoHfAifDnzc/xZ+XTtYBw0k61wPAU0k6\nVzZ8zkR4L7AP8AP3A5cw9t+TN8G/CQIfGPslKoriRoKjyP5xnncKUAN4knCNhi8BB5J4vjzkGguS\neE4n/hE4DKwIf15eij8vnawjeUpBCVCWpHMBfAj5Dqf6c+IR63f1/Th/kw90A/cAs5HrHc/vyYsq\nBa4i1Q8qRQGotW2vAf4XWA0cCrdFP1QLgaEEzjsMHJvw1aWOKaTvGhcD28MyEcw1uw3Tr+40fV66\nPsfwN8BjUW19cY6vA4qBPyLKpCGbf0+KoriQCxlp3g4CdwAPI+bvX4bb7wHeAnqBg8APETO5wcvI\nt5RFyMOxA2gHngTOiLqGc4H1QCfy8N4InIe8kUa/bf1T+G9KgB8jD80B4BXgCts567Hehp4AeoBv\n4ew+mIWYl48BXcBfgIts+6cA/4ooTQNAK/AIsWmMuuanJ3jNTpyDDCBHkf+zTcBVca4JrPvzrvDx\n/cA2YG3UcecDzyGDWDvwc2Cmbf86IhWVcuBnQFP4b3YCfx91zgcQ8/0dyP+PHxkETTtY/XcSQ7zv\noNfh7+6P+nw7n0OsYoPAXuDOqP2NwNeA7wFtwBHg24xu9RnrW/g6h+u+mPH9npz+5lJgK3K/t4Tr\nailQFMWRWErBCeRtpwF5EAHcDVwQPvYyYAfysDV4iXwgzUIepP8/YkZfjJhQTwDV4WNWIA/4nyMD\n3WmIb/V8YBpwL/LwrwnL9PDf/Qp5oF8BLAG+izzcl4T314ev5RDy8KsHFjBSKShCBplf2T7/bmTQ\nXho+5u/D57kYmAu8DfgMsakGfgH4wtdcPoFrro/xGZcA/yd8jYuAfw6fa3Gc6/KGz78beGf4c/8L\nGcjNPatFFKOfIffmAmQgedZ2nnVEKgWzgH8AViH/xx9EFJV1tmMeQJS+x4CV4XPnh9s3hI8xrh0j\n88Of/WfbeeJ9B6cAnwr30ZyjxPb5G2zn+Ztwvz8GLAQ+gQyat9uOaUQG3n8IH3NLuN/2fjkRDP8f\nJMo05DtlFLaacF+8jP33FP03dcjv67+R78paREFQpUBRFEdiKQX/mcDfvhsZPA1eIh9IXwVeivob\nD5FvZT8F3ojzGU4xBYvCn3N1VPtryMMPrAH2i1HHmHajFKxDBuH8qOOeBv4tvP1dIgemRHiAyDfT\niVxzomxGBs1YeMPn/4itLR8Z/P45XP9nRAmzuzJXhv/uwnB9HaO7NL5H5CD8ADLATo867gFiBwD+\nDFHY4sUCRH8HY8UURH/OIeCbUcf8KxLoZ2gE/ifqmD8iFrR4BBEFoztK3hvnb+oZacHyMvbfU/Tf\nfB35/ditG9eiSkHOoDEFSrawyaHtJuBvkbemUuRBMwV5uzzicPxqxDUQ7c+dhmV9OBcxlY+F5eHy\nuaj254C3R7U59SP6GmsRN4mdqcgbFsBPkAFlb7h8Cvg9Y/P1J/OaQcz5X0NMwbXIs2Maic1ysA8s\ngfDnLQvXVwAvI+Z9w1bkLX8F4lqJJg95m34/MCd8HVOQQdXODuL71e18GbgSiXnptLWP9TvoRGn4\nOp3uxZ3h6x8AQoiiZaeV2NYbO3cjsTp2jiZ4fbFI5PcUzXLk/toVpRcmeB1KGlGlQMkWeqPqa4BH\ngW8An0V8mm8HHkQCEZ3wAH8CPu2wzzzoQyRvtoLTeaL7EU0eMljd6LDPDGBbEDfKFcgg/D3kjfp8\nJh7ANp5rBnnznQt8HnkTHEBcFrHuxViuYaz347PAXcDfAa8j/yd/j7yR2klUIbgF+AJi6rZbicbz\nHZwo0QG2IRKbSXKU8c/iiUUiv6dokvn7UjKAm6YtKe7iQsR3+U9IgNxeYN4of/MqEgTVgjwg7dIW\nPuY14HJiP7iGGGnaNxH9l0S1Xwy8Oco1RfMKEkfQ7XCN9jfPXsSUfCfi/10W/rx4hFJ0zSCBkD8A\n/hA+9xHk7TkR7JaJAiSoc0e4vg1RdqbYjjkLMeFvi3G+ixGz+k8QBWo/cDqR/U+UNeHzfBR4MWpf\nIt9BM4jHGwi7gGZG3otLkGsfGPEX2UEiv6do3kLur31suSCF16gkGVUKlGxlJ2Kyvh0ZRG8D/nqU\nv/l3ZED/X+SBXh8u78EamL6FBEz9HDGNLsQKNAR54NWG69VIYOA+JGjvB4iJeSny9r4ciQ4fCz9H\n3kYfRywB9cjA9AXghvAxn0f8rysQi8FHEfP67lHObR+YknnNALsQ//kZSIDfIyT+/PhH4BpEsfkh\ncl9/GN7374h5/QGkvxcicR/PEdvsvBOxoHgRZeDryEA01jfUWuS78hMkpqPWJuZzRvsOGsvCDeFj\ni2N81r3ITIiPId+/TwCfRKwQhom8YZdHXX8tVsDpeEnk9xSNub//gdzvy8PHK4qiOHIh4leODjR0\nCkL6/5A30h7kDfX9UX/rZeR0qPlIwJiZhtcIPIREqRtWI376HuQt7kXkbRzkTfbnyJtQ9JTEH9nO\nu4nIqXX14WuLzlzo1F6JDNbNSAR/MxIlf1Z4/8eRtzT7lMnriM9PiAy0m8g1O3EGMkj3IYrTJ5H/\nw/vj/I0XK8L91fA1bCNyWiSIUvRs+NwdyP2rtu1fR6RZvRSZttqJvMnfh3xX7OZzp/+P6HZzfdES\nsB0/2ncQJED0SLjd/H84fb6ZkjiEWB2iZ5QcYGTg5n9iTTGNRaxplb+L8zf1jLz33nDbWH5PTn9z\nGRIXMhAudUqiMmHuR3xkdjNnJfIQ2o382Oxa8BeAPYhmf2WarlHJPFchD5vS0Q5UMoKX7E9DrShK\nDnARcDaRSsG3kIhjEHOkmd6zHInYnYJov3tRt8hkYDZiqmzM8HUosfGiSoGiKEminkilYCeSTAPE\nX7YzvP0FREkwrMfyDyvuZR/yHYjOjqdkD15GmpYVRclicmlK4iysebdHsRSEOmSes6EZmROsuJtE\nI9+VzOFj5EwORVGymFw1s4eIP/1oPFOTFEVRFGVSk0uWgqNYWcRmY63m1ULk3OG54bYR1NXVhVpb\nW1N5jYqiKIqSTewjdgbKEeSSpeB3wIfD2x/GyhH+O2SaUCEyp3sxMdK2tra2EgqFXClf+cpXMn4N\n2j/tn/bPfeLmvk2G/jFGV2u2WgoeQbJ9VSMLifwTMtvgUSSRSyOSmhQkg9aj4dKPrFo26dwHjY2N\nmb6ElKL9y220f7mLm/sG7u/fWMlWpeDWGO2xIs2/QWRmMEVRFEVRxkguuQ+UOKxbty7Tl5BStH+5\njfYvd3Fz38D9/Rsrk201q1DYx6IoiqIorsfj8cAYxnq1FLgEn8+X6UtIKdq/3Eb7l7u4uW8g/aus\nrMTj8eS0VFZWJuX/I1tjChRFURQlLXR0dJDrVuSwRWDi50nKWXIHdR8oiqIoEXg8HlcoBU59UPeB\noiiKoijjQpUClzAZ/H5uRvuX27i5f27uG7i/f2NFlQJFURRFUQCNKVAURVEmORpTYKGWAkVRFEVR\nAFUKXIPb/WLav9xG+5e7uLlvEL9/zz3+OF+66iq+6vXypauu4rnHHx/z+Sd6jtbWVt7znvdQU1PD\naaedxn333TfmaxgLmqdAURRFUaJ47vHHefLOO7ln375TbV8Mb1987bVpOUcwGOS6667j3e9+N7/8\n5S85dOgQa9euZcmSJVx55ZVj6U7CaEyBoiiKMqlx8sd/6aqr+PqGDSOO/fJVV/HP69cndN6JnmPj\nxo3ccsstNDU1nWq799572bNnD/fff/+ofTDtjGGsV0uBoiiKokRRMDjo2J4/MJC2czQ1NdHa2kpF\nRcWptkAgwMUXX5zwNYwVjSlwCZPZ7+cGtH+5jZv75+a+Qez++adOdWwPTJuW8Lkneo758+fT0NBA\nR0fHKenq6uIPf/hDwtcwVlQpUBRFUZQorvzMZ/jiwoURbXcvXMgVd9yRtnOcd955lJSU8K1vfYv+\n/n4CgQDbtm3j1VdfTfgaxorGFCiKoiiTmlj++Ocef5yn7ruP/IEBAtOmccUddyQcZJiscxw+fJjP\nfvazPPPMMwwODrJ06VK+/vWvc9lllyXUh7HGFKhSoCiKokxqNHmRhboPXMJk9fu5Be1fbuPm/rm5\nb+D+/o0VVQoURVEURQHUfaAoiqJMctR9YKGWAkVRFEVRAFUKXIPb/WLav9xG+5e7uLlv4P7+jRVV\nChRFURRFATSmQFEURZnkaEyBhVoKFEVRFEUBVClwDW73i2n/chvtX+7i5r6B+/s3VlQpUBRFURQF\n0JgCRVEUZZKjMQUWailQFEVRlCykvr6eb37zm6xYsYLKykpuv/12BgcHU/qZqhS4BLf7xbR/uY32\nL3dxc98g+/v38MMPs2HDBvbt28fu3bv5+te/ntLPU6VAURRFUbIQj8fDpz/9aebMmUNFRQVf/OIX\neeSRR1L7mSk9e/ahMQWKoihKBKPFFHiSNFKOdfhpaGjgBz/4Addccw0A27dvZ/Xq1fT19Y04Nlkx\nBQVju0RFURRFmVxk8l3y4MGDEdt1dXUp/Tx1H7iEbPeLTRTtX26j/ctd3Nw3yO7+hUIhfvCDH9DS\n0kJ7ezv33HMP73//+1P6maoUKIqiKEoW4vF4+MAHPsCVV17JwoULWbx4MV/60pdS+5kpPXv2oTEF\niqIoSgTZmqegoaGB//7v/+ayyy4b9VjNU6AoiqIoSlJRpcAlZLNfLBlo/3Ib7V/u4ua+gfv7N1bc\nNvvgauC7QD7wX8C/ZPZyFEVRFGV8HDhwIO2f6aaYgnxgF7AWaAFeAW4FdtiO0ZgCRVEUJYJsjSkY\nC5qnYCTnAXuBxnD9F8ANRCoFSo7x3OOPs+H736dgcBD/1Klc+ZnPcPG112b6shRFUVyJm2IK5gCH\nbPXmcNukINf8Ytu2wSc/CcuWQV6eZAxzkkvedS33bHiSrz37Ve7Z8CSXvOvamMeefjrccQe0tGS6\nd2Mn1+7fWNH+5S5u7hu4v39jxU2Wgty2/Uwizj0XXn898ePX8hQX8nWWU0OQPEJ4IuRU2x6Rlx/y\n8J6bHTSNaO3DXs/Lg/x8KCgQmch2dH3KFJg6FQoLY5eKoihZgJuUghZgnq0+D7EWRLBu3Trq6+sB\nKC8vZ9WqVXi9XsDSGHOx7vV6s+p6YtW3b4fXX5c6+MJl/Po+FlLOp3mGbXgIUcsyPIQ4xnY8QC1L\nySPIUXYwe1aIn3xjCYRC+HbsgFAI7+mnS33XLggG8S5eLPXdu6W+cCEEg/j27IFAAO/8+eD3y/GB\nAN66OggE8DU2Sr22VvY3N8vfV1VJ/cgRqZeVSf3ECTl++nQYGsLX3g5+P968PKn39sLwMF6/Hy/g\ny8+HwkI5vrAQXzAIBQV4Kyul3t8PU6bI9RQV4evqgqlTpT/Tp+M7fBimTcO7cqXU9++X/eefL/Vt\n26R+xRVQWorvpZfSdv9z5fup/Zuc9YqKCuN7z1lKS0tP9cnn89HY2Diu8+T2/0IkBUig4eVAK7AJ\nDTTMOlL9u8vZ2xsIwOAgDA3FLs32wAD09VnS3x9Zj9fW2ws9PdDZKdaR0lIoK5PSLva2sjKorrZk\n5kyoqlILh6LkAJM50NAPfBp4EpmJ8N9MoiBDn893SgPOVsTXL0b/PILkERz1b0Lh73KQZ8njkpj7\nAV58AfkWGOwugizH9/zzcv+mT0/PB4ZComB0dUVKZ+fItoMH4cQJS44fh7Y2uVajJNTWwvz5kVJf\nD7NmgceTE9/PieDm/rm5b+D+/o0VNykFAH8Mi/sYHpY3vYEBq7Rvb9oEHR0j2wcG5OE/PDw2GRqK\nrPv98jYbDIrYt6PrMfbNDgQJhRUBP/mnYgJi4bGFiTxLkEui4mI9UWEkBRdHnSAYtEwH+flW3IAp\nndoSLc22iRmYMiVye6xy4ADs2RPZVlgI06ZJ3MG0aZHb0WXBGH/KHo91zpqasf0tyP9rZ6coCMeP\nw5EjojwcPAgvvyzl/v1y7KpVYlkAuPhi+X9TFCUryf5XqOSSGfdBKCQD9okT8oYVLV1dYtLt7o4U\ne1sgAEVFItOmWeVo21OnioxnoCosjBzwCgrkgW7EDIxOdYd9+YViH0jF1+4//xM+9rEYO+3KiVFY\nJlLat/3+kQqVU9t4ZGjIUuqcSvu2xxNbYbBvT58OxcVWOZ7t/PzEbkooJMrCli2itN53H7zznfDg\ng0m774qixGcyuw8yTygEmzfDX/4CW7fK29+hQyKFhWJqraoaKTU1UFJiyYwZkfWSEnmo54AZPBad\nnSTgLBg/110XZ6dRTMb6Np1L+P2xFQZ7W1+fxBWYsrdXbk5r68h2+7ap9/WJkmhiDmKVRiE4fFis\nBtu3y3XW1cn1TJ2a2f8vRVEcyd1RZnyk1lLwve/B3/4tnHUW3HYbnHEGzJsnMmNG6j6X7PeL/fa3\ncNNNEzmDD2tWwkgCgdy2Smf7/QPEetHeDs3N4hrYvx/27YMdO+Ctt2RfDHyAt6FBFJMTJ0QpMEqx\nUZbtZXW1KBBGiorS1s3xkBP3b5y4uW/g/v6ppSCT3HQT7N4NL70EX/qSPNjmzrVkzhyorISKCqs0\nMn16TlsCRuPJJ1N37q9+NbcVgpQTCkVaCbq7nQMKnYIOT5603F49PfJdjR7AL70UPvQh+X6b73l1\ndeT32ecD8+ANheRc5rwmgNFsb98ucQqtrZYUF8t56+qkrK+HxYstKSvLwH+sorgP945CzqQvpmBo\nSB5mzc2WtLTI21RHx0jx++WBW1bm7Me1S3S7iR0oLLRiCOJtT5mSVgUkFILychlnUsGzz0r8WlYT\nDIrZPFrMNMOxtDtNN3QSY/Lv75f7Pn26iNMURCcpK7OmI1ZVyU3MhPYVConC0NIiv6mWFisw08j0\n6bB8OaxZI3LRRTIrQlEmOWO1FKhSkC0MDopy0NUV6ceNJXZ/b3//yIEkep67fTsQkEHCKAumtGfj\nMxn5nMqx7MvLo68P/ut+a6aBPRvhROqm9Y5PBSmdEZ5pYJ/1EK8+2rF+f6SYAMLxtoVClmJmF7vC\nNlq7aSsqigwYHE2KihIPDsxFTPzC1q2wcaPICy/A+efDv/yLuPMUZZKiSkF8slcpmCBj8osFg87K\ngpl2aEr79nj2+f0QCnHkcIh775X/d3uC4rHUD7KPBZwWsd+kOL7nG3lWTgIj8eqJHGumF9pTFzu1\nJXKMUZKSdf9ykLT3r68PPvEJWWTjjTdS/nFuvn9u7hu4v38aU6CMTl6eNVUtDTz1U/j+hM/iwynQ\n8Mc/Bj4+4ZMruU4oJLMc3ngDnnsOnnpKYif+/d8zfWWKklOopUBJOddcA+vXp+bcf/4zXHZZas6t\nZBmBgMQTNDaKHDggsmuXBCeWlMDKlRJP4PWK+0AjUJVJjloKlPQRCsmDeng4pm/ePxSk2h9kdjit\n8Whiz1IYHUfg1FbdBuz2WIGTnqhte5t9NcTRRAeT9OD3S/Bte7sEEx49KrkNTI6DI0es7ePHJXiw\noUFmHzQ0iAJw++0y/beyMtO9UZScRy0FLsHn8+Fds0YerCdPWmKmnpkodLtEt0WnNo6V8tgueXni\nQ7f75G0SysvjeFse/uDoKoE9oDA6rmATvaxhekQbwOJFIfKMIhEKWWmNQw5t0ZkN4wkkpjxES3Qm\nyOh6jH2+w4dltcbR/tYEHRr3T3TmwujUx6meZRIMyvTC6HUTorZ9W7fiLSqysngaJaC315qiW1Ul\nayXMni1rKdTWWtuzZ0uSryxdhMnNfmk39w3c3z+1FEwmtmyRYKqODpmqNTws08fKymT6WHm5Nf3M\nRKEXFcnD12ybSPaiopEDUiIyyhv1n56CK6+MbCsulnFgyhTRNyByKYG8PBnHTZZfgKEhH8XFXqZN\nkzG7uxs++EH4138FUvFSn6jyEC1OilS0UuVU7+mRwXx4WJS1WOcx/ynRmQqd6qGQpSQUFo7ep/Hi\n8chgbv++Ra+0OHeumPPN4F9VJdtlZWqVUZQsQi0Fucyzz1oJYfLzYdkyeTjX1MgDd8YMGYFjlcXF\nMmiY6Yl2SWDAT4Q33oAbbpBMz8mmtlasylmD3Z0SSykYy7ZTyuJ4En2MWSJ5IgN+NGaqqX0tDPN5\n0VMli4sj8x6UlDjnQ3BqnzbN1cm8FCVd6JTE+LhLKTAMD0smuGPHRI4eFfOsyWPQ0+Nc9vZaUxKd\npKAgUkmIVhzs/nen1QTz8jhwKJ+du8U9ECD/VJlXkIcnL4+AR9qCobyw2z8E8g9PKEQwRNgFQOT+\nEKxdG6KyAss9ACPdBxD7DXm0N+dE9tsXPxoakn7HcheMdTvaLeAkiR5TWJjaN/Jg0HJJmTwaZkGv\nri6rjJZY7cPDlrXBngXULrHaiopUoVCUMOo+mIxMmYJv167k+sVCIRnwnJQF8xbrtFxyVNuj9wbx\n7Q6ST4A8rDLPP7ItOqjQvn2EHcxieUTbqvOhcklUUKF9217GCygcLeBwLHEE4xx4c96vmZdnWZ8c\nMgmOuX/Dw6IwnDwp7jETjGjkyBFrvQW7tLXJ/TbxCdFSWxtZr6pKirKU8/cvDm7uG7i/f2NFlQLF\nGY/HemMtLh73aYY3wvpnknFBPqLzFHzzdmB+Ms6tZB1Tplhv/2MhFBKLxYkTYjGzS1OTLOFsb+vu\nliDGBQtg/vxIMW0lJanpo6JkIZPNxuZO90GWcuiQPFMN5eUS9mCsvmbZBpOFN5wAkaDDGsuBgBgn\nCgvFojxzJnz84+5eDVlJA4ODkvvg4MFIaWqyyooKWLpUvrymPOccaVeULEdjCuKjSkEaGR6Gu++G\nn/1MrL3JRm+lknKCQdFud+6UJaJ37hS3xRtvyGqN558Pl18O73qXKglKVqJKQXxcqxRko1/shz+E\nT33Kqp92mrxkLVggFtvqapHycrEWm7i9YNDKh2TCArZu9XHGGV6GhyWw/eyz5RxuIRvvXzJxXf/8\nfsmi+NJLsH49vg0b8N5wgyzANN9dPi3X3bso3N4/DTRUsoZ3vUteqP7nfyQZ3f79Isnggx8UC4Si\nZISCAll98ayz4JOfhMcfB58PbrwRXn8901enKONGLQVKyrCveVBcLO7YRYskj83cuVBXJxZXExcw\nPBz598ZKYCY1mIUGPR5Z70DjCZSsoK8P/vhHsRIsXQoPPZTpK1KUU6j7ID6qFKSR55+HH/0Inn46\n+TEFGzbAFVck95yKkhDt7WICe/FFS972Nvirv4JbbtEMjUpWoUpBfFyrFGSbX2xoSHLmGGprxdK6\neLEkXDSJF6uqJJ4A4ife27zZx6pVXgIBsS6ceWZqrz/dZNv9SzY517+hIZl9cOCA+Lx27IBt2ySO\noLdXVmN8xztELroI35tv5lb/xkDO3bsx4vb+aUyBkhVMmSJu1p/8RCwGZrG7J59Mzvk7OyXhnaKM\nmaEh+TK2tlpy+DA0N4sS0NgoOQzq6mQlxoYGiZC96ipZjXHuXM2YqLiWyfbNdq2lINuwL8sA8kw9\n80w4/XSZNTBzplgKamok78D06RIjYOIG7CsyQ+Tqx8XFlnVBUQgGJevh8eOStMiU9u3jx2Xgb22V\nY2fNkkHfyOzZkUrAvHkatKK4AnUfxEeVgjQRDMKvfw2/+Q0891zyFy7S2+gyAgEx/5glvzs6Ets+\nflzK0lKZ3zpzZmRp3zYKQHW1pX0qistRpSA+rlUKss0v9qUvwT33yHZxMaxZEznzYO5cyf1SXm6t\n12NfPsAsOOj3S/nssz4uv9xLYaE7LbfZdv9GJRSSbIDd3ZFiFkGKavPt3Im3tNT52M5O8dOXlMgX\noqLCWvp7tPrMmZIeM8Omo5y7f2PAzX0D9/dPYwqUrODzn4eFC+G3v4VNG0M8+3SAvzwdoAA/+Vhl\nHpE5jT2MVNo8hBikjamIueE73wrxwQ86fGjUCo0xt/Py3KlZBAKRSyjby8FBaxVDJ4m3L5YUFMhA\nbmTGjMi6kfJyyVh1zjkj982YIftLSjRqX1GyABc+GePiWktBWti+Ha67Tky2w8Mjl0s2KyQCA30B\nPEEz+AcJkEcor4BQXj7B/IJTKwyG8hzMuE4Dtq1NVgGOOsYsmhC9aqPTdii8DrOTwmDOZT+v/Vj7\ntdmXaTbitM9+TKx95jPM+aPPOdp5zDnsyynby6lTJXCjqEjKsYjT3xQVZfztXFGU0VFLgZI6hofl\njbKnZ9RDp4XLIU8h/RQyFJpCIJiPP1iA31+AnwIC5BMgP2Kp5ERYuBDy4n1zo5dyNmKvDw9HihuI\nVliMD8bI0JAoQCai00kJMf9Hfr/8v9iXzDaWh/5+S1FQ5UBRXIVaClxCNvnF+npD3Pq+IJtf9TPc\n72d4IMCcWX6qysRl4An4yQv68QT8FOYHyA8P8KHwy7z9Jdms3nysZxPV08+juloSx8WdjujxnLJE\nnLIEONWd9mXIrZCU++f3W4O3XewD+sCA5S4wEl13aot3DIhyMGOGBJDMmBEpxcX4OjvxLlkS0eZ0\nXEQ9hwJIsun3l2zc3Ddwf//UUqBknMEhD9t25HPwaD4wlSVLoLIOysotV7JJbGR/UY3G47HagweP\nMG/eUs4+G0rPS0s3co+CApHp09P7ucPDVpxBT0+k9PZK+cYbEiDY0yMZAWMdZ5dQSJSDsjJnKS2N\nvc/sLy3VWAVFGQO5oYYnD9daCrKJgQFJXLRli4QhvPqqJIdLFnoLJwlDQ9bsBCNdXZF1J7Ef09sr\nFoiKCpmlUFU1snRqsy/KoSg5jE5JjI8qBWngwQdh3TrZLiuDc8+VwPOGBmuqeFWVvMQZq0GOWImV\nXCMQEMXvhN4jAAAgAElEQVSio0MsFG1tsUv7dmenWCkqKyWvwaxZI6W21touL9cvsZKVqFIQH9cq\nBdnkFwuFxELw+9/DK6+I5bixcaJn9QFeLrgA/vKXCV9i1pFN9y8V5Fz/gkFJkNTeLhkRjx6NlCNH\nIuq+vj68s2eLgjB7tmREjJY5cyROIsfIuXs3RtzeP40pUDLON74hyYtAEhadcYasaFhdbU1Nt8eV\nTZ8ucX7Rs+2M5OfD5s2wahWsWJG5fimTiLw8sRJUVsqXeDSefFKWTT56VFIpHzoksmWLlAcPiiJR\nVSUKwoIFct7Fiy2ZNUutDUrGmWzfQNdaCrKJJ56Ab30Ljh2T52N/vzzvSkstN6159nk81voG9nZ7\nPRi0JhT89rfyTFWUnCMQkHzfhw5BUxPs2QN790q5Z4/MEFm0SDTfVatEzjpLtGlFGSfqPoiPKgVp\n4Pnn4amnYN8+eQaaheeSweuvw9lnJ+dcipJVdHSIcrB9u5jGjJSWwgUXwKWXiixerBYFJWFUKYiP\na5WCbPGLBQKR1oDVq+Ftb5NVEhcsEOupmTFWVCQJ96ZNG319mmzpX6rQ/uU2KetfKAT798uqYs88\nA08/LT63D30IPv5xWWY0xei9y23cEFPwXuCrwFJgNfC6bd8XgNuBAPAZYEO4/VzgASSR3hPAnem5\nVCWa/HyZBfbKK/Dii/DCC/CHP8APfpCc87e1iZtXUSYFHo+k8Fy4ED7yEVESNm6En/wEli+HH/0I\nbr4501epuIhstBQsBYLAj4HPYikFy4GHEUVhDvAnYDEQAjYBnw6XTwDfB9Y7nNu1loJsobUVzjsP\nWlpk8D7tNHGJ2he3q6gQi+j06VZq/mhLgUnlD1ZZWQnnn5/e/ihK1vLcc3DTTTI7QlFi4AZLwc4Y\n7TcAjwDDQCOwF1gDNAEliEIA8BBwI85KgZJiCgtl5lV/v+SQaW21Uhf7/RJL1dcn+0pKJIXx8LDs\nA1EAogXkHBdckLl+KUrWEAzCn/8MX/gC3Hhjpq9GcRnZqBTEog542VZvRiwGw+FtQ0u4fVKRLX6x\nqipJXvTaaxJYvXWrzMp6/fXR/zY+PmbO9HLsWDKuMvvIlvuXKrR/E6S7W/xxjz8uCUDKyuCzn5XY\nghSj925ykSml4Cmg1qH9buD3ab4WJYnccw98+cuyvXy5ZDP867+GJUskp4s9R0FxceIL7Pl8oL9b\nZVLQ1QVvvQXbtkmO8JdeEg373HPhmmvgf/4HVq7UGQhKSsjmb9UzRMYU3BUuvxku1wNfQdwHzwDL\nwu23ApcAn3Q4Z+jDH/4w9fX1AJSXl7Nq1apTWqLP5wPQ+gTqnZ1w+LCXzZthyxYfx49Dd7eXtjYI\nBOR48IbLsdW/9jUfF1+cXf3VutbHVR8exvfoo9DainfGDNi3D98LL8CBA3i7u2H5cnxVVbBoEd7b\nboNVq/C9+GL2XL/Ws7ZuthvD88AffPBBcMmUxGeAzwGvhesm0PA8rEDDRUig4UZkNsIm4HE00DBj\nbN4Mv/kN7N4t+VmamyVT7OCgBBXagwfz8mTbfkvsGQ3tMQUAv/wlXH11evqhKBOiq0u+/HY5dEgS\nduzbJ5G4s2dLJK6ZXbBsmaT/rK8ffY6uoiSIG/IUvBsZ1KuBTuAN4JrwvruRKYl+ZNrhk+F2MyWx\nCJl98JkY53atUuDLEr/YqlUSQ5CfD+94h8wWWL5cgg/Ly0XMqrZjWQgpW/qXKrR/OUAgELkOwrFj\n1toHW7bgDYUsBcDvl9Sbc+dGyoIFogDU1+fMOgiuuHdxcHv/3DD74LdhceIbYYnmNeDMlF2RkjCb\nNllLJh86JAGHjz0m28PDEzv3m2/Ki5SiTJhQSBJqmNURY4l9EaT2dtFqnVZMPOssCXoxikBZmfr8\nlZxksn1rXWspyAb8flkI6aWXxHVw+LDkJKipsbIYGiktlUBDjydy8SP7okj5+db+oiK4886ceblS\n0kEwKFH5J0/KUsednda2vTx5cuRg394uqTerqiQBRlXVSKmsjBz4Z85MPDJWUbIEN7gPUokqBSmk\no0Oem4GAlOedJy7TmhrLbWDKkpLINMdGxuJSUHKQUAiGhmQw7+6Gnp7Rt50G+s5O2VdcPPLL5VQ6\nDfzTpmX6f0NRUo4qBfFxrVKQTX6xY8dkNtXLL4uYoMOBgYmc1Ucg4D0VnOg2sun+nRq4+/pGSm+v\nc7uRnh7Hwd13/Dhev1/aPB5rDe2SktG37cEo9rK0NGsC8rLq/iUZN/cN3N8/N8QUKDnK7t3wvvfJ\n0vE9PRJcOG+eBFW//e2Rz/Syssg0x6YsLLRcBnl5ltVg1y5cqxDExAzOAwMyfWNgwJKJ1GMN6PYB\nPz9fblBxsZSjSXGx5LOeP995cN+2Da64QrbVB6QoWYtaCpSksWmTDP7BoARYz5sHdXUyVkTHExgX\nwtSp8SVhRSAYFL+F3y+lEXs93r54x/r9EiU5NGSV9u1ktUUrAIOD4veO9q9MtD7aYF9UpL5zRXEJ\n6j6IjyoFaaCrS1ZJ3LRJFnTbtUtmH/T2ju08V7CBDVyVmotMNkVFVppGM+Da6/HazBu10Zbsa0tP\nOvOIoijJRJWC+LhWKcgGv9jPfga33y5W7+pqmZk1Z44EHRoLgRn3SktlLDQvr3YpLLS2PT3deDyw\n8dXnWXvpRc4fbFZcsr/1x7IGjCZOFgL7W71dEmlL5JjBQXydnXg9Hmcrgf0/J149kWOLikSMRSBW\nmWSFJBu+n6nEzf1zc9/A/f3TmAIlYwwOyhiXlycDflmZvAwbi3VJicQUlJRIferUkWOUsVwXFIjk\nl5bg8UBBafgEbsXni1zcIRQ6pTCcUhKit0erm+2ODqve3y/S1+dcmu2BAdHOElEgnEpjATGya5fM\nALC3FRXpVBNFyTIm2y/StZaCbKK7W2YdPP887NwJ+/eLdHSM/5y//CXcckvyrlEZhVDIUiJiKRCx\nFIr+fok07e0VMTMSTJvZHhgQrdGuKJjVskZrs5ucTFlSIpqkoiinUPdBfFQpSCF33AGPPirTyGfO\nlEDDmTPFOlBREVka14E9V4HZLiqSl9SCAsuCPWOGvlS6jkBgdMXBqa27WwJXjHR2StndLV8gu6Lg\npDw47TO5DCoqdHaE4irUfTBJybRfLBSSKYnHjkmyogULZHbazJnynK2osJ65xnJsdxmYun3RJDuZ\n7l+qmZT9y8+3BudkYFIXGyUhVnno0Mj2kyfFlNXRIX4t82VNpKysxLd9O953vtOVgaGT8rs5iVGl\nQEkKHg88+aTE5rW2igv5hRdkDYQXXpDF4drbx3/+X/0qaZequBWPx3IvzJkzvnOEQmKNaG8XBcGp\nNF9me/uxYxK3UVEhmvDMmaIdx9uuqsqa5EuKYphsBll1H6SInh646y6ZitjYKC9ec+dCba1zQrrS\nUssyYBeTvMisewBy3PLlGe2eooyO3y9KwvHjoiQcPx5/u6NDfhBGSZg9WxJ7OMmMGZnunZKjaExB\nfFQpSBF79sDpp8v2GWfA294mLoTqast9YMTuPojlLlAU1xMIyOJMx4/LKoxHjoiZrbVVVhMz2y0t\nEmBTVxepOMyfL0sw19fLjy1ZbhjFVahSEB/XKgXZ4BcLhWDfPpGDB8VisG+fzDxobJRn33goLYX/\n/d/M9y+VZMP9SyXavwkQCknsg11haGmxfmRNTVIWFlpKgpFFi2DJEtkep6tC711uo4GGSkZoa4OH\nHoLXXpNnVFOTvPiY9WzmzhULgnEfGGtBYaG1VHIoJHmIQJ5fJmbr/PMz0ydFyQo8HivL5bJlzseE\nQvIjbGy0FIXdu+HxxyXA5+hRyT2+ZIklK1fCihU620KJQC0FSlL4v/8XPvc52fZ64cILZTCvrbXc\nBmVlrgzOVpTsp69PfHy7dknykJ07YetWMeMtWwZnnw3nnANr1sCqVRoA6SLUfRAfVQpSRCgEb75p\nBRoePAjNzVZwdkeHWEDHwyOPwPvfn9TLVRQFRFnYuhXeeEPMfC++KCa+iy+Gyy6D668X14OSs4xV\nKdD3Npfg8/ky+vkmm25vr5XueHhY6v390ubxiBQWWplwTXp+k9o4L0+koEDaCgulzHT/Uo32L7fJ\n2f5Nny4mvb/+a/iv/4K33pJ5xO97nygLq1fjW7ECfvIT+UG7kJy9dylCYwqUpHD11fDssxIcfdll\nYoX8+MetKYllZRObaaC/W0VJE7Nnw623ivzwh+Ib/PnP4d57JWHIWWdl+gqVFKLuAyUpbN0qZv43\n34QDByRAurdXpmDbVwO2iz1PwZQpVsChnWnT4LbbZL+iKBnkpz+FL39ZfuA6jzhn0NkHSkZYuVIS\nDDU3SxbZQ4dg716xRpoZU62t4z/36tVJvVxFUcZKZaUsYqW4Go0pcAmZ9Iv198Pb3y5v8xddBP/4\nj/C730lg4apV8OEPw3e+A088YaU+bmqS5G5dXTA0JFMRQyFnWb3a/X4/7V9u49r+hUL4fvhDifT9\n5CfhscdcZyVw7b0bJ2opUCZMfr7kHcjLEwVhaEiCmru7xUVgggjtgYQeT+TAb1wILnveKEruMTAA\nGzeKFv/YY+IH/Nzn4D/+Q7MmTgIm2yNYYwpSSCgkOVIOHpSEa2Y69IEDIs3N4zvv4KDmV1GUlBAK\nyQ/ztddEnn8eXn1VkhqtXQvveY/kMFBtPWfRPAXxUaUgBQwOSnDyX/4iaY1N/MD06adWlj0l5eVQ\nXGwtm2ymJprshsaKAOJSqKsTl4SiKBOkowN27BBNfccOiQ5+/XUx9Z17rgz+F14IF1wAJSWZvlol\nSahSEB/XKgWZzN/9u9/BDTfI9jXXSN6T1atlvZaaGnm+TDSTodvzk2v/cpus6F8oJAP//v1imjOl\nMdn19cHSpZLBcOlSyTt+7rmiecchK/qWQtzeP519oKSd66+HzZvFDbljh1gh//AHmZZ47Jg8i4qL\nI6cjTp06Mq4AIrdBYps+8IHM9EtRsorhYflRNTdHSmOjpQQAnHaaSEMDnHkm3HyzKAJ1deoGUEZl\nsn1DXGspyDRDQ5Ja3Uw/PHjQWjL+xAmpNzWN/bzr1kkyNUVxLYGAtXyyWULZrIRoH/xPnBDT29y5\nMGeOVdbXW4pARYUO/EoE6j6IjyoFKeD734c775Tn1dlny9LuCxZI3SyGZKS8XAKYdWEkxdX09cmq\nhSdOjBzwo7fb2+WHUVsLs2ZJWVsrg75damtlCo+ijAF1H0xSMukXO/10UQb27BEXwtGjEmhYVRUp\nFRXiRogl8dIgu93vp/3LUkIhmWdrBvgTJxy3fbt34w2FrPZAAKqrLTGD/axZYtKfNctqmzkzqwf7\nnL13CeL2/o2V7P0mKjnD1VeL2Jd0b2oSF+fevbIA2969kuVwrNx/P3zkI0m/ZGUyEQhAZyecPCn+\nrLGWeXmi1ZoB3mxXVcHixZK5q7kZLr/cai8uVjO+kpNMtm+tug9SwI4d8JvfROYkOHpU3AQVFTIV\n0e5CmDFDpiCaKYlm2z4l0eORmVJXXSXHKJOQYBB6eiTtZVeXZMMy29HitM8M7D098mUsL7d8WPHK\n6LZp0zL9P6Eo40ZjCuKjSkEKKCqSJGgrV8Kll4qsXi1WUV3IaJIQCknCip4eyYCXaOk0mJu23l7R\nCEtLLSkpiazHai8psQb4khLRMBVlEqJKQXxcqxRk0i/W0gLr10sulKYma5XEjg5RGExMQXm5WAmc\n4gkKC60pimYdhIoKuP12eZ673e+X8v4Fg6K59fdLEJwp7dtO+3p6Eh/gTb7r4uIRpa+vD29Dw8j9\n8Qb5GTNyZjB38/fTzX0D9/dPAw2VtDNnDnz0ozI27NkjSoIJuj5wAHbtgt27JX/BWLnySpnJ4Ers\nA/WxY/KfZAZl+wAda9BOZGA35eCgmMHtqSTjlUVFMmhXVsK8eTEH+wgtL55ZyOcDFz94FcUtqKVA\nmRBdXZJL4KWXJJZr4UIZQ2bOHBmXVVZmjR8mvbGRrHEz+P2xB+LRBuqxHmsG6ujB2GmAtueDHk8Z\nb2qHoiiuRd0H8VGlIMk0N8OiRTK+XXihJFFbsABmz46cjmiCDYuLs9gi/PLLEkmeKCaK0i72Nvt2\naenIQV8HakVRUowqBfFxrVKQab9Ya6u4CUxGwyNHZHqikePHJc5gLFx9Nfzxj7Kdlv4FgzKV4uhR\n8YV0d1ti3u4HBiyTv1MZa5/HYykCRjmw1X19fXjnzo25P97fxqybQI0sINPfz1Tj5v65uW/g/v65\nIabg28C7gCFgH/ARoDO87wvA7UAA+AywIdx+LvAAMA14ArgzfZer9PRYuQn27pUx9fhxK67gxAlx\nLRi3QV7eyLUOTN1MR/R4xBWRVvLyZMnYFSuSe95QSPLW25UGu5LR3y9Zn04/3XlfZ6f8p0a3O9Xt\n28PDiSsV06dbN8ju40lk2yxkoShKzpONv+QrgD8DQeCb4ba7gOXAw8BqYA7wJ2AxEAI2AZ8Ol08A\n3wfWO5zbtZaCTPHrX8N73yszC665BpYsEddBdbUVVzBzpljSs9Zt4FYCAfHrJKJM9PXJDAJTRm/H\n2+f3j0+ZmDFDZhmYmQZm20hxsebDVpQJ4gZLwVO27Y3Ae8LbNwCPAMNAI7AXWAM0ASWIQgDwEHAj\nzkqBkmRWrICbboJXX4XHHpOZCAsWSAZXezxBVZUEGjoFrc+Yoe71lJCfbwUophK/P7bCEEuxaG+3\npjva3TT2en//SOUhWkbbZ6Y4lpVpEiJFSYBsVArs3I4oAgB1wMu2fc2IxWA4vG1oCbdPKjLlF1u2\nTJQBkBfPQ4fEjXDsmMQQ7NwJf/mLrJLY2irP+UT5xCfgRz+Sbbf7/XK6fwUF1uAbg3H1LxCwEhxF\nKw/RbS0tzu3d3eJ+6ewUrdO+fnd5eWTdqS26HmOaTE7fv1Fwc9/A/f0bK5lSCp4Cah3a7wZ+H97+\nIhJX8HAyP3jdunXU19cDUF5ezqpVq059IXw+H4DWx1AfGoKhIS9bt8Kzz/pobZX6sWPQ1eULL/7m\npaoKSkp8TJsG9fVeiouho8NHUREsX+5l2jTYt8+HxwOLF3vxeKCmxhee3p49/dV6GuvPPz9yv8eD\n9/rrx3e+DRugpwfvihXQ2YnvueekPneu1Ddvht5evCUlUm9slP3BoNRPnoSCArxhs5cvLw9KS/Eu\nXgx9ffgefFDqa9ZAZSW+Awekfs01crxTf3KgbsiW69H+jd4fn89HY2Mj4yFbDbbrgL8CLgcGwm13\nhUsTZ7Ae+AriPngGWBZuvxW4BPikw3k1piDJ3HQT/Pa34kZ417skP019vSybXF6uLmHFRYRCYrmw\nL67U3h4pTm3t7ZLQo6xs5BRWI1VV8qOZOTNSsiaBh5KruGFK4tXA/0UG9hO2dhNoeB5WoOEiJNBw\nIzIbYRPwOBpomDZ27ICHHpKYggMHJG9Baak836KXTi4tHZnmODq2IJFllBUl5/D7RZlwUhjMUszH\nj1ty7JjsmzFDlAO7whCtPJh6TU1WL8GsZAY3KAV7gEKgPVx/CfhUePtuJM7Aj0w7fDLcbqYkFiGz\nDz4T49yuVQp8WeIXCwZFMXjrLVEYduywpiu2toq7N1H+/Ge47DLZzpb+pQrtX26Tkv4Fg2J5MEpC\ntNIQXW9rE6tDXZ1MAZo923m7tlZyWGSyb1mE2/vnhtkHi+Ps+0ZYonkNODM1l6PEY+tWcR+89ZYE\nFTY3i6W0qkpmINTUiIXg/PPlpcc++2C0enV1pnunKBkkL88ysy1dOvrxfr8V4Xv4sGjhhw/Lj3T9\neqv96FHx7c2eLdOF5s+PlAULpF1dF5OSbLQUpBLXWgoywfCw9cJx5ZXwznfCBRfIEspjeBFRFCWd\nBALirjh8WLT4Q4dkelBTk5QHD0pK0poaS0kw5aJFIgsWaOKRHMEN7oNUokpBkjEvIW+8YT1Tjh6V\nmKp4MQWjlSUlYglVFCUD+P1iabArCo2NkrJ0zx6xSNTXw+LFoiQsXmzJ/PkaYZxFqFIQH9cqBdni\nFxsYkBeQpiYJPGxslPLAAZlKfviwHJMI3d2iJED29C9VaP9yGzf3z7Fv/f2wf78oCHv2WMrCrl3y\nw12xAs48U+SMM6TMUn+gm+8duCOmQMkRhofhF78An88KKGxrs5ZJNvlsSkvlZeKccyLbSkvFIuDU\nNnVqpnunKEpMiopirxPS3g7btsGbb4r84hdSr6iANWskwGjNGjj7bDmPklWopUAZNxs2wFVXyfTB\n226DSy6R3/r8+RqjpCiKjWBQLAkbN8oS5Rs3SmTyeedJQNKVV4qSoG6HpKPug/ioUpBEQiF48UV4\n7jl5ITCux8OHJS4gOqbApKOPF09gpLo6btZcRVFynZ4eeXg8+aRITw/cequ8YZypk8mShSoF8XGt\nUpAtfrGeHrEeHjxoxRIYaW4WhaGvb/Tz5OdLrJMhW/qXKrR/uY2b+5e2vm3fDj//uWRDO/NMuPde\nWLUq5R/r5nsHGlOgpJG2Nnj4YbEW7N0rcUf9/TJrwL44XWkpLFwo1sHoWAN73WzPmKFWREWZdKxY\nAd/4BnzlK3D//eJS+O534QMfyPSVTSomYin4K+A/gVnAVOBgUq4otbjWUpAJ/u7v5De7YgVcdx2s\nXQurV4ubQFMUK4oyIbZvhwsvlDnOmvhk3KTTUnAsXB5F1ivIBaVASSL33ANvf7tYCrZtg9/9TmYg\nBIMSEzBzppQmPmDGDOcl76PbSkpg+nRVLBRlUtPdLX5ENRumlYk8dj8KdCIrFF4G/CopV5RaXGsp\nyBa/WCgkcQPbt4vs3CluhdZWyVNw8mRi57n3XrjrLqueLf1LFdq/3MbN/Ut737q64L774N/+DR54\nQJZfTSFuvneQXkvBfyPLFH8N+OUEzqPkKEeOyLoHW7fK4L9vn1j6pk611j2orpbtxYstK4A9P4Hd\nYmBfPXH69Ez3TlGUtBEMwgsvwC9/CY88AldcAa+8Ag0Nmb6yScdELAW/QFwH/ciCRC8Arcm4qBTi\nWktBJpg3T2YUrF0L114rv+OGBh3QFUVJgMOH4emnRf74R3mDeO974cMflmQnSlJI55TEtcCfgGLg\n8+G2NuC+CZwz1ahSkETefBN+/WvYtEmmHDY1yVu/WebdxBM4xRQ4bZeW6horiuJKhobEpLhpk1gA\nXn5ZzIper6yPfuWVcPrpmb5KV5JOpeCDwFnAS0A98G/ApUiMQbbiWqUgG/xiwaCsk3LihMQQbN8u\nScz275d4gpYWWR4+EXbsiFwtNhv6l0q0f7mNm/s3pr6FQuJX3LbNkq1bZW31hQslg+Hq1VKuXJkV\nbwFuvneQ3piCnwPPA6uBR4Fy4GayWylQkkhXl6x78NZbMogfOiTK/5Ejsm/mTEl3XloKdXWwbNnI\ndQ7sKycat0NhISxZktGuKYoSD/uCSGYxpJ07RQnweKyFkM47D26/XZIQFRdn+qqVBEhEe/gu8CDw\nRoqvJR241lKQbo4cgdmzZfvDH4aLLpIl1mtrJbCwqkpnEilKzhIMiobf1GTJvn0jl062L5t8+umi\nDNTU6HziLCIV7oPvA+8DjgM/RSwEzeO5uCxAlYIkEQzCv/wLrF8v1kG/X4IM58+34glMWVUVOdPA\nSHGxKg6KkhF6ey2f3sGDkYN/U5OY/UpKRNOvr5fytNNk8F+0SH7oBZoQNxdIVUxBAZKg6EPAtcBG\nREF4DOgZ2yVmFNcqBZn2i508KcGGhw5JTMHx41Z55IjEGLS2Smrk0WhoEMuknUz3L9Vo/3KbrOnf\n8LD84FparB+d2baXQ0Pi06urkwF+wYJImT//lLk/a/qWItzev1TFFPiBP4TlDOBh4CfAD4BHgK8A\nLWO5UCX3CYXkpWL3brEoNjaKVfHYMbE8mqBDv9+yDsyaZVkNoi0FwSAEAnDxxRnrkqJkHwMDkT+q\neGV7u5jv6+pgzhyr9Hqtel2dBPuoiV9xINFvRRnwXsRSsBKxEDwINAGfBS4HcmGtS9daCtLNc8/J\nTKLqaln7YPFiecM3SYuMVFdDUZE+fxQFEE26p0e05bY2Efu202A/MGD9oMwPLFZZU5MVEf1K9pAK\nS8GvEdfB88CPgP9FEhYZ/h7oSvwSFTcwdaqsatjbK0shd3XJS0pxsVgBenpkFkFenqyaqIqB4joC\nAfGbmQHdaZB32i4slEAbE3Bj3z7zTLj88sjBvqxMfzxK2kjkm/Z5JH7gSJxjioHepFxRanGtpSBT\nfrGODkliZGKTDh0Sl2ZHhzz/2tutOAIzPdHuPgB5eQoExH3g98PnPgfXXBP5OW73+2n/MkR/vwzs\nHR1Wmcj2yZOi+ZaWQlUVvilT8DY0OA/00dvTpmW612Mia+9dknB7/1JhKfi2bftxJNAwmlxQCJQU\nUFEhKyXOmSMxBQsXQmenyMmTVnnkiAQPHjggsVDxuPjikUqBooxgeFi+YF1dImY7uuzqki+h0+Ae\nCsmXuLw8sjTbdXXiH3PaX1pqBcX4fOK3V5QcZ6w2qW6gJBUXkiZcaylIN6+8At//Prz0klgHZs+W\nmUszZ8pzs6xsZBndVlKi7s9JSSAgy+ImOqDHahseloG5rCyydGorK3Me9NWvpbicVKc5VqVAAeAj\nH5FVTdeuheuuswIN58yRDIX6nHUZoZAEvJlB2S7d3WNrHxiwpqMkOqA77dMBXVFGJdVKwQeR5EW5\nimuVgnT7xQIBsRK8/LI1HfHAAVn4bHg4cjGkqqrIpEVOiYxKS+XFrbLSOa7K7X6/lPXPvJWPNlAn\nsi8/3zlPtbmBcfb5du7Eu3attE2f7rqsVW7+frq5b+D+/qUipsCe5jiXFQIlieTnw4UXitgJhazF\nkN56SzKjHjgguQxaWiSZ0Wj89rdw442pue6cwLyVT2QAN9v9/WK6GW3wrq2VNLXxBvfCwvH3qa9P\n/POKomQ1muZYGRc9PfDUU5LieOdOSYl+5IhMrS4ulplUJr7AaYyxW4TtVmTzIjkp6OmBL38Zmpvl\nPzsYlCAAACAASURBVPDkSWswz8sb9e07oX2aS1pRJjWa5jg+qhQkgeFh66XxQx+ylkKfPVumVufY\njKvM8dZbEtluMAvMLFgg/5mVlZaYyEz7wD91asYuXVGU3CDVMQVgpTk+A0lilEtpjl2rFKTbL/bQ\nQ/DII7B5s7zwzpsnMneuKAaVlRJLYB/XTLzA9Oljjw9ztd+vpwffb36Dd/Zs8a+0t0dKW5sVeW93\nDXg8Iy0ETmU8mTHDShqRwqA9V98/3N0/N/cN3N+/VK194JTm+FNYaY7XkxtpjpUkcdttIiBW7+Zm\nkUOHZFw7ehR27LDGtLY2iTXo7Ix/3lmzxJI+Y0bq+5A1zJghC9CM5cEUCsHgoKUkxCq7uuTGdHeL\n9tbd7SyDg1Y6yliKQyLKhRGdGaAoOUkiv1p7muMHGZnmOA9Jc5wLj3HXWgoyxfHjsGuXtQqrWYit\nrc3KF2MkP1+s4DNmiJs7FJIshsGgtb1qFTz6qFrG047fbykN8ZQHI6Md4/ePVBQSUS5iHTd1qioZ\nijIOUuE+0DTHSgTt7fCpT8ELL8jzf/lyyU9gpK7OCjK0Jy7SWINJxPBwcpQLI6HQxKwX9sxZKXaV\nKEo2kY6YglzGtUpBOv1imzfD2WfLwH/TTZK4aNEiK55g5szkKwBu9/tp/0ZhaGhiCoZJddzZKa4S\np5Sbdi023r6yMiiI9Ly6+f65uW/g/v6lKqZAUU6xapVMf3/pJclHsHcvPPOMuA2OHRMpKrICDuMl\nq7MnLaqslL+ZVPEESmKYlQWrqiZ+LrNmgn1xDlOa7QMHYh/T1SVar11h8Ptl4Q/7l9lJKirUN6Zk\nNWopUJJKT49kNWxqkoRFjY1w8KC1guKhQ6OfQ2+RktWEQvJFd1IozEJL0TNI7FJY6KwsxFMmKivH\nN21HmfSo+yA+qhQkgVBIlkveuBFee01eqlpaJMh9cFCm2NstrU7itL+iQuMOFJcTCkFvb3ylwUnM\n+uMzZzpLdfXItvJyVSIUVQpGwbVKQTr9Yt/5Dnz+87BmDbz//ZK4aO5cCTKsrEzNc8jtfj/tX26T\nlv719sp0HyMnTkTWo6W/X9wtTkpDbe1IieHW0HuX27ghpuCfgeuBENAGrAOM0fkLwO1AAPgMsCHc\nfi7wADANeAK4M21XOwm5/nrYtg2efRbuukum2C9cKEpBTY0ls2bJ2789jmAi6fMVZVJTXCxSX5/Y\n8UNDsRWH116TvORHjoi/7+hRCeYxCsLs2dZ2R4fETJh6ZaWmznYx2WgpKEGWaAa4AzgL+BiwHMmk\nuBqYA/wJWIwoD5uAT4fLJ5D1GtY7nNu1loJM0d8v7oN9++T5YgINjx2T50xHh8RldXaKmP9+j8eS\n/HxRFvLzZTGkiy/ObJ8UZdIRDMqP1a4omO3otp4eURrmzhUxqUzt27NmyQ9ayThusBR027ZnACfC\n2zcgKZWHgUZgL7AGyapYgigEAA8BN+KsFChJJi9P4gBKS2XwLyiAKVNk9kFZmZWcaGhIFv7rjZHN\noj+cDqsnl1bSUBS3kJdnze6wr8fhxOCgTDUyKUybm+WtwOez2trbRyoO8+ZBQwOcdpqUxcVp6Zoy\nNrJRKQC4B/g/SObE88JtdcDLtmOaEYvBMJGrNraE2ycV6fSLPfcc3H8/bNokzwLz27e/JCxdagVV\nm8DqigqxUI4n5sDtfj/tX27j5v6N6NvUqTKoNzTE/qOhIVEcjNJw6BDs2QMbNohpsbFRHgZGQbAr\nCw0N4pMsSM/w5OZ7Nx4ypRQ8BdQ6tN8N/B74YljuAr4LfCRZH7xu3Trqwz658vJyVq1adeoL4fP5\nALQ+Sv2uu7xs3AiXXurjllvgppu8LFwIr7zifPyqVdl1/VrXutYTrxvG9PeFhfgaG6V+660j94dC\n+H7zGzh8GG9FBezfj++xx6Te3g7Hj+ObNQvmz8d74YWwdCm+nh6pv+tdme9fFtfNdmP4/3+sZGNM\ngZ35SIzAGYiCAPDNcLkeWZ2xCXgGWBZuvxW4BPikw/k0piAJdHWJwv/ii6L879sH+/dLXIA90NAk\nL4pOWuS0PWVKpnulKErW0N8vD5edO2VxFVPu2iVuh2XL4KyzLFmxQpNCxcANUxIXA3vC23cg7oP/\ngxVoeB5WoOEiJNBwIzIbYRPwOBpomHZCIQkkPH7cCjRsaRFlwVgLGxslt0s8tmyBlSvTccWKouQc\noZA8WN56C7ZulZzrW7ZIWtVFi0RBOPdceMc7JBd7oU53coNS8GtgCTLtcB/w18Cx8L67kSmJfmTa\n4ZPhdjMlsQixLHwmxrldqxT40uwXGxqS3+Lu3ZEZC5ubrXwr/f2R8QQm5bHdQlBaKuvVBIPiYrz5\nZufZTunuX7rR/uU2bu5fTvRtYEAUhc2b4dVXxYy5d6/kZH/HO+Cii+DSSx1zqOdE/yaAG2Yf3Bxn\n3zfCEs1rwJmpuRzFzsAAXHutrHuwaJFY7ebNk5USr7pKchVUV4sCUFKiCdUURUkD06bBOeeI3H67\ntHV3SzT0iy/Cd78LH/gArF4NV18NN9wAS5Zk9pqzlMn2yHatpSBd9PTAmWdKYPHatbJC4sKFEjhc\nWyvJ0mpqNF2xoihZRk+PTJv84x8lIUpdHXzoQ7BunaSEdilucB+kElUKkkRLC7zyigQZ7tsncQP2\nxEVTp1qBhuXl4j4wq8861U3brFmZ7pmiKK4nEICnn4YHHoD16+ETn4C773blEq2qFMTHtUpBNvjF\nTLBhW5sEFe7YYSkN+/eLmCRFsQgGnV0O2dC/VKL9y23c3D839w3A94tf4H38cXEzrF8v5k8X4YaY\nAiXLaW+X38/rr1tLIzc1SaDh1KmRq71WVUlCo5UrLeuAPcjQvj3exEaKoijjprYWfvpT+PGP4brr\nYPv2SZ2iebI9gl1rKUgX69fDNdfIbJ+rrpJ4gvnzLZk+PdNXqCiKMg5CIXlr2b3bVX5MtRQoKWXp\nUrjySnj5ZXjkEVEKFi6UhdtmzRqZvGj6dH37VxQlywkG4Z/+SaZR1dRk+moyymR7XLvWUpBuv18g\nYCUm2r9f3Aj2QEMjgYAVRGjEXp82zVIa3vlOsUA44Xq/pvYvp3Fz/9zcNwDfj3+M9xe/kIWeHntM\nFnNxEWopUNJCfr7E45iYnN5eWVm1tVVWV21vl+yFR46IwnDggLjqurtjn3PLFnj00bRcvqIok5nu\nbvjd7+CHP5TUyV//Onz0o2lbhCmbUUuBMib8fpnJ88ILMsjv2CEBhsPDMu139myJ26mqij/10AQc\naj4DRVHSQnMz/OlPkqPgmWfgwgvhYx+D6693tTKgUxLjo0rBBPnIR2Rq7803w403whlnwIIFMsBr\n7ICiKFlDc7MEP/l8ogycOCGpjq+/XmYZuDhhkR1VCuLjWqUgXX6/11+H73xH0hwfPy4BhvPni2Iw\nZ45kNKyuFktBdbW1PdFVEF3v19T+5TRu7l9O9O3kSfE/btwo8vLLskDLmjVwySWSfvWssxwXVsmJ\n/k0AjSlQUso558DDD8t2Z6eVp+DgQVHMDx4UhbytTcoTJyS+YNo0a2Ek4z7Iz5dZQKEQFBXBvfeK\ngqEoiuJIICBLKm/dKrJli5Tt7WK2PO88MWN++9vQ0KDmy3Ew2f7HXGspyCQdHRJkaFZH7OiI3G5r\nk+RG+/bJjIRY+Hyi1CuKMsnp6JB8Abt2Rcq+fRK8tHKlyFlnSdnQ4Ly8qqLug1FQpWCCHDokcTov\nvSS/2f37RXmfM8fKYmiWSXaqm+3yclfH9iiKEo9QCI4eteY0m3LvXhn8+/rg9NMlMcqSJZYsXgzF\nxZm++pxClYL4uFYpSIdfLBSylPF/+AcJNFy8WGIGUm2lc7vfT/uX27i5f+PqWygkQUeHDokcOBCp\nABw4IIN7Q4MssWrKhQtl8K+rS5vp3833DjSmQEkhHg888QQ8+CD85jdw332yroFJcTxnjnOQYXW1\nrmugKK4hFBLzvhnwjTQ3R24XF8O8eSINDSKXX25tl5RkuieKA5PtMe1aS0Em6O2V378JNGxpsQIM\n7YGGJ05IHgO7C6GoSM4RCkmG0aVL4d/+TfMWKErGCIWgq0sChJyktVXKQ4fE92cGfCeZO1cXQskS\n1H0QH1UKkkwwKM8KM8vASFtbZL21VdyF7e2xz9XeLgqDoihJZGhITPkm9/iRI7EH/Lw8yUBmMpE5\nybx5sqypkhOoUhAf1yoF6fKLvfKKuBBeeUUG+aYmGchraiKDC52kqsraNpaCRHG730/7l9uktX/B\noJjvnRYbcZKeHkkgYlYpmzUr9oDvYNLXe5fbaEyBkjK2bpVpwKefDn/3d3DRReIaVCuhooyTUEj8\ncHa/m9P28ePW2/6JEzJ4Ry9JWlMDZ545sq28XKfrKQmjlgIlYfx+WT/k97+HN96QRcUWLxbFoLZW\nXkBMWVMjlgGzBoI+kxTXEwxKRq9YA3us7YICKyLX/Gjs21VVkYN8dfXEU4QqkwZ1H8RHlYIk0tEh\nycUaG2XK8ZEjIkePipjYgp4eWRvB7kKIno1w7bVw220Z64qiCKGQzJE3mbeMJFLv7JSIe6eBPd6A\nP1ZfmqKMAVUK4uNapSCTfrHubpmB1NIiSkH0c/PECZmevG+fzEJwYs0aSVceC7f7/bR/Saa/P/EB\nPbptyhQrH7fJtmWvO7T5duzAe+21rnyD1+9mbqMxBUrKCIUkk+Gzz4r7YPt2UQaGh61ZSLNmWc/L\n+fMlC6nTc3T6dM1boIyCfWAfTaIHeog9qFdWit8r1v6pU8d+rYcPu1IhUCYfk+2x7FpLQTr43vfg\nb/9WTP3ve5+kHJ8/X2IGdIBXHEl0YHd6e4eRb+ijSXQiDEWZ5Kj7ID6qFEyApib42tfg6aclEHrh\nQnnhqq+PDDKsrbWmKI7npUvJMhIZ2J0GdR3YFSXjqFIQH9cqBen2i3V1SZ6CPXskwZkJMLQHGnZ0\nQGHhyBwFZtssihQIiOUh3rLJbvf7ZaR/fX1yEw8etBLamGhRez0YnPDArvcvd3Fz38D9/dOYAiUt\nlJbCOeeIgBVseOJE5MvjwYMy7uzbB88/HzvQMBiEf/zH9F3/pGR4GH70I8k+9dZbMuf9tNNgwQJJ\nXFNbC8uWwaWXyraRGTMyfeWKoqQJtRQoY2L7dslm+PrrlpWguVkyqc6dK4nT7EskO5X2bY3NSiNb\ntsCqVWK++au/gssuE//PaafpcrSK4lLUfRAfVQomwEc/CvffD7feCueeK4sYmVkHFRUabJgTNDXB\nM8+IVrd/v7WU7dSpkdYBI2ZOvd3vU1WlwSKKkiOoUhAf1yoF6fCL/cd/wL33iqtgxQpYtEheNOfN\ns4IMZ82SMSPZGQzd7vfLaP9CIUm8Ex1XcPiwlXnPvspVW9vIYBF70EhFhQSM2MS3axfeq66SLFaF\nhZnpZwpx8/fTzX0D9/dPYwqUlPHxj4scPgw7d4r7YM8esUrbMxp2d498wXQS+75Zs9TSkDE8HmsA\nX7p09ONDIUlTGa0omPLYMdi9G06etKS1VRbMOHlSlIIopSFhcalSoSjZwmR7DLvWUpAtBIMyXXHX\nLlEYdu8WMduxAg2ffx4uvDC916pkAJNG2K4wGOnocG6PlqlTRyoLxjpht1JEt1VUSISsLsShTCLU\nfRAfVQomSH8/vPaaWAr27ROXdHOzZWXu6LDSv8eyEtjbq6vF9aBT0pWEMKsKOikSZjteW0+PrDDo\npDDEUybMvqIiNWkpOYUqBfFxrVKQar/Y0BC8+93g80k8wYoVkrzotNMkpsA+4KdiRoHb/X7avzTh\n90uSDSeFIZ4yYU/G5KAw+Hp78Z5xRmyloqpKXB85qFBkzb1LEW7vn8YUKClhcFAC1ktK4PTTYfly\nWTK5vl6kqionn3fKZKOgwAqIHA8DA84Kw6ZNYiIz8RTRykRbm7hNjIJgN5c5bdvbdKEQJY1Mtm+a\nay0F6SAUgm3b4NVXpWxslNlsjY1ila2uljwF0VJdbQUe2leNnTYt0z1SlDQyNGQpCLGCNJ3aAoHE\nlIfKSutHV1kJ+fmZ7rGSBaj7ID6qFKSIwUHJZnj8uLwsmbK1VV6cdu2SMtZ//+CgBpUriiP9/bGV\nCLsy0dZm/QhPnhSrxMyZshCJk7Zub6+qEiuK4jrcpBR8Fvg2UA20h9u+ANwOBIDPABvC7ecCDwDT\ngCeAO2Oc07VKQTr9Yn6/ZDI06YuPHZNnUfSzyVhMzcuM3UpQVSVKQEGBxCe8973Z079MoP3LbbKu\nf36//ACPH48Uo7FHS3u7xDw4KBG+kyfxXnRRZFKrkhLXuDSy7t4lGbfEFMwDrgCabG3LgfeFyznA\nn4DFQAj4IfBRYBOiFFwNrE/j9bqenh749rfhySdh82Z5bixaJIGGs2dLuXp15KyCqiqdAaYoGaGg\nwMomlgiBgCgGTgpEczP86ldWQqvDh+VvnDJgmjU0jNTUqAkwx8hWVe9XwD8D/4tYAdoRK0EQ+Jfw\nMeuBryKKw9PAsnD7+wEv8EmH87rWUpBqfvUruOUWWLsW/uZv4Lzz5DevA76iTEJ6ekauphkthw+L\nUlFWZikMc+aIzJ1ryZw58hahD5OU4AZLwQ1AM7A1qr0OeNlWb0YsBsPhbUNLuF1JIjffDBs2wPr1\n8N3vSp6CkydlueMFC+Q3b7c82i2Q1dViMXCJtVFRlBkzxFS4aFH84wIBcWMYJaGlRWTzZvjDH8QK\n0dwsuSfq6iwlIVppmDtXHjIa95ByMvU//BRQ69D+RcQicKWtTYeSBEi1X8zjgSuuEDH09cnSyI2N\nkubYWB137Yq0QLa1yUyu6mqJLygslPOFQvLM+Oxn4bbbMtu/TKP9y23c3L8J9S0/X94Qampg5crY\nx/X3i7JglITmZgla8vmselubKA719ZHzoU19zpxxzbhw870bD5lSCq6I0X4G0ABsCdfnAq8BaxAL\nwDzbsXMRC0FLeNve3hLrg9etW0d9fT0A5eXlrFq16tQXwufzAWg9wfqmTT56e2HBAi9FRdDU5CMQ\ngCVLvFRVgd/vIz8f6uq8tLZCY6Mv7I6Uvwc535tvZkd/tK51rY+sG1L6eUVF+JrF4Ov90Iecj3/q\nKTh2DG9tLTQ2yv6//AVvf7/Ujx6F6mq8y5ZBQwO+UAhmz8Z7442weDG+zZsz17801s12Y2Mj4yHb\n38IPYMUULAceBs7DCjRchAQabkRmI2zi/7V379FRlecex7+RIoJIIcEIwWgSkIsQi1zqWV4K2qVH\nW6ittKvW1kuLXfVwVrGnrfXSdumxrnPUqm3tqr2prfZUPa6jeFnUorVG1FYUNYoEKLeA3BMkGEmA\nXOb88ezdvTPMDEyYmT37ze+z1l6zZ0+I+3FnZp79vs/7vrAQuJvUhYaqKeilRAKWLLFVd5ctC6Y4\nbm+3GQ1TzUOQborjfMx4KCJ93L59NiyqsTGYRGXt2mDhlYEDbVnXsWN7Po4ZYxNPOcqlIYkA64Bp\nBEMSb8CGJHZiww4Xecf9IYkDsdEH89P8PiUFvXTttXD77bZK4pln2hTHo0dbq6BqBUSkqCUSVtfg\nJwjh1drWrbO7mYkTobYWJk2ybcIEm00y5lxLCnLN2aSgLs/9Yn/7G1x3nc1mWF1tK+z63Xknnmgj\nn/wCw6OPzn2ikO/4oqb44s3l+FyODaDu+eeZWVNj07T627JlljhUVgZJwuTJNuxq1KhY3Qm5MPpA\nitDpp8PixTZTa0ODJdgbNtgohEWLgkLDHTssKQ+PQPCnOU7e/O6G8nKNRhKRiPTrZ3c61dUwe3Zw\nvKPDEgM/SbjvPrjqKvv56dN7bmVl0Z1/jsUn3ckNZ1sKikVnp41IWLHCtoaGYIrj5ubU/+Y3v4Gv\nf72w5ykikrVEwu6GXn892N54w8Zmn322bTNmFFWSoO6DzJQUHKbmZnjnnaCWx9+2bbPXPvjAign9\n1gB/WvWyMpuK3V+gzt/3Jz2LUWuciEigsxPeesuqsF94AV55xaZ4nTXL1pufMiXSDzglBZk5mxTk\nu9/vV7+Cu+6yboKPfcz+5sM1BRUVlgQMHZqfxdmc79dUfLHmcnwuxwZ5iK+jw5bSfuopWLDARkXM\nmQNXXmlrzheYagokL+6800b43HCDFeiOG2ejeQYOjPrMRESKSP/+cMYZtt16q/WhPvywzRE/ejRc\nc43VLhRp82hxnlX+ONtSkG9798KLL9q2cqXVCaxZY4uljRxpLQUjR9rmj0RI3gYMiDoKEZGIdHTA\nE0/AzTdbk+q999rdVZ6p+yAzJQU51N1tdQT+wmn+tmNH6hVa+/fv2bXQ1WUjfRYtsveIiIjzurrg\n17+GG2+Exx+Hs87K638u26RAA8EckTxlZyF0d9t2xBG2nsGgQdZyMGSILYzmb0OG2PG2NmhtDba2\nNti169Ba0aKIr5AUX7y5HJ/LsUEE8fXrB/PmwR//CBdfbOO8i4hqCuSQ7NgBTz4Jb75pw3ZXrLBV\nEktLe3YR+HMTTJp04LHSUi1yJiICwHnnWYKwYYMVaBUJdR/IQa1caTN+nnYaXHKJFRpOmGBf9PkY\naSAi4rwnnoBvfcuKs/J4t6SagsyUFPRCe7stb7xggc3dMWmSFdHW1NgkYCNGWHFhebnVBhRpUa2I\nSPT274ef/MS2p56yqZPzSElBZs4mBYUYS5xIBLMVrltnC5A1NtrcBdu3WxfD3r2WHKQbgeB3Jfjb\nMcccek2BxkrHl+KLL5djgwLGt3cvPPQQ3Hab3VHdc4/dVeWZ5imQvCkpsYmKTjwx/c+0t1tysH69\nDc9taLDJvhoaLHFIxdE8TUT6ukTCpkJ+6CF45BGb3fCee+Ccc4q2SbU4zyp/nG0pKJTWVpujYOVK\n2LTpwGGH/uYvipRpGzXKEubS0qijEhHJkb17bfW4Z56Bp5+2L/8vf9m2CAoK1X2QmZKCXti2DW65\nxf7Gt261+TbGj7c1QPwveH+dA3/Lx/LJIiJFZ/9+G5b10ks2u9vixXDKKXDBBfCpT9mSy1r7oGg5\nmxTks1/s5z+H+fPh0kth7txg5EEh/87Vrxlvii++XI4NsowvkYAtW2xlxNdfh5dfhqVLYcwYm4To\nE5+AT37SVnwrEqopkJybN8/qCJ59Fq67zroPEgkbgRCe3tjfysuDgsLBg9ViICIx5FdWv/OOJQFL\nl9pjZydMmwZTp8L3vgenn26ztDmir31cO9tSUGjNzTb6IHmKY3+a46Yme+zqChIE/7GszIbllpTY\nwmFjx0YdjYj0aU1NNivbsmX26G/HHGNjsKdOtURg2jSorIzVnY66DzJTUpBjiQTs3m3vqebmAzd/\nCGNDg60HkuzOO+Hb3y78eYtIH7Nvn93JrFoF//hHsK1aZR9OtbWWAIQ3B6qglRRk5mxSkO9+vz17\nrJbmjTdsAq7GRpuds7HR1j4oL7diw0xbWZk9DhuW/UyI6teMN8UXX7GKrb3dPpTWr7fJVMJf/lu2\nWD/ouHHWPDl2LIwbR11TEzPnzInV3X82VFMgOffjH8MPfgCnnmqtaOPG2bTd/pwFWuFQRAqis9PG\nQq9fH2zr1gX7u3bZsKjqatvGjrUPq3HjoKrKlmpNVlfnbELQG33t/4SzLQX59J3vwF13waxZMH26\nvb9qaoI5BvR+EpHDlkjYKmvvvZd627ABNm+2Zkn/Sz95q6jQgixJ1H2QmZKCXtqyBf7+dyvAXbMm\nmOa4o8OmNA5v/jTH4VEIfoGh3q8ifVRrq32ph7/oN27s+bxfPyvkS7WdcIJtAwZEHUmsKCnIzNmk\nIKp+v9bWnmsf+Pv+c38UwurVNhIhbNAgSzROOeXg/51Y9Wv2guKLN5fjO2hsra1217B1a8/H5GPd\n3TaNabov/MpKGDKkYHH5XL52oJoCKZCuLkv6GxvtPd/cHIxASH5sbrYEYNgw62pIJOzz4eSTnSju\nFXFPdzfs3GnZ/ZtvHvzLvqIi2EaOtMcpU3oeO9TVzyRSfe0KOdtSkE9798LChXZXX19v9TybNtlI\ngqoqS/7DUx0nP5aVqcVPJHKdnZaph5vzUjXxbd9umfyQIUE/4IgRPb/ww/v6si9q6j7ITElBlvbt\ns1kJx4yBr3zFkv/Ro62176ijoj47kT7MnyTEb5bzm+bSfem3tFjTXLoioPB27LFw5JFRRyg5oKQg\nM2eTgnz1iyUSNvrggQfsxmHKFFvoq7raRh+ccIJ9hnz0o/m9WXC930/xxVtO4uvsDPrbwl/y6fab\nmy0zT16VLNWXvD+RSC8qfXXt4k01BZJTJSU2HPGOO6xY8K23bOTB66/Do49awfD27dbFkO6zKDzN\nsb+fariwiFP27Dn0L/imJvjgA7uTT152dPhwG29/xhkH9s+pX05yTC0FkhPt7Qd2TW7caNMbL18O\nK1em/netrdY9IVLUurrg/fczV9QmPyYSqdcWT7c/bJhNDyqSQ+o+yExJwWFKJGzSMH8SsQ0bLAHw\nb3rCW0fHgZ99w4fbzVC/fjYU8cILo45I+qS2tvRf6KmOtbRYH1mmitrkx0GDVIAnkVNSkJmzSUE+\nawpefhkefxxefdXu/MHqCaqrbfSBX5eUvOWyKNn1fj/Fdxi6u7O/i+/qSp2xpnssLbWlPaOIL2Iu\nxwbux6eaAsmp55+Hc8+FL3wBbrnF1j/w5xsQyZuOjmAs/ObN9ug3SSV/ye/aZVWwqb7QKyvtjzb5\ntaOP1h+xSAp97V3hbEtBvuzZAzffDE8+aXMTTJxoQxL9qcYrK3uOYspwMyViEgn7Ml+zxrb163t+\n+W/ebF/05eU2Dn7UKHsMN0mFv+DLyvSHJ5KGug8yU1JwGHbvhnffDeoJ1q2zz2+/sPD9923FxION\nPPD3hwzRzZrzEgl4+2145RXrf1q+3BKB/v1tbOuYMZZd+l/8/mN5uRbKEMkBJQWZOZsUFEO/WFdX\nMHfK+vX2+f/uu7YtX25dv2HTp8Nrrx3a7y6G+PLJyfhaWuCss2DPHuomTGDmRRdBba0lAo7NeXwI\nMAAAC81JREFUb+3k9fO4HBu4H59qCiSvdu6EFStsuOGOHem3rq6gteCEE2DatKCF4Ljj7Iawtjbq\naCSv9u+3PqexY62Jv7TU/gCGDo36zEQkDbUUSEa7d8NvfwuLFtm6B/v3w4QJ1uIb7iJI3lTHJYD9\nwSxeDHV1NvNVfb31M1VVWXHK6NHBAhr+NnKkJuURyRF1H2SmpCBLV18Nd98NP/whzJ1rd/36spfD\nsmePFaSsXWvbxo1WnOJv27bZnAB+kuBnn+GClHCRiuboF0nLhaTgJuBKoMl7fgPwjLd/PfA1oAuY\nDzzrHZ8K/B44CvgTcHWa3+1sUpCvfrEtW+D2221o4tq1QV2Yv/aB/5ntb/laMM31fj/FF9LdbaMT\n/CQhuW+qqann/uDBByYLw4cHIxOSH/PwR+ry9XM5NnA/PhdqChLAXd4WdjLwRe9xFPAX4CTv538J\nzAVew5KC84E/F+h8nVZRAT/9qe23tcGXrvwqY6s/TfnQOaxaVcILL/Sc2tivJQgvvhauJQjvH3us\nWh0khSOOCP6IpkzJ/LPd3VbQGE4a/KV/1661StbmZiuG8R/37bPkIFXCkOrY8OHWcqEpiKUPKMaP\n5BuBD4E7k45fD3QDt3nP/4y1KmwA/gpM8I5fDMwErkrxu51tKSiUGZfPYOkRS6ltreW7l32XObPn\n+JkoYC3DGzYEow78bfXqA3/XL34B8+YV8ORFwJKCnTt7JgrJj8nH9uyxAsl0rQ+p9ocNy9v8CYlE\ngscWLmThX//K7+5Kvn8SCbjQUgDwTeAyYCnwHaAFqABeDf3MJqzFoMPb9232jkselJSU0FbVxpLE\nEi559HKG3nQHJw78Lv265tDcXMKOHfaZG+7+Pe00mD076AKuqIDjj4fx46OORvqkAQPsj7Ci4tD/\nTUeHTaiUKoloarIVv5ITipYW66oIJwsHSyTKyjIWWfrJwB2PP86yiROZ1tmZg/8hIoGokoLngBEp\njn8f6wq42Xv+I6zFYG6Bziu2Ct4vVgIdJ7XRNGYJHz73Nc4Z9QwPPngvxx1XkpdJiVzv91N8Ra5/\n/yDLTSFlfH7XRqrWh507rUnN3w+/duSRByQLidJSHmtt5Y6mJpbNnEnbpZdCSQklGzfmPfTYX7uD\ncD2+bEWVFJx7iD93L/C0t78ZqAy9djzWQrDZ2w8f35zuF15xxRVUVVUBMHToUCZPnvzPP4i6ujoA\nPc/wvGVbC1QDCRjw6gBq2mv40XU/4qJZF/Hiiy+yZUtxna+e63lkzxcvPvD1wYOZecUV6f99IsHM\nadOguZm6Z5+F3buZUVHB3Pvv55H9+2mfM8fWcgCor6dlU9BImq948v37o37uWnz+fmNjI71RjDUF\nI4Gt3v5/ANOBS7ACw4eAjxMUGo7BCg2XYKMRXgMWAneTutBQNQWH6Z81BR/Wcs1l13DRrIt61BSI\nSO79s9vgscdYNnEibVOnQkkJMxYsoO5nP4v69KSIuVBTcBswGfuyXw98wzveADzqPXYC87yfwdv/\nPTAQG32gkQd5UjOkhvnnzVcyIFJAJSUlfH7WLOZ8+tOWHDz4IMsmTkQ3OZJrxTjG5jLgFOBjwGeB\n7aHX/gtrHRgPLAodfwOo9V6bX5jTLC7JTWH58ruf/+6AEQeFUKj4oqL44q1Q8fnJwd/vv58Hxo+n\npgCrQ+ra9S3F2FIgIiIZ+MnB52fNivpUxDF9rf1XNQUiItJnZFtTUIzdByIiIhIBJQWOcL1fTPHF\nm+KLL5djA/fjy5aSAhEREQFUUyAiIuIs1RSIiIhIrygpcITr/WKKL94UX3y5HBu4H1+2lBSIiIgI\noJoCERERZ6mmQERERHpFSYEjXO8XU3zxpvjiy+XYwP34sqWkQERERADVFIiIiDhLNQUiIiLSK0oK\nHOF6v5jiizfFF18uxwbux5ctJQUiIiICqKZARETEWaopEBERkV5RUuAI1/vFFF+8Kb74cjk2cD++\nbCkpEBEREUA1BSIiIs5STYGIiIj0ipICR7jeL6b44k3xxZfLsYH78WVLSYGIiIgAqikQERFxlmoK\nREREpFeUFDjC9X4xxRdvii++XI4N3I8vW0oKREREBFBNgYiIiLNUUyAiIiK9oqTAEa73iym+eFN8\n8eVybOB+fNlSUiAiIiKAagpEREScpZoCERER6RUlBY5wvV9M8cWb4osvl2MD9+PLlpICERERAVRT\nICIi4izVFIiIiEivFGtS8E1gBfAucFvo+PXAamAlcF7o+FRgmffazwp0jkXF9X4xxRdvii++XI4N\n3I8vW8WYFJwNfAY4BZgE3OEdPxn4ovd4PnAPQZPIL4G5wEnedn4Bz7co1NfXR30KeaX44k3xxZfL\nsYH78WWrGJOCfwP+G+jwnjd5jxcCD3vHG4E1wGnASOAY4DXv5x4EPlugcy0aLS0tUZ9CXim+eFN8\n8eVybOB+fNkqxqTgJOATwKtAHTDNO14BbAr93CZgVIrjm73jIiIikoWPRPTffQ4YkeL497FzGgb8\nCzAdeBSoKdypxVNjY2PUp5BXii/eFF98uRwbuB9ftopxSOIzwK3Ai97zNViCcKX3/Fbv8c/AjcAG\n4AVggnf8S8AM4KoUv3sNMDr3pywiIlKU1gJjoj6Jw/EN4D+9/bHARm//ZKAeOBKoxgL1k5olWH1B\nCfAn+mChoYiIiIv6A3/Ahhi+AcwMvXYDdre/EvjX0HF/SOIa4O6CnKWIiIiIiIiIxNMXgOVAFzAl\n6bV0kyHF1U3YSIy3vM2VbpTzsWu0Grg24nPJh0bgHeyavZb5R4ve/cB2rOXOV4oVF/8DeBYYGsF5\n5Uqq+G7CnfddJVajtRybPG6+d9yVa5guvpuI/zU8CutKrwcasKH94M61y5nxWG3CC/RMCvwahf5A\nFdb1UIxDNLNxI/DtqE8ix/ph16YKu1b1BEWlrliPvXFdcBZwKj2/NG8HvuftX0tQLBxHqeJz6X03\nApjs7Q8GVmHvN1euYbr4XLmGg7zHj2DD+s8ky2sX9y/BQ7ESy5CSpZoM6eOFO628KcYRJYfj49i1\nacSu1SPYtXONK9ftJWBX0rHPAA94+w8Q78nFUsUH7ly/bVjiDfAhNt38KNy5huniAzeuYZv3eCR2\nQ7WLLK9dX0gK0kk3GVLcfRN4G7gPN5qJRgHvhZ67cp3CEsBfgKXA1yM+l3w4Dmtyx3s8LsJzyRfX\n3ndgrXOnYk3SLl7DKiy+V73nLlzDI7CkZztBN0lW186VpOA5rDkveZud5e+Jw7rK6WL9DLYGRDXW\nPLYVuDOic8ylOFyTw3UG9uF0AfDvWBO1qxK4d01dfN8NBh4DrgZak15z4RoOBv4Pi+9D3LmG3VgM\nx2MzA5+d9PpBr11UMxrm2rm9+DebsaIT3/HesWJ3qLHeCzydzxMpkOTrVEnPFh4XbPUem4AFWJfJ\nS9GdTs5tx/pyt2FrleyI9nRyLhyPC++7/lhC8AfgCe+YS9fQj+9/COJz7RruBhZiw/WzunautBQc\nqnCf0VPAxQSTIZ1E/Cu/R4b2P0fPYqi4WopdmyrsWn0Ru3auGIQt6AVwNDYKxoXrFvYUcLm3fznB\nB7ErXHrflWDN5w3AT0PHXbmG6eJz4RoOJ+j2GIjdQL6FO9cuZz6H9Um3Y5nSM6HX0k2GFFcPYkPb\n3sYuvAv9fmDN6quwa3V9xOeSa9VYH2A9NkQq7vE9DGwB9mPvu69iIyv+ghtDopLj+xpuve/OxJqg\n6+k5PM+Va5gqvgtw4xrWAm9isb0DXOMdd+XaiYiIiIiIiIiIiIiIiIiIiIiIiIiIiIiIiIiIiIiI\niIiIiIiIiIiIiIhInzMa2ImtAAm2XHkTtnqbiIiI9DFXYmu6DwQWAbdHezoikknJwX9EROSwPAnU\nAF3AdKAj2tMRERGRqMzGVqabG/WJiIiISHQGA2uB3wCbgGHRno6IiIhE5T7gYW//18D/RnguIiIi\nEpELgfeAod7zo4HVwJciOyMRERERERERERERERERERERERERERERERERERERERERERERERERERER\nEcmx/wfZceCcn7l+7wAAAABJRU5ErkJggg==\n",
       "text": [
        "<matplotlib.figure.Figure at 0x7f61bb5b2080>"
       ]
      }
     ],
     "prompt_number": 58
    },
    {
     "cell_type": "heading",
     "level": 1,
     "metadata": {},
     "source": [
      "Time-dependent magnetic field, $\\vec{B}(t)$"
     ]
    },
    {
     "cell_type": "markdown",
     "metadata": {},
     "source": [
      "From the <a href=\"#Ampere\">Faraday law</a><a id=\"rF\"></a> we see that a time-varying magnetic field is accompanied by a space-varying electric field.\n",
      "\n",
      "We need to assume again small changes, i.e. that the fractional change in $\\vec{B}(t)$ is small in a time interval on the order of cyclotron period. We take the magnetic field along $z$, spatially uniform and increasing. As a result of the accompanying electric field the orbit is no longer circular. It will, however, be \"quasi\"-circular, the azimuthal component of $\\vec{E}$ small. In cylindrical coordinates and in this case, Faraday equation is\n",
      "$$ \\frac{1}{r}\\frac{\\partial}{\\partial r}(r E_\\theta) = -\\frac{\\partial B}{\\partial t} $$\n",
      "Integrating in $r$ (assuming B a slow function), we obtain\n",
      "$$ E_\\theta = -\\frac{1}{2}r\\frac{\\partial B}{\\partial t} $$\n",
      "which can be written as\n",
      "$$ \\vec{E}_\\theta = \\frac{1}{2}\\vec{r}\\times\\frac{\\partial\\vec{B}}{\\partial t} $$\n",
      "We could use these results in the Lorentz force to obtain the equations of movemente but we will use an alternative path:\n",
      "\n",
      "Taking the scalar product of the Lorentz force equation with $v_\\perp$, and integrating in one gyration period, we have the change in the kinetic energy in the period,\n",
      "$$ \\delta(\\frac{1}{2}mv_\\perp^2) = q\\oint \\vec{E}_\\theta\\cdot d\\vec{r} $$\n",
      "Considering the orbit (almost) close, using Stokes's theorem, we can replace the line integral by a surface integral,\n",
      "$$ \\delta(\\frac{1}{2}mv_\\perp^2) = q\\int_S (\\nabla\\times\\vec{E}_\\theta)\\cdot d\\vec{S} = -q\\int_S\\frac{\\partial\\vec{B}}{\\partial t} \\cdot d\\vec{S}$$\n",
      "Taking account of the opposing direction of $\\vec{S}$ for negative and positive charges, we have\n",
      "$$ \\delta(\\frac{1}{2}mv_\\perp^2) = |q|\\frac{\\partial\\vec{B}}{\\partial t}\\pi r_L^2 $$\n",
      "Using $\\delta B = (\\partial\\vec{B})/(\\partial t)(2\\pi)/\\omega_c$ and the definitions of $r_L$, $\\omega_c$ and $\\mu$ we get to the result\n",
      "$$ \\delta(\\frac{1}{2}mv_\\perp^2) = \\mu\\delta B $$\n",
      "and, as \\delta(\\frac{1}{2}mv_\\perp^2) = \\delta(\\mu B), the previous result implies that $\\delta\\mu = 0$ !\n",
      "I.e. in slowly varying magnetic fields, **the magnetic moment is invariant**.\n",
      "This also implies that for the *magnetic flux*, $ B\\pi r_L^2 = cte $: \n",
      "\n",
      "* the Larmor radius decreases as B increases.\n",
      "* the magnetic flux is also an adiabatic invariant.\n",
      "\n",
      "The conservation of $\\mu$ also implies that\n",
      "\n",
      "* the transverse kinetic energy, $W_\\perp$ increases linearly com $B$."
     ]
    }
   ],
   "metadata": {}
  }
 ]
}
>>>>>>> dbb07545f438d155b0a323882fb664150170496c
