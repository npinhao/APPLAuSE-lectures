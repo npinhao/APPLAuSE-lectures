{
 "cells": [
  {
   "cell_type": "markdown",
   "metadata": {},
   "source": [
    "# Introduction"
   ]
  },
  {
   "cell_type": "markdown",
   "metadata": {},
   "source": [
    "In this notebook we will use the Lorentz force equation,\n",
    "$$ \\vec{F} = q\\left(\\vec{E}+\\vec{v}\\times\\vec{B}\\right) \\tag{Lorentz force}$$\n",
    "and the Euler's formula\n",
    "$$ e^{i\\theta} = \\cos\\theta + i\\sin\\theta. \\tag{Euler formula}$$\n",
    "The subject of this notebook is covered in the bibliography in the following chapters:\n",
    "\n",
    "* Chen<cite data-cite=\"chen1974\"></cite>: chapter Two, section 2.2\n",
    "* Nicholson<cite data-cite=\"nicholson1983\"></cite>: chapter 2, section 2.2\n",
    "* Bittencourt<cite data-cite=\"Bittencourt2004\"></cite>: chapter 2\n",
    "* Goldston<cite data-cite=\"Goldston1995\"></cite>: chapter 2\n",
    "\n",
    "The examples are prepared with the help of two scientific software packages, *Scipy*<cite data-cite=\"jones2001\"></cite> and *IPython*<cite data-cite=\"PER-GRA:2007\"></cite>."
   ]
  },
  {
   "cell_type": "markdown",
   "metadata": {
    "slideshow": {
     "slide_type": "-"
    }
   },
   "source": [
    "# Movement without $\\vec{E}$ field"
   ]
  },
  {
   "cell_type": "markdown",
   "metadata": {},
   "source": [
    "Let's keep it simple: $\\vec{B}(\\vec{r},t) = B_0\\vec{u}_\\parallel;\\quad \\vec{v}_0 = v_{\\perp,0}\\vec{u}_\\perp+v_{z,0}\\vec{u}_\\parallel$ and we take $\\vec{u}_\\parallel \\equiv \\vec{u}_z$.\n",
    "\n",
    "* The Lorentz force is \n",
    "$$ \\vec{F} = q\\vec{v}\\times\\vec{B}$$\n",
    "and, as $\\vec{F} \\perp \\vec{v} \\Rightarrow$ constant kinetic energy, $W$."
   ]
  },
  {
   "cell_type": "markdown",
   "metadata": {},
   "source": [
    "## How is the movement?"
   ]
  },
  {
   "cell_type": "markdown",
   "metadata": {
    "collapsed": true
   },
   "source": [
    "$\\color{red}{Discussion...}$"
   ]
  },
  {
   "cell_type": "markdown",
   "metadata": {},
   "source": [
    "From the Lorentz force equation in cartesian coordinates, we write\n",
    "\\begin{align}\n",
    "\\dot{v}_x &= \\frac{q}{m}v_y B_0 \\\\\n",
    "\\dot{v}_y &= -\\frac{q}{m}v_x B_0 \\\\\n",
    "\\dot{v}_z &= 0\n",
    "\\end{align}\n",
    "Taking the derivative of any of the first two equations we obtain the homogeneous equation for a *harmonic oscilator*:\n",
    "$$ \\ddot{v}_{x,y} + \\left(\\frac{q}{m}B_0\\right)^2 v_{x,y} = 0 $$"
   ]
  },
  {
   "cell_type": "markdown",
   "metadata": {
    "collapsed": true
   },
   "source": [
    "$\\color{red}{Discussion...}$"
   ]
  },
  {
   "cell_type": "markdown",
   "metadata": {},
   "source": [
    "Integrating we obtain\n",
    "\\begin{align}\n",
    "v_x &= v_\\perp \\exp(i{\\color{green}{\\omega_c}}t+i\\delta) \\\\\n",
    "v_y &= \\pm i v_\\perp \\exp(i{\\color{green}{\\omega_c}}t+i\\delta) \\\\\n",
    "v_z &= v_{z,0}\n",
    "\\end{align}\n",
    "with $v_\\perp=(v_{x,0}^2+v_{y,0}^2)^{1/2}$, $\\delta=\\mp\\tan^{-1}(v_{y,0}/v_{x,0})$, the signal in $\\pm$ depends on the charge $q$ and $\\boxed{\\color{green}{\\omega_c \\equiv \\frac{|q|B}{m}}}$ is the **cyclotron frequency**.\n",
    "\n",
    "   * Uniform circular motion in $\\perp$;\n",
    "   * $v_\\parallel$ is constant $\\Rightarrow$ uniform motion in $\\parallel$.\n",
    "\n",
    "Integrating again we obtain\n",
    "\\begin{align}\n",
    "x &= x_0 - i{\\color{red}{(v_\\perp/\\omega_c)}} \\left[\\exp(i{\\color{green}{\\omega_c}} t+i\\delta) - \\exp(i\\delta)\\right] \\\\\n",
    "y &= y_0 \\pm {\\color{red}{(v_\\perp/\\omega_c)}} \\left[ \\exp(i{\\color{green}{\\omega_c}} t+i\\delta) - \\exp(i\\delta) \\right] \\\\\n",
    "z &= z_0 + v_{z,0}t\n",
    "\\end{align}\n",
    "The quantity $\\boxed{\\color{red}{r_L \\equiv \\frac{v_\\perp}{\\omega_c}}}$ is the **Larmor radius** or **gyro-radius**."
   ]
  },
  {
   "cell_type": "markdown",
   "metadata": {},
   "source": [
    "## Practice:"
   ]
  },
  {
   "cell_type": "markdown",
   "metadata": {},
   "source": [
    "Let's represent the movement of two imaginary particles, with $(q,m)$ values respectively $(-1,1)$ and $(0.3,30)$ [*Note that $m_p/m_e \\approx 1\\,836$*]. For that we convert the Lorentz force equation in a system of first order differential equations,\n",
    "\\begin{align}\n",
    "\\dot{\\vec{r}}(t) &= \\vec{v}(t) \\\\\n",
    "\\dot{\\vec{v}}(t) &= \\frac{q}{m}\\vec{v}(t)\\times\\vec{B}\n",
    "\\end{align}\n",
    "and we solve this system with a numerical algorithm.\n",
    "\n",
    "We start by importing some numerical libraries..."
   ]
  },
  {
   "cell_type": "code",
   "execution_count": null,
   "metadata": {
    "collapsed": false
   },
   "outputs": [],
   "source": [
    "%matplotlib\n",
    "# Computation functions:\n",
    "import numpy as np\n",
    "from scipy.integrate import odeint\n",
    "# Visualization routines:\n",
    "import matplotlib.pyplot as plt\n",
    "import matplotlib.animation as animation\n",
    "plt.style.use('ggplot')"
   ]
  },
  {
   "cell_type": "markdown",
   "metadata": {},
   "source": [
    "Then we define a function for the system,"
   ]
  },
  {
   "cell_type": "code",
   "execution_count": null,
   "metadata": {
    "collapsed": false
   },
   "outputs": [],
   "source": [
    "\"\"\"Movement of electron and ion under a constant magnetic field\"\"\"\n",
    "\n",
    "def EqMovement(Q,t,QbyM):\n",
    "    \"\"\"Equations of movement.\n",
    "    \n",
    "    Parameters\n",
    "    ----------\n",
    "    \n",
    "    Q : list \n",
    "        The (x,y,z) components of position and velocity\n",
    "    t : float\n",
    "        Time value for time dependent functions. Not used in this case but required by odeint\n",
    "    QbyM : float\n",
    "        The ratio between charge and mass (q/m).\n",
    "    \"\"\"\n",
    "    \n",
    "    global B0\n",
    "    v = Q[3:]\n",
    "    drdt = v                                    # Velocity\n",
    "    dvdt = QbyM*np.cross(v,B0)                  # Acceleration\n",
    "    return np.concatenate((drdt,dvdt))\n",
    "  \n",
    "def trajectories(Q0, QbyM, tf):\n",
    "    \"\"\"Computes the electron and proton trajectories.\n",
    "    \n",
    "    Parameters\n",
    "    ----------\n",
    "    \n",
    "    Q0 : list\n",
    "        The (x,y,z) components of the initial position and velocity\n",
    "    QbyM : list\n",
    "        The ratio between charge and mass (q/m) for the two charges.\n",
    "    tf : int\n",
    "        The final time.\n",
    "    \"\"\"\n",
    "    \n",
    "    t = np.linspace(0,tf,5*tf)\n",
    "    # Integration of the equations of movement\n",
    "    Qe = odeint(EqMovement, Q0, t, args=(QbyM[0],))\n",
    "    Qp = odeint(EqMovement, Q0, t, args=(QbyM[1],))\n",
    "    return Qe, Qp\n",
    "\n",
    "def initFigure():\n",
    "    \"\"\"Sets the figure for the trajectories\"\"\"\n",
    "    \n",
    "    line1.set_data([], []); line1b.set_data([], [])\n",
    "    line2.set_data([], []); line2b.set_data([], [])\n",
    "    # Legibility\n",
    "    ax.set_title(\"Trajectories\",fontsize=18)\n",
    "    ax.set_xlabel(\"X Axis\",fontsize=16); ax.set_ylabel(\"Y Axis\",fontsize=16)\n",
    "    ax.text(18,8,\"$\\\\odot\\\\,\\\\vec{B}$\", fontsize=20)\n",
    "    return line1, line1b, line2, line2b\n",
    "\n",
    "def animate(i,re,rp):\n",
    "    \"\"\"Plots the trajectories in (x,y) for i\"\"\"\n",
    "    \n",
    "    line1b.set_data(re[:i,0],re[:i,1]); line1.set_data(re[i,0],re[i,1])\n",
    "    line2b.set_data(rp[:i,0],rp[:i,1]); line2.set_data(rp[i,0],rp[i,1])\n",
    "    return line1, line1b, line2, line2b\n",
    "\n",
    "# --- Main ---  \n",
    "\n",
    "global B0\n",
    "\n",
    "# Constants\n",
    "q = 1; me = 0.3; Mp = 30*me; Bz = 2\n",
    "# Initial conditions\n",
    "v0z = 0\n",
    "r0 = np.zeros(3); v0 = np.array([0,2,v0z])  # Initial position and velocity\n",
    "B0 = np.array([0,0,Bz])                     # Magnetic fields\n",
    "\n",
    "# Frequency and radius\n",
    "we = q*B0[2]/me; wp = q*B0[2]/Mp            # Cyclotron frequencies    \n",
    "modv = np.sqrt(v0[0]**2+v0[1]**2)           # Perpendicular|B velocity\n",
    "rLe = me/q*modv/Bz; rLp = Mp/me*rLe         # Larmor radius\n",
    "\n",
    "print('Cyclotron frequencies      Larmor radius\\n   we = {0:4.2f}, wp = {1:4.2f}  \\\n",
    "rLe = {2}, rLp = {3}'.format(we,wp,rLe,rLp))\n",
    "\n",
    "tf = 150\n",
    "# Computes the trajectories\n",
    "QbyM = np.array([-q/me,q/Mp])               # Charge by mass ratio\n",
    "Q0 = np.concatenate((r0,v0))                # Initial values\n",
    "Qe,Qp = trajectories(Q0, QbyM, tf)          # Integrate the equations of movement\n",
    "\n",
    "# Plots the trajectories\n",
    "fig = plt.figure(figsize=(9,8))\n",
    "ax = fig.add_subplot(111, autoscale_on=False, xlim=(-5,25), ylim=(-15,15))\n",
    "\n",
    "line2, = ax.plot([], [], 'ro', markersize=12); line2b, = ax.plot([], [], 'r--')\n",
    "line1, = ax.plot([], [], 'bo'); line1b, = ax.plot([], [], 'b--')\n",
    "\n",
    "ani = animation.FuncAnimation(fig, animate, np.linspace(0,tf,5*tf), fargs=(Qe,Qp),\n",
    "                              blit=False, interval=1,\n",
    "                              repeat = False, init_func=initFigure)\n",
    "#ani.save('uniformB.mp4', fps=20)\n",
    "a = plt.show()"
   ]
  },
  {
   "cell_type": "markdown",
   "metadata": {},
   "source": [
    "## Magnetic Moment"
   ]
  },
  {
   "cell_type": "markdown",
   "metadata": {},
   "source": [
    "Let's recall the definition of magnetic moment of a current flowing in a closed circuit:\n",
    "$$ \\mu = I A,$$\n",
    "where $I$ is the current and $A$ the area of the loop. In our case we have,\n",
    "$$ I = |q|\\frac{\\omega_c}{2\\pi},\\quad A = \\pi r_L^2 $$\n",
    "and, as $r_L=v_\\perp/\\omega_c$ substituting values, \n",
    "$$ \\boxed{\\color{blue}{\\mu = \\frac{|q|v_\\perp^2}{2\\omega_c} = \\frac{m v_\\perp^2}{2 B} = \\frac{W_\\perp}{B}}}. $$\n"
   ]
  },
  {
   "cell_type": "markdown",
   "metadata": {},
   "source": [
    "# $\\vec{E} \\neq \\vec{0}$, constant"
   ]
  },
  {
   "cell_type": "markdown",
   "metadata": {},
   "source": [
    "In this case we need to solve the full Lorentz equation:\n",
    "$$ \\vec{a} = \\frac{q}{m}\\left(\\vec{E}+\\vec{v}\\times\\vec{B}\\right). $$"
   ]
  },
  {
   "cell_type": "markdown",
   "metadata": {},
   "source": [
    "## How is the movement?"
   ]
  },
  {
   "cell_type": "markdown",
   "metadata": {
    "collapsed": true
   },
   "source": [
    "$\\color{red}{Discussion...}$"
   ]
  },
  {
   "cell_type": "markdown",
   "metadata": {},
   "source": [
    "Let's take $\\vec{E} = E_{\\perp,0}\\vec{u}_\\perp+E_{\\parallel,0}\\vec{u}_z$ and $\\vec{B}$ along z. We obtain\n",
    "\\begin{align}\n",
    "\\dot{v}_x &= \\frac{q}{m}(E_x + v_y B) \\\\\n",
    "\\dot{v}_y &= \\frac{q}{m}(E_y - v_x B) \\\\\n",
    "\\dot{v}_z &= \\frac{q}{m}E_\\parallel\n",
    "\\end{align}\n",
    "In the direction parallel to $\\vec{B}$, we just have the free-fall in the electric field:\n",
    "$$v_z = \\frac{q}{m}E_\\parallel t+v_{\\parallel,0}.$$\n",
    "In order to find a solution in the plane $\\perp$ to $\\vec{B}$, as in the previous case, we diferentiate the two equations and substitute the first derivatives to obtain the two equations\n",
    "\\begin{align}\n",
    "\\ddot{v}_x &= -\\omega_c^2(v_x - \\frac{E_y}{B}) \\\\\n",
    "\\ddot{v}_y &= -\\omega_c^2(v_y + \\frac{E_x}{B}) \\\\\n",
    "\\end{align}\n",
    "Making the substitution $u_x = v_x-E_y/B,\\; u_y = v_y+E_x/B$, we obtain for $u_x,\\;u_y$ the same equations as in the previous case! I.e., in xy the movement can be decomposed on a Larmor movement and a drift component.\n",
    "\n",
    "*Note:* If we want to procede in a more formal way, we take again the derivative of any of the first two equations we obtain the *inhomogeneous equation for a harmonic oscilator*,\n",
    "$$ \\ddot{v}_{x,y} + \\omega_L^2 v_{x,y} = \\omega_L^2 \\frac{E_{y,x}}{B}, $$\n",
    "whose solution is the solution for the *homogeneous* case plus a particular solution\n",
    "$\\Rightarrow \\vec{v}_\\perp$ has a Larmor movement with a drift: $v_\\perp = v_\\bigcirc + v_d$.\n",
    "\n",
    "**How to compute $v_d$?**\n",
    "\n",
    "If we average the Lorentz force over many gyroperiods, the average acceleration is *zero* and the only velocity component left is $v_d$:\n",
    "$$ 0 = \\frac{q}{m}(\\vec{E}+\\vec{v}_d\\times\\vec{B}). $$\n",
    "Taking the cross product with $\\vec{B}$ and using the vector formula in the appendix, we finally obtain\n",
    "\n",
    "$$ \\vec{v}_{d} = \\frac{\\vec{E}\\times\\vec{B}}{B^2}$$"
   ]
  },
  {
   "cell_type": "markdown",
   "metadata": {},
   "source": [
    "## Summary"
   ]
  },
  {
   "cell_type": "markdown",
   "metadata": {},
   "source": [
    "* The drift is $\\perp$ both to $\\vec{E}$ and $\\vec{B}$;\n",
    "* On the **same direction** for electrons and ions $\\Rightarrow$ no net current!;\n",
    "* The drift is independent of m, q and $v_\\perp$.\n",
    "    * Exercise: What is the $\\vec{E}_\\perp$ field in an inertial frame moving with $\\vec{v}_d$? (*Hint*: use the Lorentz transformation for an electromagnetic field.)\n",
    "    \n",
    "---"
   ]
  },
  {
   "cell_type": "markdown",
   "metadata": {},
   "source": [
    "## Practice:"
   ]
  },
  {
   "cell_type": "markdown",
   "metadata": {},
   "source": [
    "We can easily extend the previous example to include the electric field. It is also interesting to see what happens with the kinetic energy and the Larmor radius.\n",
    "\n",
    "We include one more library to allow us to interact with the script and we leave the rendering of the figure to an external script."
   ]
  },
  {
   "cell_type": "code",
   "execution_count": null,
   "metadata": {
    "collapsed": false
   },
   "outputs": [],
   "source": [
    "%matplotlib inline\n",
    "from ipywidgets import interact\n",
    "from scripts import plotEB\n",
    "\n",
    "modv = lambda v: np.sqrt((v[:,0])**2+(v[:,1])**2)    # v-perpendicular\n",
    "\n",
    "def EqMovement(Q,t,QbyM):\n",
    "    \"\"\"Equations of movement\"\"\"\n",
    "    global E0,B0\n",
    "    v = Q[3:]\n",
    "    drdt = v                                    # Velocity\n",
    "    dvdt = QbyM*(E0+np.cross(v,B0))             # Acceleration\n",
    "    return np.concatenate((drdt,dvdt))\n",
    "\n",
    "def crossEB(Exy=0, Ez=0, angle=320):\n",
    "    \"\"\"Movement of an electron and ion under constant \n",
    "    magnetic and electric fields\"\"\"\n",
    "    global E0,B0\n",
    "    \n",
    "    me = 1; Mp = 10*me; q = 1; Bz = 1 \n",
    "    QbyM = np.array([-q/me,q/Mp])               # Charge by mass ratio\n",
    "\n",
    "    r0 = np.zeros(3); v0 = np.array([0,1,0])\n",
    "    Q0 = np.concatenate((r0,v0))                # Initial values\n",
    "    E0 = np.array([Exy,Exy,Ez]); B0 = np.array([0,0,Bz])\n",
    "\n",
    "    tf = 350; NPts = 5*tf; t = np.linspace(0,tf,NPts)\n",
    "    # Computes the trajectories\n",
    "    Qe,Qp = trajectories(Q0, QbyM, tf)          # Integrate the equations of movement\n",
    "    \n",
    "    # Drift velocity\n",
    "    vd = np.cross(E0,B0)/np.dot(B0,B0)            # vd = (EXB)/(B|B)\n",
    "    rd = np.array([t,vd[0]*t,vd[1]*t]).T\n",
    "    \n",
    "    # Larmor radius\n",
    "    rLe = me/q*modv(Qe[:,3:5])/Bz; rLp = Mp/q*modv(Qp[:,3:5])/Bz\n",
    "    \n",
    "    # Kinetic energy\n",
    "    We = me/2*(Qe[:,3]**2+Qe[:,4]**2+Qe[:,5]**2)\n",
    "    Wp = Mp/2*(Qp[:,3]**2+Qp[:,4]**2+Qp[:,5]**2)\n",
    "    \n",
    "    # Plot the trajectories and Larmor radius\n",
    "    plotEB.plot3d(Qe, Qp, rd, t, rLe, rLp, We, Wp, angle)\n",
    "\n",
    "dummy = interact(crossEB, Exy=(0,1), Ez=(0,0.2), angle=(180,360))"
   ]
  },
  {
   "cell_type": "markdown",
   "metadata": {},
   "source": [
    "# General force, $\\vec{F}$"
   ]
  },
  {
   "cell_type": "markdown",
   "metadata": {},
   "source": [
    "The result above can be generalized for any constant and uniform force such that $\\vec{F}\\cdot\\vec{B} = 0$:\n",
    "\n",
    "$$ \\vec{v}_{d} = \\frac{\\vec{F}\\times\\vec{B}}{q B^2}$$\n",
    "\n",
    "In particular, for the gravitational field, we have a drift $v_g = \\frac{m}{q}\\frac{\\vec{g}\\times\\vec{B}}{B^2}$. In this case **the direction of drift depends on the signal of** $q \\Rightarrow$ for positive and negative charges, we have a current!\n",
    "\n",
    "The velocity of any particle can be decomposed in three components:\n",
    "$$ \\vec{v} = \\vec{v}_\\parallel+\\vec{v}_{d}+\\vec{v}_{L} $$"
   ]
  },
  {
   "cell_type": "markdown",
   "metadata": {},
   "source": [
    "# Appendix - Useful vector formulae"
   ]
  },
  {
   "cell_type": "markdown",
   "metadata": {},
   "source": [
    "$$ \\vec{A}\\times(\\vec{B}\\times\\vec{C}) = (\\vec{A}\\cdot\\vec{C})\\vec{B}-(\\vec{A}\\cdot\\vec{B})\\vec{C} $$"
   ]
  }
 ],
 "metadata": {
  "kernelspec": {
   "display_name": "Python 3",
   "language": "python",
   "name": "python3"
  },
  "language_info": {
   "codemirror_mode": {
    "name": "ipython",
    "version": 3
   },
   "file_extension": ".py",
   "mimetype": "text/x-python",
   "name": "python",
   "nbconvert_exporter": "python",
   "pygments_lexer": "ipython3",
   "version": "3.4.3"
  }
 },
 "nbformat": 4,
 "nbformat_minor": 0
}
