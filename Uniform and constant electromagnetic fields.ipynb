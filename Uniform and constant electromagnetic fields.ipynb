{
 "cells": [
  {
   "cell_type": "markdown",
   "metadata": {},
   "source": [
<<<<<<< HEAD
    "# Abstract"
=======
    "# Introduction"
>>>>>>> dbb07545f438d155b0a323882fb664150170496c
   ]
  },
  {
   "cell_type": "markdown",
   "metadata": {},
   "source": [
<<<<<<< HEAD
    "In this notebook we study the individual movement of charged particles under the influence of constant and uniform magnetic and electric fields. We introduce the cyclotron frequency, Larmor radius, magnetic moment and the drift velocity originated by a crossed force and magnetic field."
   ]
  },
  {
   "cell_type": "markdown",
   "metadata": {},
   "source": [
    "# Background"
   ]
  },
  {
   "cell_type": "markdown",
   "metadata": {},
   "source": [
    "We will use the Lorentz force equation,\n",
    "$$ \\vec{F} = q\\left(\\vec{E}+\\vec{v}\\times\\vec{B}\\right) \\tag{Lorentz force}$$\n",
    "giving the force experienced by a particle with charge $q$ and mass $m$ and moving with velocity $\\vec{v}$, due to electric and magnetic fields $\\vec{E}$ and $\\vec{B}$, respectively.\n",
    "\n",
=======
    "In this notebook we will use the Lorentz force equation,\n",
    "$$ \\vec{F} = q\\left(\\vec{E}+\\vec{v}\\times\\vec{B}\\right) \\tag{Lorentz force}$$\n",
    "and the Euler's formula\n",
    "$$ e^{i\\theta} = \\cos\\theta + i\\sin\\theta. \\tag{Euler formula}$$\n",
>>>>>>> dbb07545f438d155b0a323882fb664150170496c
    "The subject of this notebook is covered in the bibliography in the following chapters:\n",
    "\n",
    "* Chen<cite data-cite=\"chen1974\"></cite>: chapter Two, section 2.2\n",
    "* Nicholson<cite data-cite=\"nicholson1983\"></cite>: chapter 2, section 2.2\n",
    "* Bittencourt<cite data-cite=\"Bittencourt2004\"></cite>: chapter 2\n",
    "* Goldston<cite data-cite=\"Goldston1995\"></cite>: chapter 2\n",
    "\n",
<<<<<<< HEAD
    "The examples are prepared with the help of two scientific software packages, *Scipy*<cite data-cite=\"jones2001\"></cite> and *IPython*<cite data-cite=\"PER-GRA:2007\"></cite>, and a plotting library *Matplotlib*."
=======
    "The examples are prepared with the help of two scientific software packages, *Scipy*<cite data-cite=\"jones2001\"></cite> and *IPython*<cite data-cite=\"PER-GRA:2007\"></cite>."
>>>>>>> dbb07545f438d155b0a323882fb664150170496c
   ]
  },
  {
   "cell_type": "markdown",
   "metadata": {
    "slideshow": {
     "slide_type": "-"
    }
   },
   "source": [
    "# Movement without $\\vec{E}$ field"
   ]
  },
  {
   "cell_type": "markdown",
   "metadata": {},
   "source": [
    "Let's keep it simple: $\\vec{B}(\\vec{r},t) = B_0\\vec{u}_\\parallel;\\quad \\vec{v}_0 = v_{\\perp,0}\\vec{u}_\\perp+v_{z,0}\\vec{u}_\\parallel$ and we take $\\vec{u}_\\parallel \\equiv \\vec{u}_z$.\n",
    "\n",
    "* The Lorentz force is \n",
    "$$ \\vec{F} = q\\vec{v}\\times\\vec{B}$$\n",
    "and, as $\\vec{F} \\perp \\vec{v} \\Rightarrow$ constant kinetic energy, $W$."
   ]
  },
  {
   "cell_type": "markdown",
   "metadata": {},
   "source": [
    "## How is the movement?"
   ]
  },
  {
   "cell_type": "markdown",
   "metadata": {
    "collapsed": true
   },
   "source": [
<<<<<<< HEAD
    "$\\color{red}{Class\\,discussion...}$\n",
    "\n",
    "$\\color{red}{...}$"
=======
    "$\\color{red}{Discussion...}$"
>>>>>>> dbb07545f438d155b0a323882fb664150170496c
   ]
  },
  {
   "cell_type": "markdown",
   "metadata": {},
   "source": [
<<<<<<< HEAD
    "Let's integrate the equations of movement:\n",
    "1. We write the Lorentz force equation in cartesian coordinates,\n",
=======
    "From the Lorentz force equation in cartesian coordinates, we write\n",
>>>>>>> dbb07545f438d155b0a323882fb664150170496c
    "\\begin{align}\n",
    "\\dot{v}_x &= \\frac{q}{m}v_y B_0 \\\\\n",
    "\\dot{v}_y &= -\\frac{q}{m}v_x B_0 \\\\\n",
    "\\dot{v}_z &= 0\n",
    "\\end{align}\n",
<<<<<<< HEAD
    "2. We take the first two equations for _x_ or _y_, differentiate and replace terms to obtain the homogeneous equations:\n",
    "$$ \\ddot{v}_{x,y} + \\left(\\frac{q}{m}B_0\\right)^2 v_{x,y} = 0 $$\n",
    "\n",
    "This is the equation for a *harmonic oscilator* with a frequency $\\omega = q B_0/m$: In the _xy_ plane, the particle describes a circle."
=======
    "Taking the derivative of any of the first two equations we obtain the homogeneous equation for a *harmonic oscilator*:\n",
    "$$ \\ddot{v}_{x,y} + \\left(\\frac{q}{m}B_0\\right)^2 v_{x,y} = 0 $$"
   ]
  },
  {
   "cell_type": "markdown",
   "metadata": {
    "collapsed": true
   },
   "source": [
    "$\\color{red}{Discussion...}$"
>>>>>>> dbb07545f438d155b0a323882fb664150170496c
   ]
  },
  {
   "cell_type": "markdown",
   "metadata": {},
   "source": [
    "Integrating we obtain\n",
    "\\begin{align}\n",
    "v_x &= v_\\perp \\exp(i{\\color{green}{\\omega_c}}t+i\\delta) \\\\\n",
    "v_y &= \\pm i v_\\perp \\exp(i{\\color{green}{\\omega_c}}t+i\\delta) \\\\\n",
    "v_z &= v_{z,0}\n",
    "\\end{align}\n",
    "with $v_\\perp=(v_{x,0}^2+v_{y,0}^2)^{1/2}$, $\\delta=\\mp\\tan^{-1}(v_{y,0}/v_{x,0})$, the signal in $\\pm$ depends on the charge $q$ and $\\boxed{\\color{green}{\\omega_c \\equiv \\frac{|q|B}{m}}}$ is the **cyclotron frequency**.\n",
    "\n",
    "   * Uniform circular motion in $\\perp$;\n",
    "   * $v_\\parallel$ is constant $\\Rightarrow$ uniform motion in $\\parallel$.\n",
    "\n",
    "Integrating again we obtain\n",
    "\\begin{align}\n",
    "x &= x_0 - i{\\color{red}{(v_\\perp/\\omega_c)}} \\left[\\exp(i{\\color{green}{\\omega_c}} t+i\\delta) - \\exp(i\\delta)\\right] \\\\\n",
    "y &= y_0 \\pm {\\color{red}{(v_\\perp/\\omega_c)}} \\left[ \\exp(i{\\color{green}{\\omega_c}} t+i\\delta) - \\exp(i\\delta) \\right] \\\\\n",
    "z &= z_0 + v_{z,0}t\n",
    "\\end{align}\n",
    "The quantity $\\boxed{\\color{red}{r_L \\equiv \\frac{v_\\perp}{\\omega_c}}}$ is the **Larmor radius** or **gyro-radius**."
   ]
  },
  {
   "cell_type": "markdown",
   "metadata": {},
   "source": [
    "## Practice:"
   ]
  },
  {
   "cell_type": "markdown",
   "metadata": {},
   "source": [
    "Let's represent the movement of two imaginary particles, with $(q,m)$ values respectively $(-1,1)$ and $(0.3,30)$ [*Note that $m_p/m_e \\approx 1\\,836$*]. For that we convert the Lorentz force equation in a system of first order differential equations,\n",
    "\\begin{align}\n",
    "\\dot{\\vec{r}}(t) &= \\vec{v}(t) \\\\\n",
    "\\dot{\\vec{v}}(t) &= \\frac{q}{m}\\vec{v}(t)\\times\\vec{B}\n",
    "\\end{align}\n",
    "and we solve this system with a numerical algorithm.\n",
    "\n",
<<<<<<< HEAD
    "We start by importing some numerical libraries... then we define two functions for the movement and the trajectories:"
=======
    "We start by importing some numerical libraries..."
>>>>>>> dbb07545f438d155b0a323882fb664150170496c
   ]
  },
  {
   "cell_type": "code",
<<<<<<< HEAD
   "execution_count": 1,
   "metadata": {
    "collapsed": false
   },
   "outputs": [
    {
     "name": "stdout",
     "output_type": "stream",
     "text": [
      "Using matplotlib backend: TkAgg\n",
      "Cyclotron frequencies      Larmor radius\n",
      "   we = 6.67, wp = 0.22  rLe = 0.3, rLp = 9.0\n"
     ]
    }
   ],
   "source": [
    "%matplotlib\n",
    "from scripts.animateFigure import *\n",
    "\n",
    "\"\"\"Movement of negative and positive charges under a constant magnetic field\"\"\"\n",
=======
   "execution_count": null,
   "metadata": {
    "collapsed": false
   },
   "outputs": [],
   "source": [
    "%matplotlib\n",
    "# Computation functions:\n",
    "import numpy as np\n",
    "from scipy.integrate import odeint\n",
    "# Visualization routines:\n",
    "import matplotlib.pyplot as plt\n",
    "import matplotlib.animation as animation\n",
    "plt.style.use('ggplot')"
   ]
  },
  {
   "cell_type": "markdown",
   "metadata": {},
   "source": [
    "Then we define a function for the system,"
   ]
  },
  {
   "cell_type": "code",
   "execution_count": null,
   "metadata": {
    "collapsed": false
   },
   "outputs": [],
   "source": [
    "\"\"\"Movement of electron and ion under a constant magnetic field\"\"\"\n",
>>>>>>> dbb07545f438d155b0a323882fb664150170496c
    "\n",
    "def EqMovement(Q,t,QbyM):\n",
    "    \"\"\"Equations of movement.\n",
    "    \n",
    "    Parameters\n",
<<<<<<< HEAD
    "    ----------    \n",
    "    Q : list     - The (x,y,z) components of position and velocity;\n",
    "    t : float    - Time value for time dependent functions. Not used\n",
    "                  in this case but required by odeint;\n",
    "    QbyM : float - The ratio between charge and mass (q/m).\n",
    "    \"\"\"   \n",
    "    global B0\n",
    "    \n",
    "    v = Q[3:]\n",
    "    drdt = v                                # Velocity\n",
    "    dvdt = QbyM*np.cross(v,B0)              # Acceleration\n",
    "    \n",
    "    return np.concatenate((drdt,dvdt))\n",
    "  \n",
    "def trajectories(Q0, QbyM, tf):\n",
    "    \"\"\"Computes the trajectories.\n",
    "    \n",
    "    Parameters\n",
    "    ----------    \n",
    "    Q0 : list   - The (x,y,z) components of the initial position and velocity;\n",
    "    QbyM : list - The ratio between charge and mass (q/m) for the two charges;\n",
    "    tf : int    - The final time.\n",
    "    \"\"\"    \n",
    "    from scipy.integrate import odeint      # Solution of diff.equations\n",
    "\n",
    "    t = np.linspace(0,tf,5*tf)\n",
    "    Qe = odeint(EqMovement, Q0, t, args=(QbyM[0],))\n",
    "    Qp = odeint(EqMovement, Q0, t, args=(QbyM[1],))\n",
    "    \n",
    "    return Qe, Qp\n",
    "\n",
    "# ------ Main ------\n",
=======
    "    ----------\n",
    "    \n",
    "    Q : list \n",
    "        The (x,y,z) components of position and velocity\n",
    "    t : float\n",
    "        Time value for time dependent functions. Not used in this case but required by odeint\n",
    "    QbyM : float\n",
    "        The ratio between charge and mass (q/m).\n",
    "    \"\"\"\n",
    "    \n",
    "    global B0\n",
    "    v = Q[3:]\n",
    "    drdt = v                                    # Velocity\n",
    "    dvdt = QbyM*np.cross(v,B0)                  # Acceleration\n",
    "    return np.concatenate((drdt,dvdt))\n",
    "  \n",
    "def trajectories(Q0, QbyM, tf):\n",
    "    \"\"\"Computes the electron and proton trajectories.\n",
    "    \n",
    "    Parameters\n",
    "    ----------\n",
    "    \n",
    "    Q0 : list\n",
    "        The (x,y,z) components of the initial position and velocity\n",
    "    QbyM : list\n",
    "        The ratio between charge and mass (q/m) for the two charges.\n",
    "    tf : int\n",
    "        The final time.\n",
    "    \"\"\"\n",
    "    \n",
    "    t = np.linspace(0,tf,5*tf)\n",
    "    # Integration of the equations of movement\n",
    "    Qe = odeint(EqMovement, Q0, t, args=(QbyM[0],))\n",
    "    Qp = odeint(EqMovement, Q0, t, args=(QbyM[1],))\n",
    "    return Qe, Qp\n",
    "\n",
    "def initFigure():\n",
    "    \"\"\"Sets the figure for the trajectories\"\"\"\n",
    "    \n",
    "    line1.set_data([], []); line1b.set_data([], [])\n",
    "    line2.set_data([], []); line2b.set_data([], [])\n",
    "    # Legibility\n",
    "    ax.set_title(\"Trajectories\",fontsize=18)\n",
    "    ax.set_xlabel(\"X Axis\",fontsize=16); ax.set_ylabel(\"Y Axis\",fontsize=16)\n",
    "    ax.text(18,8,\"$\\\\odot\\\\,\\\\vec{B}$\", fontsize=20)\n",
    "    return line1, line1b, line2, line2b\n",
    "\n",
    "def animate(i,re,rp):\n",
    "    \"\"\"Plots the trajectories in (x,y) for i\"\"\"\n",
    "    \n",
    "    line1b.set_data(re[:i,0],re[:i,1]); line1.set_data(re[i,0],re[i,1])\n",
    "    line2b.set_data(rp[:i,0],rp[:i,1]); line2.set_data(rp[i,0],rp[i,1])\n",
    "    return line1, line1b, line2, line2b\n",
    "\n",
    "# --- Main ---  \n",
>>>>>>> dbb07545f438d155b0a323882fb664150170496c
    "\n",
    "global B0\n",
    "\n",
    "# Constants\n",
    "q = 1; me = 0.3; Mp = 30*me; Bz = 2\n",
    "# Initial conditions\n",
    "v0z = 0\n",
    "r0 = np.zeros(3); v0 = np.array([0,2,v0z])  # Initial position and velocity\n",
    "B0 = np.array([0,0,Bz])                     # Magnetic fields\n",
    "\n",
    "# Frequency and radius\n",
    "we = q*B0[2]/me; wp = q*B0[2]/Mp            # Cyclotron frequencies    \n",
    "modv = np.sqrt(v0[0]**2+v0[1]**2)           # Perpendicular|B velocity\n",
    "rLe = me/q*modv/Bz; rLp = Mp/me*rLe         # Larmor radius\n",
    "\n",
    "print('Cyclotron frequencies      Larmor radius\\n   we = {0:4.2f}, wp = {1:4.2f}  \\\n",
    "rLe = {2}, rLp = {3}'.format(we,wp,rLe,rLp))\n",
    "\n",
<<<<<<< HEAD
    "tf = 150                                    # Final time\n",
    "# Computes the trajectories\n",
    "Qe,Qp = trajectories(np.concatenate((r0,v0)), [-q/me,q/Mp], tf)\n",
    "\n",
    "# Plots the trajectories\n",
    "animateFigure(Qe,Qp,tf)"
=======
    "tf = 150\n",
    "# Computes the trajectories\n",
    "QbyM = np.array([-q/me,q/Mp])               # Charge by mass ratio\n",
    "Q0 = np.concatenate((r0,v0))                # Initial values\n",
    "Qe,Qp = trajectories(Q0, QbyM, tf)          # Integrate the equations of movement\n",
    "\n",
    "# Plots the trajectories\n",
    "fig = plt.figure(figsize=(9,8))\n",
    "ax = fig.add_subplot(111, autoscale_on=False, xlim=(-5,25), ylim=(-15,15))\n",
    "\n",
    "line2, = ax.plot([], [], 'ro', markersize=12); line2b, = ax.plot([], [], 'r--')\n",
    "line1, = ax.plot([], [], 'bo'); line1b, = ax.plot([], [], 'b--')\n",
    "\n",
    "ani = animation.FuncAnimation(fig, animate, np.linspace(0,tf,5*tf), fargs=(Qe,Qp),\n",
    "                              blit=False, interval=1,\n",
    "                              repeat = False, init_func=initFigure)\n",
    "#ani.save('uniformB.mp4', fps=20)\n",
    "a = plt.show()"
>>>>>>> dbb07545f438d155b0a323882fb664150170496c
   ]
  },
  {
   "cell_type": "markdown",
   "metadata": {},
   "source": [
    "## Magnetic Moment"
   ]
  },
  {
   "cell_type": "markdown",
   "metadata": {},
   "source": [
    "Let's recall the definition of magnetic moment of a current flowing in a closed circuit:\n",
    "$$ \\mu = I A,$$\n",
    "where $I$ is the current and $A$ the area of the loop. In our case we have,\n",
    "$$ I = |q|\\frac{\\omega_c}{2\\pi},\\quad A = \\pi r_L^2 $$\n",
    "and, as $r_L=v_\\perp/\\omega_c$ substituting values, \n",
    "$$ \\boxed{\\color{blue}{\\mu = \\frac{|q|v_\\perp^2}{2\\omega_c} = \\frac{m v_\\perp^2}{2 B} = \\frac{W_\\perp}{B}}}. $$\n"
   ]
  },
  {
   "cell_type": "markdown",
   "metadata": {},
   "source": [
    "# $\\vec{E} \\neq \\vec{0}$, constant"
   ]
  },
  {
   "cell_type": "markdown",
   "metadata": {},
   "source": [
    "In this case we need to solve the full Lorentz equation:\n",
    "$$ \\vec{a} = \\frac{q}{m}\\left(\\vec{E}+\\vec{v}\\times\\vec{B}\\right). $$"
   ]
  },
  {
   "cell_type": "markdown",
   "metadata": {},
   "source": [
    "## How is the movement?"
   ]
  },
  {
   "cell_type": "markdown",
   "metadata": {
    "collapsed": true
   },
   "source": [
<<<<<<< HEAD
    "$\\color{red}{Class\\,discussion...}$\n",
    "\n",
    "$\\color{red}{...}$"
=======
    "$\\color{red}{Discussion...}$"
>>>>>>> dbb07545f438d155b0a323882fb664150170496c
   ]
  },
  {
   "cell_type": "markdown",
   "metadata": {},
   "source": [
    "Let's take $\\vec{E} = E_{\\perp,0}\\vec{u}_\\perp+E_{\\parallel,0}\\vec{u}_z$ and $\\vec{B}$ along z. We obtain\n",
    "\\begin{align}\n",
    "\\dot{v}_x &= \\frac{q}{m}(E_x + v_y B) \\\\\n",
    "\\dot{v}_y &= \\frac{q}{m}(E_y - v_x B) \\\\\n",
    "\\dot{v}_z &= \\frac{q}{m}E_\\parallel\n",
    "\\end{align}\n",
    "In the direction parallel to $\\vec{B}$, we just have the free-fall in the electric field:\n",
    "$$v_z = \\frac{q}{m}E_\\parallel t+v_{\\parallel,0}.$$\n",
    "In order to find a solution in the plane $\\perp$ to $\\vec{B}$, as in the previous case, we diferentiate the two equations and substitute the first derivatives to obtain the two equations\n",
    "\\begin{align}\n",
    "\\ddot{v}_x &= -\\omega_c^2(v_x - \\frac{E_y}{B}) \\\\\n",
    "\\ddot{v}_y &= -\\omega_c^2(v_y + \\frac{E_x}{B}) \\\\\n",
    "\\end{align}\n",
<<<<<<< HEAD
    "Making the substitution $u_x = v_x-E_y/B,\\; u_y = v_y+E_x/B$, we obtain for $u_x,\\;u_y$ the equations\n",
    "\n",
    "$$ \\ddot{u}_{x,y} = -\\omega_c^2 u_{x,y}, $$\n",
    "\n",
    "which are the same equations as in the previous case! I.e., in _xy_ the movement can be decomposed on a Larmor movement and a drift component $\\Rightarrow \\vec{v}_\\perp$ has a Larmor movement with a drift: $v_\\perp = v_\\bigcirc + v_d$.\n",
    "\n",
    ">*Note:* If we want to procede in a more formal way, we take again the derivative of any of the first two equations and obtain the *inhomogeneous equation for a harmonic oscilator*,\n",
    ">$$ \\ddot{v}_{x,y} + \\omega_c^2 v_{x,y} = \\pm\\omega_c^2 \\frac{E_{y,x}}{B}, $$\n",
    ">whose solution is the solution for the *homogeneous* case plus a particular solution.\n",
    "\n",
    "### How to compute $v_d$?\n",
    "\n",
    "If we average the Lorentz force over many gyroperiods, the average acceleration is *zero* and the only velocity component left is $v_d$:\n",
    "\n",
    "$$ 0 = \\frac{q}{m}(\\vec{E}+\\vec{v}_d\\times\\vec{B}). $$\n",
    "\n",
=======
    "Making the substitution $u_x = v_x-E_y/B,\\; u_y = v_y+E_x/B$, we obtain for $u_x,\\;u_y$ the same equations as in the previous case! I.e., in xy the movement can be decomposed on a Larmor movement and a drift component.\n",
    "\n",
    "*Note:* If we want to procede in a more formal way, we take again the derivative of any of the first two equations we obtain the *inhomogeneous equation for a harmonic oscilator*,\n",
    "$$ \\ddot{v}_{x,y} + \\omega_L^2 v_{x,y} = \\omega_L^2 \\frac{E_{y,x}}{B}, $$\n",
    "whose solution is the solution for the *homogeneous* case plus a particular solution\n",
    "$\\Rightarrow \\vec{v}_\\perp$ has a Larmor movement with a drift: $v_\\perp = v_\\bigcirc + v_d$.\n",
    "\n",
    "**How to compute $v_d$?**\n",
    "\n",
    "If we average the Lorentz force over many gyroperiods, the average acceleration is *zero* and the only velocity component left is $v_d$:\n",
    "$$ 0 = \\frac{q}{m}(\\vec{E}+\\vec{v}_d\\times\\vec{B}). $$\n",
>>>>>>> dbb07545f438d155b0a323882fb664150170496c
    "Taking the cross product with $\\vec{B}$ and using the vector formula in the appendix, we finally obtain\n",
    "\n",
    "$$ \\vec{v}_{d} = \\frac{\\vec{E}\\times\\vec{B}}{B^2}$$"
   ]
  },
  {
   "cell_type": "markdown",
   "metadata": {},
   "source": [
<<<<<<< HEAD
    "## Important points:"
=======
    "## Summary"
>>>>>>> dbb07545f438d155b0a323882fb664150170496c
   ]
  },
  {
   "cell_type": "markdown",
   "metadata": {},
   "source": [
<<<<<<< HEAD
    "* The velocity of any particle can be decomposed in three components:\n",
    "$$ \\vec{v} = \\vec{v}_\\parallel+\\vec{v}_{d}+\\vec{v}_{L} $$\n",
    "* The drift is $\\perp$ both to $\\vec{E}$ and $\\vec{B}$;\n",
    "* The drift is **independent** of m, q and $v_\\perp$.\n",
    "* On the **same direction** for electrons and ions $\\Rightarrow$ no net current!;\n",
    "\n",
=======
    "* The drift is $\\perp$ both to $\\vec{E}$ and $\\vec{B}$;\n",
    "* On the **same direction** for electrons and ions $\\Rightarrow$ no net current!;\n",
    "* The drift is independent of m, q and $v_\\perp$.\n",
>>>>>>> dbb07545f438d155b0a323882fb664150170496c
    "    * Exercise: What is the $\\vec{E}_\\perp$ field in an inertial frame moving with $\\vec{v}_d$? (*Hint*: use the Lorentz transformation for an electromagnetic field.)\n",
    "    \n",
    "---"
   ]
  },
  {
   "cell_type": "markdown",
   "metadata": {},
   "source": [
    "## Practice:"
   ]
  },
  {
   "cell_type": "markdown",
   "metadata": {},
   "source": [
    "We can easily extend the previous example to include the electric field. It is also interesting to see what happens with the kinetic energy and the Larmor radius.\n",
    "\n",
    "We include one more library to allow us to interact with the script and we leave the rendering of the figure to an external script."
   ]
  },
  {
   "cell_type": "code",
<<<<<<< HEAD
   "execution_count": 3,
   "metadata": {
    "collapsed": false
   },
   "outputs": [
    {
     "data": {
      "image/png": "iVBORw0KGgoAAAANSUhEUgAAAwwAAAJyCAYAAABpIEd+AAAABHNCSVQICAgIfAhkiAAAAAlwSFlz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\nGPofRmtFQU3qkTwAAAAASUVORK5CYII=\n",
      "text/plain": [
       "<matplotlib.figure.Figure at 0x7fa2825af908>"
      ]
     },
     "metadata": {},
     "output_type": "display_data"
    }
   ],
=======
   "execution_count": null,
   "metadata": {
    "collapsed": false
   },
   "outputs": [],
>>>>>>> dbb07545f438d155b0a323882fb664150170496c
   "source": [
    "%matplotlib inline\n",
    "from ipywidgets import interact\n",
    "from scripts import plotEB\n",
    "\n",
    "modv = lambda v: np.sqrt((v[:,0])**2+(v[:,1])**2)    # v-perpendicular\n",
    "\n",
    "def EqMovement(Q,t,QbyM):\n",
    "    \"\"\"Equations of movement\"\"\"\n",
    "    global E0,B0\n",
    "    v = Q[3:]\n",
    "    drdt = v                                    # Velocity\n",
    "    dvdt = QbyM*(E0+np.cross(v,B0))             # Acceleration\n",
<<<<<<< HEAD
    "    \n",
=======
>>>>>>> dbb07545f438d155b0a323882fb664150170496c
    "    return np.concatenate((drdt,dvdt))\n",
    "\n",
    "def crossEB(Exy=0, Ez=0, angle=320):\n",
    "    \"\"\"Movement of an electron and ion under constant \n",
    "    magnetic and electric fields\"\"\"\n",
    "    global E0,B0\n",
    "    \n",
    "    me = 1; Mp = 10*me; q = 1; Bz = 1 \n",
    "    QbyM = np.array([-q/me,q/Mp])               # Charge by mass ratio\n",
    "\n",
    "    r0 = np.zeros(3); v0 = np.array([0,1,0])\n",
    "    Q0 = np.concatenate((r0,v0))                # Initial values\n",
    "    E0 = np.array([Exy,Exy,Ez]); B0 = np.array([0,0,Bz])\n",
    "\n",
    "    tf = 350; NPts = 5*tf; t = np.linspace(0,tf,NPts)\n",
    "    # Computes the trajectories\n",
    "    Qe,Qp = trajectories(Q0, QbyM, tf)          # Integrate the equations of movement\n",
    "    \n",
    "    # Drift velocity\n",
    "    vd = np.cross(E0,B0)/np.dot(B0,B0)            # vd = (EXB)/(B|B)\n",
    "    rd = np.array([t,vd[0]*t,vd[1]*t]).T\n",
    "    \n",
    "    # Larmor radius\n",
    "    rLe = me/q*modv(Qe[:,3:5])/Bz; rLp = Mp/q*modv(Qp[:,3:5])/Bz\n",
    "    \n",
    "    # Kinetic energy\n",
    "    We = me/2*(Qe[:,3]**2+Qe[:,4]**2+Qe[:,5]**2)\n",
    "    Wp = Mp/2*(Qp[:,3]**2+Qp[:,4]**2+Qp[:,5]**2)\n",
    "    \n",
    "    # Plot the trajectories and Larmor radius\n",
    "    plotEB.plot3d(Qe, Qp, rd, t, rLe, rLp, We, Wp, angle)\n",
    "\n",
    "dummy = interact(crossEB, Exy=(0,1), Ez=(0,0.2), angle=(180,360))"
   ]
  },
  {
   "cell_type": "markdown",
   "metadata": {},
   "source": [
    "# General force, $\\vec{F}$"
   ]
  },
  {
   "cell_type": "markdown",
   "metadata": {},
   "source": [
    "The result above can be generalized for any constant and uniform force such that $\\vec{F}\\cdot\\vec{B} = 0$:\n",
    "\n",
<<<<<<< HEAD
    "$$ \\vec{v}_{d} = \\frac{\\vec{F}\\times\\vec{B}}{q B^2}.$$\n",
    "\n",
    "In particular, for the gravitational field, we have a drift \n",
    "\n",
    "$$v_g = \\frac{m}{q}\\frac{\\vec{g}\\times\\vec{B}}{B^2}.$$\n",
    "\n",
    "In this case **the direction of drift depends on the signal of** $q \\Rightarrow$ for positive and negative charges, we have a current!"
=======
    "$$ \\vec{v}_{d} = \\frac{\\vec{F}\\times\\vec{B}}{q B^2}$$\n",
    "\n",
    "In particular, for the gravitational field, we have a drift $v_g = \\frac{m}{q}\\frac{\\vec{g}\\times\\vec{B}}{B^2}$. In this case **the direction of drift depends on the signal of** $q \\Rightarrow$ for positive and negative charges, we have a current!\n",
    "\n",
    "The velocity of any particle can be decomposed in three components:\n",
    "$$ \\vec{v} = \\vec{v}_\\parallel+\\vec{v}_{d}+\\vec{v}_{L} $$"
>>>>>>> dbb07545f438d155b0a323882fb664150170496c
   ]
  },
  {
   "cell_type": "markdown",
   "metadata": {},
   "source": [
    "# Appendix - Useful vector formulae"
   ]
  },
  {
   "cell_type": "markdown",
   "metadata": {},
   "source": [
    "$$ \\vec{A}\\times(\\vec{B}\\times\\vec{C}) = (\\vec{A}\\cdot\\vec{C})\\vec{B}-(\\vec{A}\\cdot\\vec{B})\\vec{C} $$"
   ]
  }
 ],
 "metadata": {
  "kernelspec": {
   "display_name": "Python 3",
   "language": "python",
   "name": "python3"
  },
  "language_info": {
   "codemirror_mode": {
    "name": "ipython",
    "version": 3
   },
   "file_extension": ".py",
   "mimetype": "text/x-python",
   "name": "python",
   "nbconvert_exporter": "python",
   "pygments_lexer": "ipython3",
<<<<<<< HEAD
   "version": "3.5.0+"
=======
   "version": "3.4.3"
>>>>>>> dbb07545f438d155b0a323882fb664150170496c
  }
 },
 "nbformat": 4,
 "nbformat_minor": 0
}
